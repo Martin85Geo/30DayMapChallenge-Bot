{
 "cells": [
  {
   "cell_type": "code",
   "execution_count": 1,
   "metadata": {
    "scrolled": true
   },
   "outputs": [],
   "source": [
    "import re\n",
    "import tweepy\n",
    "import pandas as pd\n",
    "from tweepy import OAuthHandler\n",
    "import yaml\n",
    "from tabulate import tabulate\n",
    "\n",
    "# from http.client import IncompleteRead\n",
    "# import threading \n",
    "# import datetime \n",
    "    \n",
    "    \n",
    "with open('credential1.yaml') as f:\n",
    "    config = yaml.load(f, Loader=yaml.SafeLoader)\n",
    "    \n",
    "consumer_key = config['consumer_key']\n",
    "consumer_secret = config['consumer_secret']\n",
    "access_token = config['access_token']\n",
    "access_secret = config['access_secret']\n",
    " \n",
    "auth = OAuthHandler(consumer_key, consumer_secret)\n",
    "auth.set_access_token(access_token, access_secret)\n",
    "\n",
    "api = tweepy.API(auth, wait_on_rate_limit=True, wait_on_rate_limit_notify=True)"
   ]
  },
  {
   "cell_type": "markdown",
   "metadata": {},
   "source": [
    "#### Set date"
   ]
  },
  {
   "cell_type": "code",
   "execution_count": 31,
   "metadata": {},
   "outputs": [],
   "source": [
    "date = '2020-11-03'\n",
    "start = '2020-11-03 00:00:00'\n",
    "end = '2020-11-04 00:00:00'"
   ]
  },
  {
   "cell_type": "code",
   "execution_count": 188,
   "metadata": {},
   "outputs": [],
   "source": [
    "# df = pd.read_csv(\"./data/{}.csv\".format(date))\n",
    "# print(\"{}.csv\".format(date))"
   ]
  },
  {
   "cell_type": "markdown",
   "metadata": {},
   "source": [
    "#### Collect tweets with hashtag `#30mapchallenges`"
   ]
  },
  {
   "cell_type": "code",
   "execution_count": 15,
   "metadata": {},
   "outputs": [],
   "source": [
    "def collect_tweets(search_words, since):\n",
    "    #tweets\n",
    "    tweet_id = []\n",
    "    tweet_text = []\n",
    "    language = []\n",
    "    tweet_created_at = []\n",
    "    retweet_count = []\n",
    "    favorite_count= []\n",
    "    hashtags= []\n",
    "    #users\n",
    "    user_id = []\n",
    "    user_name = []\n",
    "    user_screen_name = []\n",
    "    user_loc = []\n",
    "    user_follower = []\n",
    "    friends_count = []\n",
    "    #media\n",
    "    media = []\n",
    "    for tweet in tweepy.Cursor(api.search,\n",
    "                               q=search_words,\n",
    "                               since= since, \n",
    "                               include_entities=True, \n",
    "                               tweet_mode=\"extended\").items():\n",
    "        #tweets\n",
    "        tweet_id.append(tweet.id)\n",
    "        tweet_text.append(tweet.full_text)\n",
    "        language.append(tweet.lang)\n",
    "        tweet_created_at.append(tweet.created_at)\n",
    "        retweet_count.append(tweet.retweet_count)\n",
    "        favorite_count.append(tweet.favorite_count)\n",
    "        try:\n",
    "            hashtags.append(tweet.entities.get('hashtags', []))\n",
    "        except KeyError:\n",
    "            pass\n",
    "#         hashtags.append(tweet.entities.hashtags)\n",
    "        #users\n",
    "        user_id.append(tweet.user.id)\n",
    "        user_name.append(tweet.user.name)\n",
    "        user_screen_name.append(tweet.user.screen_name)\n",
    "        user_loc.append(tweet.user.location)\n",
    "        user_follower.append(tweet.user.followers_count)\n",
    "        friends_count.append(tweet.user.friends_count)\n",
    "        #media\n",
    "        try:\n",
    "            media.append(tweet.entities.get('media')[0].get('media_url'))\n",
    "#             print(tweet.entities.get('media'))\n",
    "        except Exception as e:\n",
    "            media.append(None)\n",
    "        #print([tweet.user.name,tweet.created_at,tweet.text])\n",
    "    df = pd.DataFrame({'tweet_id':tweet_id,\n",
    "                        'tweet_text':tweet_text,\n",
    "                        'language':language,\n",
    "                        'tweet_created_at':tweet_created_at,\n",
    "                        'retweet':retweet_count,\n",
    "                        'favorite':favorite_count,\n",
    "                        'hashtags':hashtags,\n",
    "                        'user_id':user_id,\n",
    "                        'user_name':user_name,\n",
    "                        'user':user_screen_name,\n",
    "                        'user_loc':user_loc,\n",
    "                        'user_follower':user_follower,\n",
    "                        'friends_count':friends_count,\n",
    "                        'media':media})\n",
    "            \n",
    "    return df"
   ]
  },
  {
   "cell_type": "code",
   "execution_count": 32,
   "metadata": {},
   "outputs": [
    {
     "name": "stderr",
     "output_type": "stream",
     "text": [
      "Rate limit reached. Sleeping for: 121\n"
     ]
    }
   ],
   "source": [
    "search_words = \"#30DayMapChallenge -filter:retweets\"\n",
    "since = \"2020-10-30\"\n",
    "\n",
    "df = collect_tweets(search_words, since)\n",
    "\n",
    "df = df[(df.tweet_created_at >= start) & \n",
    "   (df.tweet_created_at <= end)]\n",
    "\n",
    "# df1 = df[df['tweet_text'].str.contains(\"points\") | df['tweet_text'].str.contains(\"day 1\")]\n",
    "\n",
    "df = df[df['media'].notnull()]\n",
    "df['tweet_url'] = df['tweet_text'].str.extract('(?P<url>https?://[^\\s]+)', expand=False).str.strip()\n",
    "\n",
    "\n",
    "df.to_csv(\"./data/{}.csv\".format(date))"
   ]
  },
  {
   "cell_type": "code",
   "execution_count": 33,
   "metadata": {},
   "outputs": [
    {
     "data": {
      "text/html": [
       "<div>\n",
       "<style scoped>\n",
       "    .dataframe tbody tr th:only-of-type {\n",
       "        vertical-align: middle;\n",
       "    }\n",
       "\n",
       "    .dataframe tbody tr th {\n",
       "        vertical-align: top;\n",
       "    }\n",
       "\n",
       "    .dataframe thead th {\n",
       "        text-align: right;\n",
       "    }\n",
       "</style>\n",
       "<table border=\"1\" class=\"dataframe\">\n",
       "  <thead>\n",
       "    <tr style=\"text-align: right;\">\n",
       "      <th></th>\n",
       "      <th>tweet_id</th>\n",
       "      <th>tweet_text</th>\n",
       "      <th>language</th>\n",
       "      <th>tweet_created_at</th>\n",
       "      <th>retweet</th>\n",
       "      <th>favorite</th>\n",
       "      <th>hashtags</th>\n",
       "      <th>user_id</th>\n",
       "      <th>user_name</th>\n",
       "      <th>user</th>\n",
       "      <th>user_loc</th>\n",
       "      <th>user_follower</th>\n",
       "      <th>friends_count</th>\n",
       "      <th>media</th>\n",
       "      <th>tweet_url</th>\n",
       "    </tr>\n",
       "  </thead>\n",
       "  <tbody>\n",
       "    <tr>\n",
       "      <th>164</th>\n",
       "      <td>1323776467025756162</td>\n",
       "      <td>#30DayMapChallenge  Día3. Dada una distancia, ...</td>\n",
       "      <td>es</td>\n",
       "      <td>2020-11-03 23:57:58</td>\n",
       "      <td>3</td>\n",
       "      <td>9</td>\n",
       "      <td>[{'text': '30DayMapChallenge', 'indices': [0, ...</td>\n",
       "      <td>28714934</td>\n",
       "      <td>Alonso Cortés</td>\n",
       "      <td>aloCrts</td>\n",
       "      <td>Mexico DF</td>\n",
       "      <td>122</td>\n",
       "      <td>411</td>\n",
       "      <td>http://pbs.twimg.com/media/El79jHnXYAAL6EF.jpg</td>\n",
       "      <td>https://t.co/dUaqwr15h9</td>\n",
       "    </tr>\n",
       "    <tr>\n",
       "      <th>165</th>\n",
       "      <td>1323776158807269377</td>\n",
       "      <td>Day 3 #30DayMapChallenge : Poligons\\nMap: Polí...</td>\n",
       "      <td>es</td>\n",
       "      <td>2020-11-03 23:56:45</td>\n",
       "      <td>1</td>\n",
       "      <td>4</td>\n",
       "      <td>[{'text': '30DayMapChallenge', 'indices': [6, ...</td>\n",
       "      <td>332567823</td>\n",
       "      <td>∑∂gαr∂ ∫.  Grαnα∂0∫</td>\n",
       "      <td>Edgards04</td>\n",
       "      <td>San Salvador, El Salvador</td>\n",
       "      <td>956</td>\n",
       "      <td>981</td>\n",
       "      <td>http://pbs.twimg.com/media/El7-tsCWoAAYyEx.jpg</td>\n",
       "      <td>https://t.co/N9soCjvDOZ</td>\n",
       "    </tr>\n",
       "    <tr>\n",
       "      <th>166</th>\n",
       "      <td>1323775135002685440</td>\n",
       "      <td>This is a sliver of my home city of Lodz, PL u...</td>\n",
       "      <td>en</td>\n",
       "      <td>2020-11-03 23:52:41</td>\n",
       "      <td>2</td>\n",
       "      <td>8</td>\n",
       "      <td>[{'text': '30DayMapChallenge', 'indices': [257...</td>\n",
       "      <td>1513661708</td>\n",
       "      <td>Andy Rutkowski</td>\n",
       "      <td>andy_rutkowski</td>\n",
       "      <td></td>\n",
       "      <td>550</td>\n",
       "      <td>1388</td>\n",
       "      <td>http://pbs.twimg.com/media/El7-RiyU0AAWqoO.jpg</td>\n",
       "      <td>https://t.co/eJ5BXo3zfH</td>\n",
       "    </tr>\n",
       "    <tr>\n",
       "      <th>167</th>\n",
       "      <td>1323773467406184448</td>\n",
       "      <td>#30DayMapChallenge Day 3, Polygon. Algo tarde ...</td>\n",
       "      <td>es</td>\n",
       "      <td>2020-11-03 23:46:03</td>\n",
       "      <td>3</td>\n",
       "      <td>15</td>\n",
       "      <td>[{'text': '30DayMapChallenge', 'indices': [0, ...</td>\n",
       "      <td>384907052</td>\n",
       "      <td>Leticia Luna</td>\n",
       "      <td>Letyludigital</td>\n",
       "      <td>México</td>\n",
       "      <td>1121</td>\n",
       "      <td>2447</td>\n",
       "      <td>http://pbs.twimg.com/media/El78W8lU4AEnMV6.jpg</td>\n",
       "      <td>https://t.co/KX5vUCsQE0</td>\n",
       "    </tr>\n",
       "    <tr>\n",
       "      <th>168</th>\n",
       "      <td>1323771999202758656</td>\n",
       "      <td>#30DayMapChallenge, day 3: Polygons - #Belize'...</td>\n",
       "      <td>en</td>\n",
       "      <td>2020-11-03 23:40:13</td>\n",
       "      <td>2</td>\n",
       "      <td>2</td>\n",
       "      <td>[{'text': '30DayMapChallenge', 'indices': [0, ...</td>\n",
       "      <td>731808469301493760</td>\n",
       "      <td>🇧🇿 Belize GEO 🛰️</td>\n",
       "      <td>BZgeo</td>\n",
       "      <td>Belize</td>\n",
       "      <td>4116</td>\n",
       "      <td>4349</td>\n",
       "      <td>http://pbs.twimg.com/media/El768z-WkAEte_a.png</td>\n",
       "      <td>https://t.co/DqZ2Q0gGAO</td>\n",
       "    </tr>\n",
       "    <tr>\n",
       "      <th>...</th>\n",
       "      <td>...</td>\n",
       "      <td>...</td>\n",
       "      <td>...</td>\n",
       "      <td>...</td>\n",
       "      <td>...</td>\n",
       "      <td>...</td>\n",
       "      <td>...</td>\n",
       "      <td>...</td>\n",
       "      <td>...</td>\n",
       "      <td>...</td>\n",
       "      <td>...</td>\n",
       "      <td>...</td>\n",
       "      <td>...</td>\n",
       "      <td>...</td>\n",
       "      <td>...</td>\n",
       "    </tr>\n",
       "    <tr>\n",
       "      <th>631</th>\n",
       "      <td>1323422517210583041</td>\n",
       "      <td>En el día 2 (líneas) del #30DayMapChallenge de...</td>\n",
       "      <td>es</td>\n",
       "      <td>2020-11-03 00:31:30</td>\n",
       "      <td>1</td>\n",
       "      <td>11</td>\n",
       "      <td>[{'text': '30DayMapChallenge', 'indices': [25,...</td>\n",
       "      <td>43331985</td>\n",
       "      <td>Gonzalo Talavera Forlin</td>\n",
       "      <td>gonzalotalavera</td>\n",
       "      <td>Lima, Perú</td>\n",
       "      <td>1503</td>\n",
       "      <td>837</td>\n",
       "      <td>http://pbs.twimg.com/media/El29QVcXgAEfp3v.png</td>\n",
       "      <td>https://t.co/AMOFPT7LtA</td>\n",
       "    </tr>\n",
       "    <tr>\n",
       "      <th>633</th>\n",
       "      <td>1323419075008106496</td>\n",
       "      <td>Day 3 of #30DayMapChallenge - Polygons\\n\\nVoro...</td>\n",
       "      <td>en</td>\n",
       "      <td>2020-11-03 00:17:50</td>\n",
       "      <td>1</td>\n",
       "      <td>0</td>\n",
       "      <td>[{'text': '30DayMapChallenge', 'indices': [9, ...</td>\n",
       "      <td>47001569</td>\n",
       "      <td>ぞあ.</td>\n",
       "      <td>k_zoar</td>\n",
       "      <td>ジオイドと地表の狭間</td>\n",
       "      <td>828</td>\n",
       "      <td>751</td>\n",
       "      <td>http://pbs.twimg.com/media/El24WX0U8AA21FH.jpg</td>\n",
       "      <td>https://t.co/4GmKEQNjfW</td>\n",
       "    </tr>\n",
       "    <tr>\n",
       "      <th>634</th>\n",
       "      <td>1323417831656976385</td>\n",
       "      <td>Day 3 of #30DayMapChallenge - Polygons\\n\\nIrri...</td>\n",
       "      <td>en</td>\n",
       "      <td>2020-11-03 00:12:53</td>\n",
       "      <td>5</td>\n",
       "      <td>53</td>\n",
       "      <td>[{'text': '30DayMapChallenge', 'indices': [9, ...</td>\n",
       "      <td>93839237</td>\n",
       "      <td>Andrew DC</td>\n",
       "      <td>andrewdc_nz</td>\n",
       "      <td>Christchurch City, New Zealand</td>\n",
       "      <td>404</td>\n",
       "      <td>165</td>\n",
       "      <td>http://pbs.twimg.com/media/El25ZwTU4AEpXh5.jpg</td>\n",
       "      <td>https://t.co/jDLNYy4Nn0</td>\n",
       "    </tr>\n",
       "    <tr>\n",
       "      <th>635</th>\n",
       "      <td>1323416420500135936</td>\n",
       "      <td>In between my 14 hours of election volunteerin...</td>\n",
       "      <td>en</td>\n",
       "      <td>2020-11-03 00:07:17</td>\n",
       "      <td>2</td>\n",
       "      <td>20</td>\n",
       "      <td>[{'text': '30DayMapChallenge', 'indices': [134...</td>\n",
       "      <td>2832470440</td>\n",
       "      <td>Katie Jolly</td>\n",
       "      <td>katiejolly6</td>\n",
       "      <td>Seattle, WA</td>\n",
       "      <td>1099</td>\n",
       "      <td>1651</td>\n",
       "      <td>http://pbs.twimg.com/media/El23n1eU0AA8swb.jpg</td>\n",
       "      <td>https://t.co/wiscTcmzhY</td>\n",
       "    </tr>\n",
       "    <tr>\n",
       "      <th>636</th>\n",
       "      <td>1323415408024563712</td>\n",
       "      <td>20 years ago it was just an alder filled grave...</td>\n",
       "      <td>en</td>\n",
       "      <td>2020-11-03 00:03:15</td>\n",
       "      <td>1</td>\n",
       "      <td>3</td>\n",
       "      <td>[{'text': '30DayMapChallenge', 'indices': [164...</td>\n",
       "      <td>3189066967</td>\n",
       "      <td>Hans Thompson</td>\n",
       "      <td>datamanAK</td>\n",
       "      <td>Anchorage, AK</td>\n",
       "      <td>247</td>\n",
       "      <td>262</td>\n",
       "      <td>http://pbs.twimg.com/media/El23KqPVoAAFdpI.png</td>\n",
       "      <td>https://t.co/SCLU5kQOMN</td>\n",
       "    </tr>\n",
       "  </tbody>\n",
       "</table>\n",
       "<p>404 rows × 15 columns</p>\n",
       "</div>"
      ],
      "text/plain": [
       "                tweet_id                                         tweet_text  \\\n",
       "164  1323776467025756162  #30DayMapChallenge  Día3. Dada una distancia, ...   \n",
       "165  1323776158807269377  Day 3 #30DayMapChallenge : Poligons\\nMap: Polí...   \n",
       "166  1323775135002685440  This is a sliver of my home city of Lodz, PL u...   \n",
       "167  1323773467406184448  #30DayMapChallenge Day 3, Polygon. Algo tarde ...   \n",
       "168  1323771999202758656  #30DayMapChallenge, day 3: Polygons - #Belize'...   \n",
       "..                   ...                                                ...   \n",
       "631  1323422517210583041  En el día 2 (líneas) del #30DayMapChallenge de...   \n",
       "633  1323419075008106496  Day 3 of #30DayMapChallenge - Polygons\\n\\nVoro...   \n",
       "634  1323417831656976385  Day 3 of #30DayMapChallenge - Polygons\\n\\nIrri...   \n",
       "635  1323416420500135936  In between my 14 hours of election volunteerin...   \n",
       "636  1323415408024563712  20 years ago it was just an alder filled grave...   \n",
       "\n",
       "    language    tweet_created_at  retweet  favorite  \\\n",
       "164       es 2020-11-03 23:57:58        3         9   \n",
       "165       es 2020-11-03 23:56:45        1         4   \n",
       "166       en 2020-11-03 23:52:41        2         8   \n",
       "167       es 2020-11-03 23:46:03        3        15   \n",
       "168       en 2020-11-03 23:40:13        2         2   \n",
       "..       ...                 ...      ...       ...   \n",
       "631       es 2020-11-03 00:31:30        1        11   \n",
       "633       en 2020-11-03 00:17:50        1         0   \n",
       "634       en 2020-11-03 00:12:53        5        53   \n",
       "635       en 2020-11-03 00:07:17        2        20   \n",
       "636       en 2020-11-03 00:03:15        1         3   \n",
       "\n",
       "                                              hashtags             user_id  \\\n",
       "164  [{'text': '30DayMapChallenge', 'indices': [0, ...            28714934   \n",
       "165  [{'text': '30DayMapChallenge', 'indices': [6, ...           332567823   \n",
       "166  [{'text': '30DayMapChallenge', 'indices': [257...          1513661708   \n",
       "167  [{'text': '30DayMapChallenge', 'indices': [0, ...           384907052   \n",
       "168  [{'text': '30DayMapChallenge', 'indices': [0, ...  731808469301493760   \n",
       "..                                                 ...                 ...   \n",
       "631  [{'text': '30DayMapChallenge', 'indices': [25,...            43331985   \n",
       "633  [{'text': '30DayMapChallenge', 'indices': [9, ...            47001569   \n",
       "634  [{'text': '30DayMapChallenge', 'indices': [9, ...            93839237   \n",
       "635  [{'text': '30DayMapChallenge', 'indices': [134...          2832470440   \n",
       "636  [{'text': '30DayMapChallenge', 'indices': [164...          3189066967   \n",
       "\n",
       "                   user_name             user                        user_loc  \\\n",
       "164            Alonso Cortés          aloCrts                       Mexico DF   \n",
       "165      ∑∂gαr∂ ∫.  Grαnα∂0∫        Edgards04       San Salvador, El Salvador   \n",
       "166           Andy Rutkowski   andy_rutkowski                                   \n",
       "167             Leticia Luna    Letyludigital                          México   \n",
       "168         🇧🇿 Belize GEO 🛰️            BZgeo                          Belize   \n",
       "..                       ...              ...                             ...   \n",
       "631  Gonzalo Talavera Forlin  gonzalotalavera                      Lima, Perú   \n",
       "633                      ぞあ.           k_zoar                      ジオイドと地表の狭間   \n",
       "634                Andrew DC      andrewdc_nz  Christchurch City, New Zealand   \n",
       "635              Katie Jolly      katiejolly6                     Seattle, WA   \n",
       "636            Hans Thompson        datamanAK                   Anchorage, AK   \n",
       "\n",
       "     user_follower  friends_count  \\\n",
       "164            122            411   \n",
       "165            956            981   \n",
       "166            550           1388   \n",
       "167           1121           2447   \n",
       "168           4116           4349   \n",
       "..             ...            ...   \n",
       "631           1503            837   \n",
       "633            828            751   \n",
       "634            404            165   \n",
       "635           1099           1651   \n",
       "636            247            262   \n",
       "\n",
       "                                              media                tweet_url  \n",
       "164  http://pbs.twimg.com/media/El79jHnXYAAL6EF.jpg  https://t.co/dUaqwr15h9  \n",
       "165  http://pbs.twimg.com/media/El7-tsCWoAAYyEx.jpg  https://t.co/N9soCjvDOZ  \n",
       "166  http://pbs.twimg.com/media/El7-RiyU0AAWqoO.jpg  https://t.co/eJ5BXo3zfH  \n",
       "167  http://pbs.twimg.com/media/El78W8lU4AEnMV6.jpg  https://t.co/KX5vUCsQE0  \n",
       "168  http://pbs.twimg.com/media/El768z-WkAEte_a.png  https://t.co/DqZ2Q0gGAO  \n",
       "..                                              ...                      ...  \n",
       "631  http://pbs.twimg.com/media/El29QVcXgAEfp3v.png  https://t.co/AMOFPT7LtA  \n",
       "633  http://pbs.twimg.com/media/El24WX0U8AA21FH.jpg  https://t.co/4GmKEQNjfW  \n",
       "634  http://pbs.twimg.com/media/El25ZwTU4AEpXh5.jpg  https://t.co/jDLNYy4Nn0  \n",
       "635  http://pbs.twimg.com/media/El23n1eU0AA8swb.jpg  https://t.co/wiscTcmzhY  \n",
       "636  http://pbs.twimg.com/media/El23KqPVoAAFdpI.png  https://t.co/SCLU5kQOMN  \n",
       "\n",
       "[404 rows x 15 columns]"
      ]
     },
     "execution_count": 33,
     "metadata": {},
     "output_type": "execute_result"
    }
   ],
   "source": [
    "df"
   ]
  },
  {
   "cell_type": "markdown",
   "metadata": {},
   "source": [
    "### late entry (only for day 2)"
   ]
  },
  {
   "cell_type": "code",
   "execution_count": 7,
   "metadata": {},
   "outputs": [],
   "source": [
    "# df[df['tweet_text'].str.contains('points', case=False) & \n",
    "#    df['tweet_text'].str.contains('day 1', case=False)].to_csv(\"./data/{}_late.csv\".format(date))"
   ]
  },
  {
   "cell_type": "code",
   "execution_count": 8,
   "metadata": {},
   "outputs": [],
   "source": [
    "# df = df.drop(df[df['tweet_text'].str.contains('points', case=False) & \n",
    "#                 df['tweet_text'].str.contains('day 1', case=False)].index)"
   ]
  },
  {
   "cell_type": "markdown",
   "metadata": {},
   "source": [
    "---"
   ]
  },
  {
   "cell_type": "markdown",
   "metadata": {},
   "source": [
    "## Overview"
   ]
  },
  {
   "cell_type": "code",
   "execution_count": 16,
   "metadata": {},
   "outputs": [
    {
     "data": {
      "text/html": [
       "<div>\n",
       "<style scoped>\n",
       "    .dataframe tbody tr th:only-of-type {\n",
       "        vertical-align: middle;\n",
       "    }\n",
       "\n",
       "    .dataframe tbody tr th {\n",
       "        vertical-align: top;\n",
       "    }\n",
       "\n",
       "    .dataframe thead th {\n",
       "        text-align: right;\n",
       "    }\n",
       "</style>\n",
       "<table border=\"1\" class=\"dataframe\">\n",
       "  <thead>\n",
       "    <tr style=\"text-align: right;\">\n",
       "      <th></th>\n",
       "      <th>retweet</th>\n",
       "      <th>favorite</th>\n",
       "      <th>user_follower</th>\n",
       "      <th>friends_count</th>\n",
       "    </tr>\n",
       "  </thead>\n",
       "  <tbody>\n",
       "    <tr>\n",
       "      <th>count</th>\n",
       "      <td>393.000000</td>\n",
       "      <td>393.000000</td>\n",
       "      <td>393.000000</td>\n",
       "      <td>393.000000</td>\n",
       "    </tr>\n",
       "    <tr>\n",
       "      <th>mean</th>\n",
       "      <td>3.249364</td>\n",
       "      <td>16.778626</td>\n",
       "      <td>1409.720102</td>\n",
       "      <td>662.134860</td>\n",
       "    </tr>\n",
       "    <tr>\n",
       "      <th>std</th>\n",
       "      <td>5.836978</td>\n",
       "      <td>36.911358</td>\n",
       "      <td>5689.031444</td>\n",
       "      <td>857.301559</td>\n",
       "    </tr>\n",
       "    <tr>\n",
       "      <th>min</th>\n",
       "      <td>0.000000</td>\n",
       "      <td>0.000000</td>\n",
       "      <td>0.000000</td>\n",
       "      <td>0.000000</td>\n",
       "    </tr>\n",
       "    <tr>\n",
       "      <th>25%</th>\n",
       "      <td>1.000000</td>\n",
       "      <td>4.000000</td>\n",
       "      <td>77.000000</td>\n",
       "      <td>158.000000</td>\n",
       "    </tr>\n",
       "    <tr>\n",
       "      <th>50%</th>\n",
       "      <td>2.000000</td>\n",
       "      <td>8.000000</td>\n",
       "      <td>280.000000</td>\n",
       "      <td>335.000000</td>\n",
       "    </tr>\n",
       "    <tr>\n",
       "      <th>75%</th>\n",
       "      <td>4.000000</td>\n",
       "      <td>18.000000</td>\n",
       "      <td>876.000000</td>\n",
       "      <td>780.000000</td>\n",
       "    </tr>\n",
       "    <tr>\n",
       "      <th>max</th>\n",
       "      <td>91.000000</td>\n",
       "      <td>624.000000</td>\n",
       "      <td>80333.000000</td>\n",
       "      <td>5454.000000</td>\n",
       "    </tr>\n",
       "  </tbody>\n",
       "</table>\n",
       "</div>"
      ],
      "text/plain": [
       "          retweet    favorite  user_follower  friends_count\n",
       "count  393.000000  393.000000     393.000000     393.000000\n",
       "mean     3.249364   16.778626    1409.720102     662.134860\n",
       "std      5.836978   36.911358    5689.031444     857.301559\n",
       "min      0.000000    0.000000       0.000000       0.000000\n",
       "25%      1.000000    4.000000      77.000000     158.000000\n",
       "50%      2.000000    8.000000     280.000000     335.000000\n",
       "75%      4.000000   18.000000     876.000000     780.000000\n",
       "max     91.000000  624.000000   80333.000000    5454.000000"
      ]
     },
     "execution_count": 16,
     "metadata": {},
     "output_type": "execute_result"
    }
   ],
   "source": [
    "df[['retweet','favorite', 'user_follower', 'friends_count']].describe()"
   ]
  },
  {
   "cell_type": "markdown",
   "metadata": {},
   "source": [
    "## Top favorited `#30mapchallenges` post"
   ]
  },
  {
   "cell_type": "code",
   "execution_count": 34,
   "metadata": {},
   "outputs": [],
   "source": [
    "df_fav15 = df.sort_values(by='favorite', ascending=False).head(15)\n",
    "df_fav15 = df_fav15[['user', 'retweet', 'favorite', 'media']]\n",
    "df_fav15['user'] = '**[@' + df['user'] +']('+ df['tweet_url']+')**'\n",
    "df_fav15['media'] = '![](' + df['media'] +')'"
   ]
  },
  {
   "cell_type": "code",
   "execution_count": 35,
   "metadata": {},
   "outputs": [
    {
     "name": "stdout",
     "output_type": "stream",
     "text": [
      "|     | user                                          |   retweet |   favorite | media                                                                                        |\n",
      "|-----|-----------------------------------------------|-----------|------------|----------------------------------------------------------------------------------------------|\n",
      "| 571 | **[@tjukanov](https://t.co/uLN9PJeg1k)**      |        21 |        239 | ![](http://pbs.twimg.com/media/El4Qv6tW0AEoreL.jpg)                                          |\n",
      "| 371 | **[@Helenmckmck](https://t.co/pPbs6Py9ZI)**   |        21 |        153 | ![](http://pbs.twimg.com/media/El5-yUKWkAIS7OD.jpg)                                          |\n",
      "| 538 | **[@kennethfield](https://t.co/O5is4PtFCb)**  |        17 |        138 | ![](http://pbs.twimg.com/media/El285DrUcAA_NEv.jpg)                                          |\n",
      "| 506 | **[@dr_xeo](https://t.co/uUujVgV2ql)**        |        25 |         92 | ![](http://pbs.twimg.com/media/El4w90wXEAAu2gp.jpg)                                          |\n",
      "| 591 | **[@thekuhugupta](https://t.co/PBBwm0kMKT)**  |         6 |         90 | ![](http://pbs.twimg.com/media/El3v1L8VMAEMWbu.jpg)                                          |\n",
      "| 191 | **[@moaimx](https://t.co/aSJFhEp7za)**        |        18 |         80 | ![](http://pbs.twimg.com/media/El7kZTGXEAIHeIy.jpg)                                          |\n",
      "| 395 | **[@darenw](https://t.co/IVnh4RDG2q)**        |         5 |         75 | ![](http://pbs.twimg.com/media/El5z7aVXYAIQl6N.jpg)                                          |\n",
      "| 408 | **[@rajbhagatt](https://t.co/PqM78uwwOA)**    |         2 |         64 | ![](http://pbs.twimg.com/media/El5vxefVMAAeOPJ.jpg)                                          |\n",
      "| 359 | **[@evelynuuemaa](https://t.co/gM1T6SJAdj)**  |         1 |         55 | ![](http://pbs.twimg.com/media/El6DH2aXIAE4-an.jpg)                                          |\n",
      "| 603 | **[@ibltzr](https://t.co/HN0CbDLZYK)**        |         7 |         54 | ![](http://pbs.twimg.com/ext_tw_video_thumb/1323462184953913349/pu/img/DpZX-WVqVGDMg8M4.jpg) |\n",
      "| 316 | **[@inari_ta](https://t.co/x1OGstgfpL)**      |         4 |         53 | ![](http://pbs.twimg.com/media/El6eKiQXEAIIgID.png)                                          |\n",
      "| 634 | **[@andrewdc_nz](https://t.co/jDLNYy4Nn0)**   |         5 |         53 | ![](http://pbs.twimg.com/media/El25ZwTU4AEpXh5.jpg)                                          |\n",
      "| 175 | **[@Valtzen](https://t.co/3SKLXYljS9)**       |        10 |         50 | ![](http://pbs.twimg.com/media/El7uBX8WkAA7Ujo.jpg)                                          |\n",
      "| 378 | **[@her_data](https://t.co/XrDZrvLeLi)**      |         7 |         49 | ![](http://pbs.twimg.com/media/El57QGJXYAI8kmH.jpg)                                          |\n",
      "| 258 | **[@stevefaeembra](https://t.co/5CVVMCiPaa)** |         7 |         49 | ![](http://pbs.twimg.com/media/El6_d97XgAAZewD.jpg)                                          |\n"
     ]
    }
   ],
   "source": [
    "print(tabulate(df_fav15, headers='keys', tablefmt='github'))"
   ]
  },
  {
   "cell_type": "markdown",
   "metadata": {},
   "source": [
    "## Top retweeted `#30mapchallenges` post"
   ]
  },
  {
   "cell_type": "code",
   "execution_count": 36,
   "metadata": {},
   "outputs": [],
   "source": [
    "df_rt15 = df.sort_values(by='retweet', ascending=False).head(15)\n",
    "df_rt15 = df_rt15[['user', 'retweet', 'favorite', 'media']]\n",
    "df_rt15['user'] = '**[@' + df['user'] +']('+ df['tweet_url']+')**'\n",
    "df_rt15['media'] = '![](' + df['media'] +')'"
   ]
  },
  {
   "cell_type": "code",
   "execution_count": 37,
   "metadata": {},
   "outputs": [
    {
     "name": "stdout",
     "output_type": "stream",
     "text": [
      "|     | user                                            |   retweet |   favorite | media                                                                                        |\n",
      "|-----|-------------------------------------------------|-----------|------------|----------------------------------------------------------------------------------------------|\n",
      "| 506 | **[@dr_xeo](https://t.co/uUujVgV2ql)**          |        25 |         92 | ![](http://pbs.twimg.com/media/El4w90wXEAAu2gp.jpg)                                          |\n",
      "| 571 | **[@tjukanov](https://t.co/uLN9PJeg1k)**        |        21 |        239 | ![](http://pbs.twimg.com/media/El4Qv6tW0AEoreL.jpg)                                          |\n",
      "| 371 | **[@Helenmckmck](https://t.co/pPbs6Py9ZI)**     |        21 |        153 | ![](http://pbs.twimg.com/media/El5-yUKWkAIS7OD.jpg)                                          |\n",
      "| 191 | **[@moaimx](https://t.co/aSJFhEp7za)**          |        18 |         80 | ![](http://pbs.twimg.com/media/El7kZTGXEAIHeIy.jpg)                                          |\n",
      "| 538 | **[@kennethfield](https://t.co/O5is4PtFCb)**    |        17 |        138 | ![](http://pbs.twimg.com/media/El285DrUcAA_NEv.jpg)                                          |\n",
      "| 442 | **[@geodatascience](https://t.co/b4Rm1s3qua)**  |        15 |         35 | ![](http://pbs.twimg.com/media/El4_XQrXUAYJGTU.jpg)                                          |\n",
      "| 362 | **[@jakub_nowosad](https://t.co/qnzLDxIOjC.)**  |        12 |         34 | ![](http://pbs.twimg.com/media/El6DWvaWMAES9R8.png)                                          |\n",
      "| 347 | **[@Artisans_Cartos](https://t.co/f9KMD0UfaI)** |        10 |         49 | ![](http://pbs.twimg.com/media/El6Luz4WoAIXEjK.png)                                          |\n",
      "| 604 | **[@PratapVardhan](https://t.co/Mt4CqRkNlL)**   |        10 |         40 | ![](http://pbs.twimg.com/ext_tw_video_thumb/1323461203788783618/pu/img/uRccfhgRrI1Iz40Q.jpg) |\n",
      "| 470 | **[@dickoah](https://t.co/AFj9vaRwmH)**         |        10 |         32 | ![](http://pbs.twimg.com/media/El5LgkgW0AEZPLX.jpg)                                          |\n",
      "| 175 | **[@Valtzen](https://t.co/3SKLXYljS9)**         |        10 |         50 | ![](http://pbs.twimg.com/media/El7uBX8WkAA7Ujo.jpg)                                          |\n",
      "| 217 | **[@gontsa](https://t.co/Xiz90baMGe)**          |         9 |         44 | ![](http://pbs.twimg.com/media/El7SYt4WMAEyszT.jpg)                                          |\n",
      "| 300 | **[@gartn001](https://t.co/Z4uCNTybVm)**        |         9 |         43 | ![](http://pbs.twimg.com/media/El6l0lTWkAAhPfL.jpg)                                          |\n",
      "| 497 | **[@sciremotesense](https://t.co/6x3RvYvOes)**  |         8 |         48 | ![](http://pbs.twimg.com/media/El46MG4XUAAb-UY.jpg)                                          |\n",
      "| 451 | **[@hansakwast](https://t.co/nhjgYPijfG)**      |         8 |         35 | ![](http://pbs.twimg.com/media/El5UbYfWkAA2QTj.jpg)                                          |\n"
     ]
    }
   ],
   "source": [
    "print(tabulate(df_rt15, headers='keys', tablefmt='github'))"
   ]
  },
  {
   "cell_type": "markdown",
   "metadata": {},
   "source": [
    "### Late entry"
   ]
  },
  {
   "cell_type": "code",
   "execution_count": 25,
   "metadata": {},
   "outputs": [
    {
     "name": "stdout",
     "output_type": "stream",
     "text": [
      "2020-11-02_late.csv\n",
      "Add to day 1...\n"
     ]
    }
   ],
   "source": [
    "# df_late = pd.read_csv(\"./data/{}_late.csv\".format(date))\n",
    "# print(\"{}_late.csv\".format(date))\n",
    "# print(\"Add to day 1...\")"
   ]
  },
  {
   "cell_type": "code",
   "execution_count": 27,
   "metadata": {},
   "outputs": [],
   "source": [
    "# df_late_fav = df_late.sort_values(by='favorite', ascending=False).head(5)\n",
    "# df_late_fav = df_late_fav[['user', 'retweet', 'favorite', 'media']]\n",
    "# df_late_fav['user'] = '**[@' + df_late['user'] +']('+ df_late['tweet_url']+')**'\n",
    "# df_late_fav['media'] = '![](' + df_late['media'] +')'"
   ]
  },
  {
   "cell_type": "code",
   "execution_count": 28,
   "metadata": {},
   "outputs": [
    {
     "name": "stdout",
     "output_type": "stream",
     "text": [
      "|    | user                                            |   retweet |   favorite | media                                               |\n",
      "|----|-------------------------------------------------|-----------|------------|-----------------------------------------------------|\n",
      "| 42 | **[@darenw](https://t.co/rZ2gtbJmI4)**          |         4 |         95 | ![](http://pbs.twimg.com/media/Elyc4d4XUAEs09h.jpg) |\n",
      "| 50 | **[@gonzalotalavera](https://t.co/I6UNoGYVOx)** |        22 |         60 | ![](http://pbs.twimg.com/media/ElyMGZFWkAA7Fx2.jpg) |\n",
      "| 53 | **[@PratapVardhan](https://t.co/WTT8WM17qy)**   |         4 |         43 | ![](http://pbs.twimg.com/media/Elx5722WkAEOOMf.jpg) |\n",
      "|  2 | **[@tomasral](https://t.co/khysneCwjM))**       |         5 |         35 | ![](http://pbs.twimg.com/media/El2FR9gXUAAU3Uf.jpg) |\n",
      "| 54 | **[@BZgeo](https://t.co/LavH2067O2)**           |         3 |         26 | ![](http://pbs.twimg.com/media/Elx0-fPXIAc9JGJ.png) |\n"
     ]
    }
   ],
   "source": [
    "print(tabulate(df_late_fav, headers='keys', tablefmt='github'))"
   ]
  },
  {
   "cell_type": "code",
   "execution_count": 29,
   "metadata": {},
   "outputs": [],
   "source": [
    "# df_late_rt = df_late.sort_values(by='retweet', ascending=False).head(5)\n",
    "# df_late_rt = df_late_rt[['user', 'retweet', 'favorite', 'media']]\n",
    "# df_late_rt['user'] = '**[@' + df_late['user'] +']('+ df_late['tweet_url']+')**'\n",
    "# df_late_rt['media'] = '![](' + df_late['media'] +')'"
   ]
  },
  {
   "cell_type": "code",
   "execution_count": 30,
   "metadata": {},
   "outputs": [
    {
     "name": "stdout",
     "output_type": "stream",
     "text": [
      "|    | user                                            |   retweet |   favorite | media                                               |\n",
      "|----|-------------------------------------------------|-----------|------------|-----------------------------------------------------|\n",
      "| 50 | **[@gonzalotalavera](https://t.co/I6UNoGYVOx)** |        22 |         60 | ![](http://pbs.twimg.com/media/ElyMGZFWkAA7Fx2.jpg) |\n",
      "| 24 | **[@neocartocnrs](https://t.co/1GcTGraT9T)**    |         8 |         14 | ![](http://pbs.twimg.com/media/Elz2OvNXEAAItfe.jpg) |\n",
      "|  2 | **[@tomasral](https://t.co/khysneCwjM))**       |         5 |         35 | ![](http://pbs.twimg.com/media/El2FR9gXUAAU3Uf.jpg) |\n",
      "| 57 | **[@nurussadad](https://t.co/z4HaIfQMBi)**      |         4 |          7 | ![](http://pbs.twimg.com/media/ElxuzgpU0AEIbdT.png) |\n",
      "|  7 | **[@geologyjesse](https://t.co/dR68mE4zhD)**    |         4 |         14 | ![](http://pbs.twimg.com/media/El1vroKWoAEozEk.jpg) |\n"
     ]
    }
   ],
   "source": [
    "# print(tabulate(df_late_rt, headers='keys', tablefmt='github'))"
   ]
  },
  {
   "cell_type": "markdown",
   "metadata": {},
   "source": [
    "### Send tweet via API"
   ]
  },
  {
   "cell_type": "code",
   "execution_count": 3,
   "metadata": {
    "collapsed": true,
    "jupyter": {
     "outputs_hidden": true
    }
   },
   "outputs": [
    {
     "data": {
      "text/plain": [
       "Status(_api=<tweepy.api.API object at 0x0000011E60202A48>, _json={'created_at': 'Mon Nov 02 22:53:36 +0000 2020', 'id': 1323397878983856130, 'id_str': '1323397878983856130', 'text': \"Look, I'm tweeting from #Python\", 'truncated': False, 'entities': {'hashtags': [{'text': 'Python', 'indices': [24, 31]}], 'symbols': [], 'user_mentions': [], 'urls': []}, 'source': '<a href=\"https://hn303.github.io/CamLandEc-RM03/\" rel=\"nofollow\">Lonon_REST</a>', 'in_reply_to_status_id': None, 'in_reply_to_status_id_str': None, 'in_reply_to_user_id': None, 'in_reply_to_user_id_str': None, 'in_reply_to_screen_name': None, 'user': {'id': 528087151, 'id_str': '528087151', 'name': 'Haifeng Niu', 'screen_name': 'niu_haifeng', 'location': 'Cambridge, England', 'description': 'PhD candidate in Lab of Interdisciplinary Spatial Analysis, Department of Land Economy, University of Cambridge @CambridgeLandEc', 'url': 'https://t.co/nuaPhizg9Y', 'entities': {'url': {'urls': [{'url': 'https://t.co/nuaPhizg9Y', 'expanded_url': 'http://haifengniu.com', 'display_url': 'haifengniu.com', 'indices': [0, 23]}]}, 'description': {'urls': []}}, 'protected': False, 'followers_count': 27, 'friends_count': 401, 'listed_count': 0, 'created_at': 'Sun Mar 18 03:05:14 +0000 2012', 'favourites_count': 52, 'utc_offset': None, 'time_zone': None, 'geo_enabled': True, 'verified': False, 'statuses_count': 12, 'lang': None, 'contributors_enabled': False, 'is_translator': False, 'is_translation_enabled': False, 'profile_background_color': '000000', 'profile_background_image_url': 'http://abs.twimg.com/images/themes/theme1/bg.png', 'profile_background_image_url_https': 'https://abs.twimg.com/images/themes/theme1/bg.png', 'profile_background_tile': False, 'profile_image_url': 'http://pbs.twimg.com/profile_images/1128794364921225216/U3XEp3ln_normal.jpg', 'profile_image_url_https': 'https://pbs.twimg.com/profile_images/1128794364921225216/U3XEp3ln_normal.jpg', 'profile_banner_url': 'https://pbs.twimg.com/profile_banners/528087151/1508439599', 'profile_link_color': 'ABB8C2', 'profile_sidebar_border_color': '000000', 'profile_sidebar_fill_color': '000000', 'profile_text_color': '000000', 'profile_use_background_image': False, 'has_extended_profile': True, 'default_profile': False, 'default_profile_image': False, 'following': False, 'follow_request_sent': False, 'notifications': False, 'translator_type': 'none'}, 'geo': None, 'coordinates': None, 'place': None, 'contributors': None, 'is_quote_status': False, 'retweet_count': 0, 'favorite_count': 0, 'favorited': False, 'retweeted': False, 'lang': 'en'}, created_at=datetime.datetime(2020, 11, 2, 22, 53, 36), id=1323397878983856130, id_str='1323397878983856130', text=\"Look, I'm tweeting from #Python\", truncated=False, entities={'hashtags': [{'text': 'Python', 'indices': [24, 31]}], 'symbols': [], 'user_mentions': [], 'urls': []}, source='Lonon_REST', source_url='https://hn303.github.io/CamLandEc-RM03/', in_reply_to_status_id=None, in_reply_to_status_id_str=None, in_reply_to_user_id=None, in_reply_to_user_id_str=None, in_reply_to_screen_name=None, author=User(_api=<tweepy.api.API object at 0x0000011E60202A48>, _json={'id': 528087151, 'id_str': '528087151', 'name': 'Haifeng Niu', 'screen_name': 'niu_haifeng', 'location': 'Cambridge, England', 'description': 'PhD candidate in Lab of Interdisciplinary Spatial Analysis, Department of Land Economy, University of Cambridge @CambridgeLandEc', 'url': 'https://t.co/nuaPhizg9Y', 'entities': {'url': {'urls': [{'url': 'https://t.co/nuaPhizg9Y', 'expanded_url': 'http://haifengniu.com', 'display_url': 'haifengniu.com', 'indices': [0, 23]}]}, 'description': {'urls': []}}, 'protected': False, 'followers_count': 27, 'friends_count': 401, 'listed_count': 0, 'created_at': 'Sun Mar 18 03:05:14 +0000 2012', 'favourites_count': 52, 'utc_offset': None, 'time_zone': None, 'geo_enabled': True, 'verified': False, 'statuses_count': 12, 'lang': None, 'contributors_enabled': False, 'is_translator': False, 'is_translation_enabled': False, 'profile_background_color': '000000', 'profile_background_image_url': 'http://abs.twimg.com/images/themes/theme1/bg.png', 'profile_background_image_url_https': 'https://abs.twimg.com/images/themes/theme1/bg.png', 'profile_background_tile': False, 'profile_image_url': 'http://pbs.twimg.com/profile_images/1128794364921225216/U3XEp3ln_normal.jpg', 'profile_image_url_https': 'https://pbs.twimg.com/profile_images/1128794364921225216/U3XEp3ln_normal.jpg', 'profile_banner_url': 'https://pbs.twimg.com/profile_banners/528087151/1508439599', 'profile_link_color': 'ABB8C2', 'profile_sidebar_border_color': '000000', 'profile_sidebar_fill_color': '000000', 'profile_text_color': '000000', 'profile_use_background_image': False, 'has_extended_profile': True, 'default_profile': False, 'default_profile_image': False, 'following': False, 'follow_request_sent': False, 'notifications': False, 'translator_type': 'none'}, id=528087151, id_str='528087151', name='Haifeng Niu', screen_name='niu_haifeng', location='Cambridge, England', description='PhD candidate in Lab of Interdisciplinary Spatial Analysis, Department of Land Economy, University of Cambridge @CambridgeLandEc', url='https://t.co/nuaPhizg9Y', entities={'url': {'urls': [{'url': 'https://t.co/nuaPhizg9Y', 'expanded_url': 'http://haifengniu.com', 'display_url': 'haifengniu.com', 'indices': [0, 23]}]}, 'description': {'urls': []}}, protected=False, followers_count=27, friends_count=401, listed_count=0, created_at=datetime.datetime(2012, 3, 18, 3, 5, 14), favourites_count=52, utc_offset=None, time_zone=None, geo_enabled=True, verified=False, statuses_count=12, lang=None, contributors_enabled=False, is_translator=False, is_translation_enabled=False, profile_background_color='000000', profile_background_image_url='http://abs.twimg.com/images/themes/theme1/bg.png', profile_background_image_url_https='https://abs.twimg.com/images/themes/theme1/bg.png', profile_background_tile=False, profile_image_url='http://pbs.twimg.com/profile_images/1128794364921225216/U3XEp3ln_normal.jpg', profile_image_url_https='https://pbs.twimg.com/profile_images/1128794364921225216/U3XEp3ln_normal.jpg', profile_banner_url='https://pbs.twimg.com/profile_banners/528087151/1508439599', profile_link_color='ABB8C2', profile_sidebar_border_color='000000', profile_sidebar_fill_color='000000', profile_text_color='000000', profile_use_background_image=False, has_extended_profile=True, default_profile=False, default_profile_image=False, following=False, follow_request_sent=False, notifications=False, translator_type='none'), user=User(_api=<tweepy.api.API object at 0x0000011E60202A48>, _json={'id': 528087151, 'id_str': '528087151', 'name': 'Haifeng Niu', 'screen_name': 'niu_haifeng', 'location': 'Cambridge, England', 'description': 'PhD candidate in Lab of Interdisciplinary Spatial Analysis, Department of Land Economy, University of Cambridge @CambridgeLandEc', 'url': 'https://t.co/nuaPhizg9Y', 'entities': {'url': {'urls': [{'url': 'https://t.co/nuaPhizg9Y', 'expanded_url': 'http://haifengniu.com', 'display_url': 'haifengniu.com', 'indices': [0, 23]}]}, 'description': {'urls': []}}, 'protected': False, 'followers_count': 27, 'friends_count': 401, 'listed_count': 0, 'created_at': 'Sun Mar 18 03:05:14 +0000 2012', 'favourites_count': 52, 'utc_offset': None, 'time_zone': None, 'geo_enabled': True, 'verified': False, 'statuses_count': 12, 'lang': None, 'contributors_enabled': False, 'is_translator': False, 'is_translation_enabled': False, 'profile_background_color': '000000', 'profile_background_image_url': 'http://abs.twimg.com/images/themes/theme1/bg.png', 'profile_background_image_url_https': 'https://abs.twimg.com/images/themes/theme1/bg.png', 'profile_background_tile': False, 'profile_image_url': 'http://pbs.twimg.com/profile_images/1128794364921225216/U3XEp3ln_normal.jpg', 'profile_image_url_https': 'https://pbs.twimg.com/profile_images/1128794364921225216/U3XEp3ln_normal.jpg', 'profile_banner_url': 'https://pbs.twimg.com/profile_banners/528087151/1508439599', 'profile_link_color': 'ABB8C2', 'profile_sidebar_border_color': '000000', 'profile_sidebar_fill_color': '000000', 'profile_text_color': '000000', 'profile_use_background_image': False, 'has_extended_profile': True, 'default_profile': False, 'default_profile_image': False, 'following': False, 'follow_request_sent': False, 'notifications': False, 'translator_type': 'none'}, id=528087151, id_str='528087151', name='Haifeng Niu', screen_name='niu_haifeng', location='Cambridge, England', description='PhD candidate in Lab of Interdisciplinary Spatial Analysis, Department of Land Economy, University of Cambridge @CambridgeLandEc', url='https://t.co/nuaPhizg9Y', entities={'url': {'urls': [{'url': 'https://t.co/nuaPhizg9Y', 'expanded_url': 'http://haifengniu.com', 'display_url': 'haifengniu.com', 'indices': [0, 23]}]}, 'description': {'urls': []}}, protected=False, followers_count=27, friends_count=401, listed_count=0, created_at=datetime.datetime(2012, 3, 18, 3, 5, 14), favourites_count=52, utc_offset=None, time_zone=None, geo_enabled=True, verified=False, statuses_count=12, lang=None, contributors_enabled=False, is_translator=False, is_translation_enabled=False, profile_background_color='000000', profile_background_image_url='http://abs.twimg.com/images/themes/theme1/bg.png', profile_background_image_url_https='https://abs.twimg.com/images/themes/theme1/bg.png', profile_background_tile=False, profile_image_url='http://pbs.twimg.com/profile_images/1128794364921225216/U3XEp3ln_normal.jpg', profile_image_url_https='https://pbs.twimg.com/profile_images/1128794364921225216/U3XEp3ln_normal.jpg', profile_banner_url='https://pbs.twimg.com/profile_banners/528087151/1508439599', profile_link_color='ABB8C2', profile_sidebar_border_color='000000', profile_sidebar_fill_color='000000', profile_text_color='000000', profile_use_background_image=False, has_extended_profile=True, default_profile=False, default_profile_image=False, following=False, follow_request_sent=False, notifications=False, translator_type='none'), geo=None, coordinates=None, place=None, contributors=None, is_quote_status=False, retweet_count=0, favorite_count=0, favorited=False, retweeted=False, lang='en')"
      ]
     },
     "execution_count": 3,
     "metadata": {},
     "output_type": "execute_result"
    }
   ],
   "source": [
    "api.update_status(\"Look, I'm tweeting from #Python\")\n"
   ]
  },
  {
   "cell_type": "code",
   "execution_count": null,
   "metadata": {},
   "outputs": [],
   "source": []
  }
 ],
 "metadata": {
  "kernelspec": {
   "display_name": "Python 3",
   "language": "python",
   "name": "python3"
  },
  "language_info": {
   "codemirror_mode": {
    "name": "ipython",
    "version": 3
   },
   "file_extension": ".py",
   "mimetype": "text/x-python",
   "name": "python",
   "nbconvert_exporter": "python",
   "pygments_lexer": "ipython3",
   "version": "3.7.6"
  }
 },
 "nbformat": 4,
 "nbformat_minor": 4
}
