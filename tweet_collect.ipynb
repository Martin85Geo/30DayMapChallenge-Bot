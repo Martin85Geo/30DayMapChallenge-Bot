{
 "cells": [
  {
   "cell_type": "code",
   "execution_count": 1,
   "metadata": {
    "scrolled": true
   },
   "outputs": [],
   "source": [
    "import re\n",
    "import tweepy\n",
    "import pandas as pd\n",
    "from tweepy import OAuthHandler\n",
    "import yaml\n",
    "from tabulate import tabulate\n",
    "\n",
    "# from http.client import IncompleteRead\n",
    "# import threading \n",
    "# import datetime \n",
    "    \n",
    "    \n",
    "with open('credential3.yaml') as f:\n",
    "    config = yaml.load(f, Loader=yaml.SafeLoader)\n",
    "    \n",
    "consumer_key = config['consumer_key']\n",
    "consumer_secret = config['consumer_secret']\n",
    "access_token = config['access_token']\n",
    "access_secret = config['access_secret']\n",
    " \n",
    "auth = OAuthHandler(consumer_key, consumer_secret)\n",
    "auth.set_access_token(access_token, access_secret)\n",
    "\n",
    "api = tweepy.API(auth, wait_on_rate_limit=True, wait_on_rate_limit_notify=True)"
   ]
  },
  {
   "cell_type": "code",
   "execution_count": 13,
   "metadata": {},
   "outputs": [],
   "source": [
    "theme_lookup = {\"01\": \"Points\", \"02\": \"Lines\", \"03\": \"Polygons\", \"04\": \"Hexagons\", \"05\": \"Blue\", \"06\": \"Red\", \"07\": \"Green\", \"08\": \"Yellow\", \"09\": \"Monochrome\", \"10\": \"Grid\", \"11\": \"3D\", \"12\": \"Map not made with GIS software\", \"13\": \"Raster\", \"14\": \"Climate change\", \"15\": \"Connections\", \"16\": \"Island(s)\", \"17\": \"Historical map\", \"18\": \"Landuse\", \"19\": \"NULL\", \"20\": \"Population\", \"21\": \"Water\", \"22\": \"Movement\", \"23\": \"Boundaries\", \"24\": \"Elevation\", \"25\": \"COVID-19\", \"26\": \"Map with a new tool\", \"27\": \"Big or small data\", \"28\": \"Non-geographic map\", \"29\": \"Globe\", \"30\": \"A map\"}"
   ]
  },
  {
   "cell_type": "code",
   "execution_count": 14,
   "metadata": {},
   "outputs": [
    {
     "data": {
      "text/plain": [
       "'Points'"
      ]
     },
     "execution_count": 14,
     "metadata": {},
     "output_type": "execute_result"
    }
   ],
   "source": [
    "theme_lookup[\"01\"]"
   ]
  },
  {
   "cell_type": "markdown",
   "metadata": {},
   "source": [
    "#### Set date"
   ]
  },
  {
   "cell_type": "code",
   "execution_count": 2,
   "metadata": {},
   "outputs": [],
   "source": [
    "date = '2020-11-05'\n",
    "start = '2020-11-05 00:00:00'\n",
    "end = '2020-11-06 00:00:00'"
   ]
  },
  {
   "cell_type": "code",
   "execution_count": 93,
   "metadata": {},
   "outputs": [
    {
     "name": "stdout",
     "output_type": "stream",
     "text": [
      "2020-11-03.csv\n"
     ]
    }
   ],
   "source": [
    "# date = '2020-11-03'\n",
    "# df = pd.read_csv(\"./data/{}.csv\".format(date))\n",
    "# print(\"{}.csv\".format(date))"
   ]
  },
  {
   "cell_type": "markdown",
   "metadata": {},
   "source": [
    "#### Collect tweets with hashtag `#30mapchallenges`"
   ]
  },
  {
   "cell_type": "code",
   "execution_count": 78,
   "metadata": {},
   "outputs": [],
   "source": [
    "def collect_tweets(search_words, since):\n",
    "    #tweets\n",
    "    tweet_id = []\n",
    "    tweet_text = []\n",
    "    language = []\n",
    "    tweet_created_at = []\n",
    "    retweet_count = []\n",
    "    favorite_count= []\n",
    "    hashtags= []\n",
    "    #users\n",
    "    user_id = []\n",
    "    user_name = []\n",
    "    user_screen_name = []\n",
    "    user_loc = []\n",
    "    user_follower = []\n",
    "    friends_count = []\n",
    "    #media\n",
    "    media = []\n",
    "    for tweet in tweepy.Cursor(api.search,\n",
    "                               q=search_words,\n",
    "                               since= since, \n",
    "                               include_entities=True, \n",
    "                               tweet_mode=\"extended\").items():\n",
    "        #tweets\n",
    "        tweet_id.append(tweet.id)\n",
    "        tweet_text.append(tweet.full_text)\n",
    "        language.append(tweet.lang)\n",
    "        tweet_created_at.append(tweet.created_at)\n",
    "        retweet_count.append(tweet.retweet_count)\n",
    "        favorite_count.append(tweet.favorite_count)\n",
    "        try:\n",
    "            hashtags.append(tweet.entities.get('hashtags', []))\n",
    "        except KeyError:\n",
    "            pass\n",
    "#         hashtags.append(tweet.entities.hashtags)\n",
    "        #users\n",
    "        user_id.append(tweet.user.id)\n",
    "        user_name.append(tweet.user.name)\n",
    "        user_screen_name.append(tweet.user.screen_name)\n",
    "        user_loc.append(tweet.user.location)\n",
    "        user_follower.append(tweet.user.followers_count)\n",
    "        friends_count.append(tweet.user.friends_count)\n",
    "        #media\n",
    "        try:\n",
    "            media.append(tweet.entities.get('media')[0].get('media_url'))\n",
    "#             print(tweet.entities.get('media'))\n",
    "        except Exception as e:\n",
    "            media.append(None)\n",
    "        #print([tweet.user.name,tweet.created_at,tweet.text])\n",
    "    df = pd.DataFrame({'tweet_id':tweet_id,\n",
    "                        'tweet_text':tweet_text,\n",
    "                        'language':language,\n",
    "                        'tweet_created_at':tweet_created_at,\n",
    "                        'retweet':retweet_count,\n",
    "                        'favorite':favorite_count,\n",
    "                        'hashtags':hashtags,\n",
    "                        'user_id':user_id,\n",
    "                        'user_name':user_name,\n",
    "                        'user':user_screen_name,\n",
    "                        'user_loc':user_loc,\n",
    "                        'user_follower':user_follower,\n",
    "                        'friends_count':friends_count,\n",
    "                        'media':media})\n",
    "            \n",
    "    return df"
   ]
  },
  {
   "cell_type": "code",
   "execution_count": 79,
   "metadata": {},
   "outputs": [],
   "source": [
    "search_words = \"#30DayMapChallenge -filter:retweets\"\n",
    "since = date\n",
    "\n",
    "df = collect_tweets(search_words, since)\n",
    "\n",
    "df = df[(df.tweet_created_at >= start) & \n",
    "   (df.tweet_created_at <= end)]\n",
    "\n",
    "# df1 = df[df['tweet_text'].str.contains(\"points\") | df['tweet_text'].str.contains(\"day 1\")]\n",
    "\n",
    "df = df[df['media'].notnull()]\n",
    "df['tweet_url'] = df['tweet_text'].str.extract('(?P<url>https?://[^\\s]+)', expand=False).str.strip()\n",
    "\n",
    "\n",
    "df.to_csv(\"./data/{}.csv\".format(date))"
   ]
  },
  {
   "cell_type": "code",
   "execution_count": 80,
   "metadata": {},
   "outputs": [
    {
     "data": {
      "text/html": [
       "<div>\n",
       "<style scoped>\n",
       "    .dataframe tbody tr th:only-of-type {\n",
       "        vertical-align: middle;\n",
       "    }\n",
       "\n",
       "    .dataframe tbody tr th {\n",
       "        vertical-align: top;\n",
       "    }\n",
       "\n",
       "    .dataframe thead th {\n",
       "        text-align: right;\n",
       "    }\n",
       "</style>\n",
       "<table border=\"1\" class=\"dataframe\">\n",
       "  <thead>\n",
       "    <tr style=\"text-align: right;\">\n",
       "      <th></th>\n",
       "      <th>tweet_id</th>\n",
       "      <th>tweet_text</th>\n",
       "      <th>language</th>\n",
       "      <th>tweet_created_at</th>\n",
       "      <th>retweet</th>\n",
       "      <th>favorite</th>\n",
       "      <th>hashtags</th>\n",
       "      <th>user_id</th>\n",
       "      <th>user_name</th>\n",
       "      <th>user</th>\n",
       "      <th>user_loc</th>\n",
       "      <th>user_follower</th>\n",
       "      <th>friends_count</th>\n",
       "      <th>media</th>\n",
       "      <th>tweet_url</th>\n",
       "    </tr>\n",
       "  </thead>\n",
       "  <tbody>\n",
       "    <tr>\n",
       "      <th>116</th>\n",
       "      <td>1324498946820067334</td>\n",
       "      <td>#30DayMapChallenge Day4 Hexágonos - A partir d...</td>\n",
       "      <td>es</td>\n",
       "      <td>2020-11-05 23:48:51</td>\n",
       "      <td>2</td>\n",
       "      <td>7</td>\n",
       "      <td>[{'text': '30DayMapChallenge', 'indices': [0, ...</td>\n",
       "      <td>28714934</td>\n",
       "      <td>Alonso Cortés</td>\n",
       "      <td>aloCrts</td>\n",
       "      <td>Mexico DF</td>\n",
       "      <td>125</td>\n",
       "      <td>412</td>\n",
       "      <td>http://pbs.twimg.com/media/EmGMMI1WkAMRY_j.jpg</td>\n",
       "      <td>https://t.co/AIj90BF9vH</td>\n",
       "    </tr>\n",
       "    <tr>\n",
       "      <th>117</th>\n",
       "      <td>1324498269557448712</td>\n",
       "      <td>#30DayMapChallenge Only just made it for Day 5...</td>\n",
       "      <td>en</td>\n",
       "      <td>2020-11-05 23:46:10</td>\n",
       "      <td>1</td>\n",
       "      <td>3</td>\n",
       "      <td>[{'text': '30DayMapChallenge', 'indices': [0, ...</td>\n",
       "      <td>996371006519496705</td>\n",
       "      <td>Menna Bell</td>\n",
       "      <td>BellMenna</td>\n",
       "      <td>Wales, United Kingdom</td>\n",
       "      <td>8</td>\n",
       "      <td>62</td>\n",
       "      <td>http://pbs.twimg.com/media/EmGPo_XXYAI153M.jpg</td>\n",
       "      <td>https://t.co/GWRHjjCt0Z</td>\n",
       "    </tr>\n",
       "    <tr>\n",
       "      <th>118</th>\n",
       "      <td>1324497349327134720</td>\n",
       "      <td>Day 5 #30DayMapChallenge is about #Blue what r...</td>\n",
       "      <td>en</td>\n",
       "      <td>2020-11-05 23:42:30</td>\n",
       "      <td>1</td>\n",
       "      <td>0</td>\n",
       "      <td>[{'text': '30DayMapChallenge', 'indices': [6, ...</td>\n",
       "      <td>3290545829</td>\n",
       "      <td>Carmem Rodrigues 🏡😷🇧🇷🌍</td>\n",
       "      <td>CarmemMarx</td>\n",
       "      <td>Belo Horizonte, Minas Gerais</td>\n",
       "      <td>181</td>\n",
       "      <td>632</td>\n",
       "      <td>http://pbs.twimg.com/media/EmGPT-aX0AMT6_F.jpg</td>\n",
       "      <td>https://t.co/sxelADgWay</td>\n",
       "    </tr>\n",
       "    <tr>\n",
       "      <th>119</th>\n",
       "      <td>1324493814615183363</td>\n",
       "      <td>#30DayMapChallenge 5 Blue @AlcaldiadeMed inter...</td>\n",
       "      <td>es</td>\n",
       "      <td>2020-11-05 23:28:27</td>\n",
       "      <td>4</td>\n",
       "      <td>11</td>\n",
       "      <td>[{'text': '30DayMapChallenge', 'indices': [0, ...</td>\n",
       "      <td>1193871042558730241</td>\n",
       "      <td>vecinosdela80</td>\n",
       "      <td>vecinosdela80</td>\n",
       "      <td></td>\n",
       "      <td>1251</td>\n",
       "      <td>3983</td>\n",
       "      <td>http://pbs.twimg.com/media/EmGME0RX0AomOFJ.jpg</td>\n",
       "      <td>https://t.co/OG0pIbEN1R</td>\n",
       "    </tr>\n",
       "    <tr>\n",
       "      <th>120</th>\n",
       "      <td>1324491260644728834</td>\n",
       "      <td>#30DayMapChallenge Day 5: Blue\\nToday I used #...</td>\n",
       "      <td>en</td>\n",
       "      <td>2020-11-05 23:18:19</td>\n",
       "      <td>2</td>\n",
       "      <td>1</td>\n",
       "      <td>[{'text': '30DayMapChallenge', 'indices': [0, ...</td>\n",
       "      <td>104213130</td>\n",
       "      <td>R.Richard</td>\n",
       "      <td>rorich</td>\n",
       "      <td>Atlanta, GA</td>\n",
       "      <td>256</td>\n",
       "      <td>1312</td>\n",
       "      <td>http://pbs.twimg.com/media/EmGJv7AXYAAEmIo.jpg</td>\n",
       "      <td>https://t.co/sodGxP9KxW</td>\n",
       "    </tr>\n",
       "    <tr>\n",
       "      <th>...</th>\n",
       "      <td>...</td>\n",
       "      <td>...</td>\n",
       "      <td>...</td>\n",
       "      <td>...</td>\n",
       "      <td>...</td>\n",
       "      <td>...</td>\n",
       "      <td>...</td>\n",
       "      <td>...</td>\n",
       "      <td>...</td>\n",
       "      <td>...</td>\n",
       "      <td>...</td>\n",
       "      <td>...</td>\n",
       "      <td>...</td>\n",
       "      <td>...</td>\n",
       "      <td>...</td>\n",
       "    </tr>\n",
       "    <tr>\n",
       "      <th>492</th>\n",
       "      <td>1324141560770908160</td>\n",
       "      <td>#30DayMapChallenge Day 5 | Blue\\n\\nWhen ideas ...</td>\n",
       "      <td>en</td>\n",
       "      <td>2020-11-05 00:08:44</td>\n",
       "      <td>2</td>\n",
       "      <td>9</td>\n",
       "      <td>[{'text': '30DayMapChallenge', 'indices': [0, ...</td>\n",
       "      <td>2614024302</td>\n",
       "      <td>Rob Radburn</td>\n",
       "      <td>robradburn</td>\n",
       "      <td>Leicester, UK</td>\n",
       "      <td>3181</td>\n",
       "      <td>749</td>\n",
       "      <td>http://pbs.twimg.com/media/EmBLumxWkAMR4Ij.jpg</td>\n",
       "      <td>https://t.co/vww6deAh31</td>\n",
       "    </tr>\n",
       "    <tr>\n",
       "      <th>493</th>\n",
       "      <td>1324141334383439873</td>\n",
       "      <td>Day 4 of #30DayMapChallenge \\n - Hexagones\\nWo...</td>\n",
       "      <td>en</td>\n",
       "      <td>2020-11-05 00:07:50</td>\n",
       "      <td>1</td>\n",
       "      <td>4</td>\n",
       "      <td>[{'text': '30DayMapChallenge', 'indices': [9, ...</td>\n",
       "      <td>2593554955</td>\n",
       "      <td>Kapazitätsdiode</td>\n",
       "      <td>varaktor</td>\n",
       "      <td></td>\n",
       "      <td>24</td>\n",
       "      <td>182</td>\n",
       "      <td>http://pbs.twimg.com/media/EmBLJyiWoAMwkJP.jpg</td>\n",
       "      <td>https://t.co/DxQ6BCVi4w</td>\n",
       "    </tr>\n",
       "    <tr>\n",
       "      <th>494</th>\n",
       "      <td>1324141226837377024</td>\n",
       "      <td>#30DayMapChallenge 5. Blue.\\n\\nBlue elevation,...</td>\n",
       "      <td>no</td>\n",
       "      <td>2020-11-05 00:07:24</td>\n",
       "      <td>1</td>\n",
       "      <td>9</td>\n",
       "      <td>[{'text': '30DayMapChallenge', 'indices': [0, ...</td>\n",
       "      <td>44981447</td>\n",
       "      <td>Tore Halset</td>\n",
       "      <td>torehalset</td>\n",
       "      <td>Stavanger, Norway</td>\n",
       "      <td>285</td>\n",
       "      <td>735</td>\n",
       "      <td>http://pbs.twimg.com/media/EmBLJljXYAURsus.jpg</td>\n",
       "      <td>https://t.co/SyEBAq59nw</td>\n",
       "    </tr>\n",
       "    <tr>\n",
       "      <th>495</th>\n",
       "      <td>1324140549817905154</td>\n",
       "      <td>I first studied the \"Ring of Fire\" in an intro...</td>\n",
       "      <td>en</td>\n",
       "      <td>2020-11-05 00:04:43</td>\n",
       "      <td>1</td>\n",
       "      <td>5</td>\n",
       "      <td>[{'text': '30DayMapChallenge', 'indices': [124...</td>\n",
       "      <td>133541065</td>\n",
       "      <td>Eric Goodwin</td>\n",
       "      <td>mr_ericgoodwin</td>\n",
       "      <td>Center of Tennessee, Tennessee</td>\n",
       "      <td>381</td>\n",
       "      <td>586</td>\n",
       "      <td>http://pbs.twimg.com/media/EmBJqfJWoAEdX6G.jpg</td>\n",
       "      <td>https://t.co/v6v7FKPAoi</td>\n",
       "    </tr>\n",
       "    <tr>\n",
       "      <th>496</th>\n",
       "      <td>1324140298650456065</td>\n",
       "      <td>Day 4 of the #30DayMapChallenge with @OmniSci:...</td>\n",
       "      <td>en</td>\n",
       "      <td>2020-11-05 00:03:43</td>\n",
       "      <td>1</td>\n",
       "      <td>2</td>\n",
       "      <td>[{'text': '30DayMapChallenge', 'indices': [13,...</td>\n",
       "      <td>623327023</td>\n",
       "      <td>Anton1o</td>\n",
       "      <td>AFCotroneo</td>\n",
       "      <td></td>\n",
       "      <td>187</td>\n",
       "      <td>1300</td>\n",
       "      <td>http://pbs.twimg.com/tweet_video_thumb/EmBKjBT...</td>\n",
       "      <td>https://t.co/8UDL1wOSyx</td>\n",
       "    </tr>\n",
       "  </tbody>\n",
       "</table>\n",
       "<p>335 rows × 15 columns</p>\n",
       "</div>"
      ],
      "text/plain": [
       "                tweet_id                                         tweet_text  \\\n",
       "116  1324498946820067334  #30DayMapChallenge Day4 Hexágonos - A partir d...   \n",
       "117  1324498269557448712  #30DayMapChallenge Only just made it for Day 5...   \n",
       "118  1324497349327134720  Day 5 #30DayMapChallenge is about #Blue what r...   \n",
       "119  1324493814615183363  #30DayMapChallenge 5 Blue @AlcaldiadeMed inter...   \n",
       "120  1324491260644728834  #30DayMapChallenge Day 5: Blue\\nToday I used #...   \n",
       "..                   ...                                                ...   \n",
       "492  1324141560770908160  #30DayMapChallenge Day 5 | Blue\\n\\nWhen ideas ...   \n",
       "493  1324141334383439873  Day 4 of #30DayMapChallenge \\n - Hexagones\\nWo...   \n",
       "494  1324141226837377024  #30DayMapChallenge 5. Blue.\\n\\nBlue elevation,...   \n",
       "495  1324140549817905154  I first studied the \"Ring of Fire\" in an intro...   \n",
       "496  1324140298650456065  Day 4 of the #30DayMapChallenge with @OmniSci:...   \n",
       "\n",
       "    language    tweet_created_at  retweet  favorite  \\\n",
       "116       es 2020-11-05 23:48:51        2         7   \n",
       "117       en 2020-11-05 23:46:10        1         3   \n",
       "118       en 2020-11-05 23:42:30        1         0   \n",
       "119       es 2020-11-05 23:28:27        4        11   \n",
       "120       en 2020-11-05 23:18:19        2         1   \n",
       "..       ...                 ...      ...       ...   \n",
       "492       en 2020-11-05 00:08:44        2         9   \n",
       "493       en 2020-11-05 00:07:50        1         4   \n",
       "494       no 2020-11-05 00:07:24        1         9   \n",
       "495       en 2020-11-05 00:04:43        1         5   \n",
       "496       en 2020-11-05 00:03:43        1         2   \n",
       "\n",
       "                                              hashtags              user_id  \\\n",
       "116  [{'text': '30DayMapChallenge', 'indices': [0, ...             28714934   \n",
       "117  [{'text': '30DayMapChallenge', 'indices': [0, ...   996371006519496705   \n",
       "118  [{'text': '30DayMapChallenge', 'indices': [6, ...           3290545829   \n",
       "119  [{'text': '30DayMapChallenge', 'indices': [0, ...  1193871042558730241   \n",
       "120  [{'text': '30DayMapChallenge', 'indices': [0, ...            104213130   \n",
       "..                                                 ...                  ...   \n",
       "492  [{'text': '30DayMapChallenge', 'indices': [0, ...           2614024302   \n",
       "493  [{'text': '30DayMapChallenge', 'indices': [9, ...           2593554955   \n",
       "494  [{'text': '30DayMapChallenge', 'indices': [0, ...             44981447   \n",
       "495  [{'text': '30DayMapChallenge', 'indices': [124...            133541065   \n",
       "496  [{'text': '30DayMapChallenge', 'indices': [13,...            623327023   \n",
       "\n",
       "                  user_name            user                        user_loc  \\\n",
       "116           Alonso Cortés         aloCrts                       Mexico DF   \n",
       "117              Menna Bell       BellMenna           Wales, United Kingdom   \n",
       "118  Carmem Rodrigues 🏡😷🇧🇷🌍      CarmemMarx    Belo Horizonte, Minas Gerais   \n",
       "119           vecinosdela80   vecinosdela80                                   \n",
       "120               R.Richard          rorich                     Atlanta, GA   \n",
       "..                      ...             ...                             ...   \n",
       "492             Rob Radburn      robradburn                   Leicester, UK   \n",
       "493         Kapazitätsdiode        varaktor                                   \n",
       "494             Tore Halset      torehalset               Stavanger, Norway   \n",
       "495            Eric Goodwin  mr_ericgoodwin  Center of Tennessee, Tennessee   \n",
       "496                 Anton1o      AFCotroneo                                   \n",
       "\n",
       "     user_follower  friends_count  \\\n",
       "116            125            412   \n",
       "117              8             62   \n",
       "118            181            632   \n",
       "119           1251           3983   \n",
       "120            256           1312   \n",
       "..             ...            ...   \n",
       "492           3181            749   \n",
       "493             24            182   \n",
       "494            285            735   \n",
       "495            381            586   \n",
       "496            187           1300   \n",
       "\n",
       "                                                 media  \\\n",
       "116     http://pbs.twimg.com/media/EmGMMI1WkAMRY_j.jpg   \n",
       "117     http://pbs.twimg.com/media/EmGPo_XXYAI153M.jpg   \n",
       "118     http://pbs.twimg.com/media/EmGPT-aX0AMT6_F.jpg   \n",
       "119     http://pbs.twimg.com/media/EmGME0RX0AomOFJ.jpg   \n",
       "120     http://pbs.twimg.com/media/EmGJv7AXYAAEmIo.jpg   \n",
       "..                                                 ...   \n",
       "492     http://pbs.twimg.com/media/EmBLumxWkAMR4Ij.jpg   \n",
       "493     http://pbs.twimg.com/media/EmBLJyiWoAMwkJP.jpg   \n",
       "494     http://pbs.twimg.com/media/EmBLJljXYAURsus.jpg   \n",
       "495     http://pbs.twimg.com/media/EmBJqfJWoAEdX6G.jpg   \n",
       "496  http://pbs.twimg.com/tweet_video_thumb/EmBKjBT...   \n",
       "\n",
       "                   tweet_url  \n",
       "116  https://t.co/AIj90BF9vH  \n",
       "117  https://t.co/GWRHjjCt0Z  \n",
       "118  https://t.co/sxelADgWay  \n",
       "119  https://t.co/OG0pIbEN1R  \n",
       "120  https://t.co/sodGxP9KxW  \n",
       "..                       ...  \n",
       "492  https://t.co/vww6deAh31  \n",
       "493  https://t.co/DxQ6BCVi4w  \n",
       "494  https://t.co/SyEBAq59nw  \n",
       "495  https://t.co/v6v7FKPAoi  \n",
       "496  https://t.co/8UDL1wOSyx  \n",
       "\n",
       "[335 rows x 15 columns]"
      ]
     },
     "execution_count": 80,
     "metadata": {},
     "output_type": "execute_result"
    }
   ],
   "source": [
    "df"
   ]
  },
  {
   "cell_type": "markdown",
   "metadata": {},
   "source": [
    "### late entry (only for day 2)"
   ]
  },
  {
   "cell_type": "code",
   "execution_count": 7,
   "metadata": {},
   "outputs": [],
   "source": [
    "# df[df['tweet_text'].str.contains('points', case=False) & \n",
    "#    df['tweet_text'].str.contains('day 1', case=False)].to_csv(\"./data/{}_late.csv\".format(date))"
   ]
  },
  {
   "cell_type": "code",
   "execution_count": 8,
   "metadata": {},
   "outputs": [],
   "source": [
    "# df = df.drop(df[df['tweet_text'].str.contains('points', case=False) & \n",
    "#                 df['tweet_text'].str.contains('day 1', case=False)].index)"
   ]
  },
  {
   "cell_type": "markdown",
   "metadata": {},
   "source": [
    "---"
   ]
  },
  {
   "cell_type": "markdown",
   "metadata": {},
   "source": [
    "## Overview"
   ]
  },
  {
   "cell_type": "code",
   "execution_count": 16,
   "metadata": {},
   "outputs": [
    {
     "data": {
      "text/html": [
       "<div>\n",
       "<style scoped>\n",
       "    .dataframe tbody tr th:only-of-type {\n",
       "        vertical-align: middle;\n",
       "    }\n",
       "\n",
       "    .dataframe tbody tr th {\n",
       "        vertical-align: top;\n",
       "    }\n",
       "\n",
       "    .dataframe thead th {\n",
       "        text-align: right;\n",
       "    }\n",
       "</style>\n",
       "<table border=\"1\" class=\"dataframe\">\n",
       "  <thead>\n",
       "    <tr style=\"text-align: right;\">\n",
       "      <th></th>\n",
       "      <th>retweet</th>\n",
       "      <th>favorite</th>\n",
       "      <th>user_follower</th>\n",
       "      <th>friends_count</th>\n",
       "    </tr>\n",
       "  </thead>\n",
       "  <tbody>\n",
       "    <tr>\n",
       "      <th>count</th>\n",
       "      <td>393.000000</td>\n",
       "      <td>393.000000</td>\n",
       "      <td>393.000000</td>\n",
       "      <td>393.000000</td>\n",
       "    </tr>\n",
       "    <tr>\n",
       "      <th>mean</th>\n",
       "      <td>3.249364</td>\n",
       "      <td>16.778626</td>\n",
       "      <td>1409.720102</td>\n",
       "      <td>662.134860</td>\n",
       "    </tr>\n",
       "    <tr>\n",
       "      <th>std</th>\n",
       "      <td>5.836978</td>\n",
       "      <td>36.911358</td>\n",
       "      <td>5689.031444</td>\n",
       "      <td>857.301559</td>\n",
       "    </tr>\n",
       "    <tr>\n",
       "      <th>min</th>\n",
       "      <td>0.000000</td>\n",
       "      <td>0.000000</td>\n",
       "      <td>0.000000</td>\n",
       "      <td>0.000000</td>\n",
       "    </tr>\n",
       "    <tr>\n",
       "      <th>25%</th>\n",
       "      <td>1.000000</td>\n",
       "      <td>4.000000</td>\n",
       "      <td>77.000000</td>\n",
       "      <td>158.000000</td>\n",
       "    </tr>\n",
       "    <tr>\n",
       "      <th>50%</th>\n",
       "      <td>2.000000</td>\n",
       "      <td>8.000000</td>\n",
       "      <td>280.000000</td>\n",
       "      <td>335.000000</td>\n",
       "    </tr>\n",
       "    <tr>\n",
       "      <th>75%</th>\n",
       "      <td>4.000000</td>\n",
       "      <td>18.000000</td>\n",
       "      <td>876.000000</td>\n",
       "      <td>780.000000</td>\n",
       "    </tr>\n",
       "    <tr>\n",
       "      <th>max</th>\n",
       "      <td>91.000000</td>\n",
       "      <td>624.000000</td>\n",
       "      <td>80333.000000</td>\n",
       "      <td>5454.000000</td>\n",
       "    </tr>\n",
       "  </tbody>\n",
       "</table>\n",
       "</div>"
      ],
      "text/plain": [
       "          retweet    favorite  user_follower  friends_count\n",
       "count  393.000000  393.000000     393.000000     393.000000\n",
       "mean     3.249364   16.778626    1409.720102     662.134860\n",
       "std      5.836978   36.911358    5689.031444     857.301559\n",
       "min      0.000000    0.000000       0.000000       0.000000\n",
       "25%      1.000000    4.000000      77.000000     158.000000\n",
       "50%      2.000000    8.000000     280.000000     335.000000\n",
       "75%      4.000000   18.000000     876.000000     780.000000\n",
       "max     91.000000  624.000000   80333.000000    5454.000000"
      ]
     },
     "execution_count": 16,
     "metadata": {},
     "output_type": "execute_result"
    }
   ],
   "source": [
    "df[['retweet','favorite', 'user_follower', 'friends_count']].describe()"
   ]
  },
  {
   "cell_type": "markdown",
   "metadata": {},
   "source": [
    "## Top favorited/retweeted `#30mapchallenges` post"
   ]
  },
  {
   "cell_type": "code",
   "execution_count": 81,
   "metadata": {},
   "outputs": [],
   "source": [
    "def sort_map(df, sortby, num):\n",
    "    df = df.sort_values(by='favorite', ascending=False).head(num)\n",
    "    df['user'] = '**[@' + df['user'] +']('+ df['tweet_url']+')**'\n",
    "    df['media'] = '![](' + df['media'] +')'\n",
    "    df = df[['user', 'retweet', 'favorite', 'media']].set_index(\"user\")\n",
    "    return(tabulate(df, headers='keys', tablefmt='github'))"
   ]
  },
  {
   "cell_type": "code",
   "execution_count": 83,
   "metadata": {},
   "outputs": [],
   "source": [
    "def tweet_shortcode(df, sortby, num):\n",
    "    df = df.sort_values(by=sortby, ascending=False).head(num)\n",
    "    df['shortcode'] = '{{< tweet ' + df['tweet_id'].apply(str) + ' >}}'\n",
    "    df = df[['shortcode']]\n",
    "    shortcode_ls = []\n",
    "    for i in df['shortcode']:\n",
    "        shortcode_ls.append(i)\n",
    "    return shortcode_ls"
   ]
  },
  {
   "cell_type": "code",
   "execution_count": 84,
   "metadata": {},
   "outputs": [
    {
     "name": "stdout",
     "output_type": "stream",
     "text": [
      "2020-11-05...\n",
      "\n",
      "Creating mardowkdown file ...\n"
     ]
    }
   ],
   "source": [
    "with open('day{}_{}.md'.format(date[-2:], theme_lookup[date[-2:]]), 'w') as f:\n",
    "    print(date +'...\\n')\n",
    "    print(\"Creating mardowkdown file ...\")\n",
    "    heading1 = \"## Top favorited post for day {} `#30mapchallenges ({})`\".format(date[-2:], theme_lookup[date[-2:]])\n",
    "    f.write(heading1+ '\\n')\n",
    "    f.write(sort_map(df, 'favorite', 15)+ '\\n \\n')\n",
    "    \n",
    "    heading2 = \"### Top retweeted post for day {} `#30mapchallenges ({})`\".format(date[-2:], theme_lookup[date[-2:]])\n",
    "    f.write(heading2+ '\\n')\n",
    "    f.write(sort_map(df, 'retweet', 15))"
   ]
  },
  {
   "cell_type": "code",
   "execution_count": 85,
   "metadata": {},
   "outputs": [
    {
     "name": "stdout",
     "output_type": "stream",
     "text": [
      "2020-11-05...\n",
      "\n",
      "Creating mardowkdown file ...\n"
     ]
    }
   ],
   "source": [
    "with open('../../Blog/mywebsite/content/en/post/30daymap-{}-{}.md'.format(date[-2:], theme_lookup[date[-2:]]), 'w') as f:\n",
    "    print(date +'...\\n')\n",
    "    print(\"Creating mardowkdown file ...\")\n",
    "\n",
    "    heading1 = \"## Top favorited post for day {} `#30mapchallenges ({})`\".format(date[-2:], theme_lookup[date[-2:]])\n",
    "    f.write(heading1+ '\\n')\n",
    "    for s in tweet_shortcode(df, 'favorite', 15):\n",
    "        f.write(s + '\\n')\n",
    "    \n",
    "    f.write('\\n')\n",
    "\n",
    "    heading2 = \"### Top retweeted post for day {} `#30mapchallenges ({})`\".format(date[-2:], theme_lookup[date[-2:]])\n",
    "    f.write(heading2+ '\\n')\n",
    "    for s in tweet_shortcode(df, 'retweet', 15):\n",
    "        f.write(s + '\\n')"
   ]
  },
  {
   "cell_type": "markdown",
   "metadata": {},
   "source": [
    "### Late entry"
   ]
  },
  {
   "cell_type": "code",
   "execution_count": 25,
   "metadata": {},
   "outputs": [
    {
     "name": "stdout",
     "output_type": "stream",
     "text": [
      "2020-11-02_late.csv\n",
      "Add to day 1...\n"
     ]
    }
   ],
   "source": [
    "# df_late = pd.read_csv(\"./data/{}_late.csv\".format(date))\n",
    "# print(\"{}_late.csv\".format(date))\n",
    "# print(\"Add to day 1...\")"
   ]
  },
  {
   "cell_type": "code",
   "execution_count": 27,
   "metadata": {},
   "outputs": [],
   "source": [
    "# df_late_fav = df_late.sort_values(by='favorite', ascending=False).head(5)\n",
    "# df_late_fav = df_late_fav[['user', 'retweet', 'favorite', 'media']]\n",
    "# df_late_fav['user'] = '**[@' + df_late['user'] +']('+ df_late['tweet_url']+')**'\n",
    "# df_late_fav['media'] = '![](' + df_late['media'] +')'"
   ]
  },
  {
   "cell_type": "code",
   "execution_count": 28,
   "metadata": {},
   "outputs": [
    {
     "name": "stdout",
     "output_type": "stream",
     "text": [
      "|    | user                                            |   retweet |   favorite | media                                               |\n",
      "|----|-------------------------------------------------|-----------|------------|-----------------------------------------------------|\n",
      "| 42 | **[@darenw](https://t.co/rZ2gtbJmI4)**          |         4 |         95 | ![](http://pbs.twimg.com/media/Elyc4d4XUAEs09h.jpg) |\n",
      "| 50 | **[@gonzalotalavera](https://t.co/I6UNoGYVOx)** |        22 |         60 | ![](http://pbs.twimg.com/media/ElyMGZFWkAA7Fx2.jpg) |\n",
      "| 53 | **[@PratapVardhan](https://t.co/WTT8WM17qy)**   |         4 |         43 | ![](http://pbs.twimg.com/media/Elx5722WkAEOOMf.jpg) |\n",
      "|  2 | **[@tomasral](https://t.co/khysneCwjM))**       |         5 |         35 | ![](http://pbs.twimg.com/media/El2FR9gXUAAU3Uf.jpg) |\n",
      "| 54 | **[@BZgeo](https://t.co/LavH2067O2)**           |         3 |         26 | ![](http://pbs.twimg.com/media/Elx0-fPXIAc9JGJ.png) |\n"
     ]
    }
   ],
   "source": [
    "print(tabulate(df_late_fav, headers='keys', tablefmt='github'))"
   ]
  },
  {
   "cell_type": "code",
   "execution_count": 29,
   "metadata": {},
   "outputs": [],
   "source": [
    "# df_late_rt = df_late.sort_values(by='retweet', ascending=False).head(5)\n",
    "# df_late_rt = df_late_rt[['user', 'retweet', 'favorite', 'media']]\n",
    "# df_late_rt['user'] = '**[@' + df_late['user'] +']('+ df_late['tweet_url']+')**'\n",
    "# df_late_rt['media'] = '![](' + df_late['media'] +')'"
   ]
  },
  {
   "cell_type": "code",
   "execution_count": 30,
   "metadata": {},
   "outputs": [
    {
     "name": "stdout",
     "output_type": "stream",
     "text": [
      "|    | user                                            |   retweet |   favorite | media                                               |\n",
      "|----|-------------------------------------------------|-----------|------------|-----------------------------------------------------|\n",
      "| 50 | **[@gonzalotalavera](https://t.co/I6UNoGYVOx)** |        22 |         60 | ![](http://pbs.twimg.com/media/ElyMGZFWkAA7Fx2.jpg) |\n",
      "| 24 | **[@neocartocnrs](https://t.co/1GcTGraT9T)**    |         8 |         14 | ![](http://pbs.twimg.com/media/Elz2OvNXEAAItfe.jpg) |\n",
      "|  2 | **[@tomasral](https://t.co/khysneCwjM))**       |         5 |         35 | ![](http://pbs.twimg.com/media/El2FR9gXUAAU3Uf.jpg) |\n",
      "| 57 | **[@nurussadad](https://t.co/z4HaIfQMBi)**      |         4 |          7 | ![](http://pbs.twimg.com/media/ElxuzgpU0AEIbdT.png) |\n",
      "|  7 | **[@geologyjesse](https://t.co/dR68mE4zhD)**    |         4 |         14 | ![](http://pbs.twimg.com/media/El1vroKWoAEozEk.jpg) |\n"
     ]
    }
   ],
   "source": [
    "# print(tabulate(df_late_rt, headers='keys', tablefmt='github'))"
   ]
  },
  {
   "cell_type": "code",
   "execution_count": null,
   "metadata": {},
   "outputs": [],
   "source": []
  },
  {
   "cell_type": "code",
   "execution_count": null,
   "metadata": {},
   "outputs": [],
   "source": []
  },
  {
   "cell_type": "code",
   "execution_count": null,
   "metadata": {},
   "outputs": [],
   "source": []
  },
  {
   "cell_type": "markdown",
   "metadata": {},
   "source": [
    "### Send tweet via API"
   ]
  },
  {
   "cell_type": "code",
   "execution_count": 48,
   "metadata": {},
   "outputs": [],
   "source": [
    "status = 'A github repo of monitoring tweets feeds with wonderful maps. Github: https://github.com/hn303/30DayMapChallenge-Bot'"
   ]
  },
  {
   "cell_type": "code",
   "execution_count": 45,
   "metadata": {},
   "outputs": [],
   "source": [
    "imagePath = \"screenshot/github.com_hn303_30DayMapChallenge-Bot.png\""
   ]
  },
  {
   "cell_type": "code",
   "execution_count": 49,
   "metadata": {},
   "outputs": [
    {
     "data": {
      "text/plain": [
       "Status(_api=<tweepy.api.API object at 0x000001D700B3FC88>, _json={'created_at': 'Wed Nov 04 13:14:23 +0000 2020', 'id': 1323976890621792256, 'id_str': '1323976890621792256', 'text': 'A github repo of monitoring tweets feeds with wonderful maps. **Github**:https://t.co/J1NHDOPpdT', 'truncated': False, 'entities': {'hashtags': [], 'symbols': [], 'user_mentions': [], 'urls': [{'url': 'https://t.co/J1NHDOPpdT', 'expanded_url': 'https://github.com/hn303/30DayMapChallenge-Bot', 'display_url': 'github.com/hn303/30DayMap…', 'indices': [73, 96]}]}, 'source': '<a href=\"https://www.landecon.cam.ac.uk/research/research-centres/lisa/members\" rel=\"nofollow\">Untitle_APP3</a>', 'in_reply_to_status_id': None, 'in_reply_to_status_id_str': None, 'in_reply_to_user_id': None, 'in_reply_to_user_id_str': None, 'in_reply_to_screen_name': None, 'user': {'id': 1078706606488068096, 'id_str': '1078706606488068096', 'name': 'Stan', 'screen_name': 'Stan_CamLE', 'location': '', 'description': '', 'url': None, 'entities': {'description': {'urls': []}}, 'protected': False, 'followers_count': 0, 'friends_count': 47, 'listed_count': 0, 'created_at': 'Fri Dec 28 17:37:51 +0000 2018', 'favourites_count': 1, 'utc_offset': None, 'time_zone': None, 'geo_enabled': False, 'verified': False, 'statuses_count': 7, 'lang': None, 'contributors_enabled': False, 'is_translator': False, 'is_translation_enabled': False, 'profile_background_color': 'F5F8FA', 'profile_background_image_url': None, 'profile_background_image_url_https': None, 'profile_background_tile': False, 'profile_image_url': 'http://pbs.twimg.com/profile_images/1083336903250898944/iOaAhsj6_normal.jpg', 'profile_image_url_https': 'https://pbs.twimg.com/profile_images/1083336903250898944/iOaAhsj6_normal.jpg', 'profile_banner_url': 'https://pbs.twimg.com/profile_banners/1078706606488068096/1546019581', 'profile_link_color': '1DA1F2', 'profile_sidebar_border_color': 'C0DEED', 'profile_sidebar_fill_color': 'DDEEF6', 'profile_text_color': '333333', 'profile_use_background_image': True, 'has_extended_profile': False, 'default_profile': True, 'default_profile_image': False, 'following': False, 'follow_request_sent': False, 'notifications': False, 'translator_type': 'none'}, 'geo': None, 'coordinates': None, 'place': None, 'contributors': None, 'is_quote_status': False, 'retweet_count': 0, 'favorite_count': 0, 'favorited': False, 'retweeted': False, 'possibly_sensitive': False, 'lang': 'en'}, created_at=datetime.datetime(2020, 11, 4, 13, 14, 23), id=1323976890621792256, id_str='1323976890621792256', text='A github repo of monitoring tweets feeds with wonderful maps. **Github**:https://t.co/J1NHDOPpdT', truncated=False, entities={'hashtags': [], 'symbols': [], 'user_mentions': [], 'urls': [{'url': 'https://t.co/J1NHDOPpdT', 'expanded_url': 'https://github.com/hn303/30DayMapChallenge-Bot', 'display_url': 'github.com/hn303/30DayMap…', 'indices': [73, 96]}]}, source='Untitle_APP3', source_url='https://www.landecon.cam.ac.uk/research/research-centres/lisa/members', in_reply_to_status_id=None, in_reply_to_status_id_str=None, in_reply_to_user_id=None, in_reply_to_user_id_str=None, in_reply_to_screen_name=None, author=User(_api=<tweepy.api.API object at 0x000001D700B3FC88>, _json={'id': 1078706606488068096, 'id_str': '1078706606488068096', 'name': 'Stan', 'screen_name': 'Stan_CamLE', 'location': '', 'description': '', 'url': None, 'entities': {'description': {'urls': []}}, 'protected': False, 'followers_count': 0, 'friends_count': 47, 'listed_count': 0, 'created_at': 'Fri Dec 28 17:37:51 +0000 2018', 'favourites_count': 1, 'utc_offset': None, 'time_zone': None, 'geo_enabled': False, 'verified': False, 'statuses_count': 7, 'lang': None, 'contributors_enabled': False, 'is_translator': False, 'is_translation_enabled': False, 'profile_background_color': 'F5F8FA', 'profile_background_image_url': None, 'profile_background_image_url_https': None, 'profile_background_tile': False, 'profile_image_url': 'http://pbs.twimg.com/profile_images/1083336903250898944/iOaAhsj6_normal.jpg', 'profile_image_url_https': 'https://pbs.twimg.com/profile_images/1083336903250898944/iOaAhsj6_normal.jpg', 'profile_banner_url': 'https://pbs.twimg.com/profile_banners/1078706606488068096/1546019581', 'profile_link_color': '1DA1F2', 'profile_sidebar_border_color': 'C0DEED', 'profile_sidebar_fill_color': 'DDEEF6', 'profile_text_color': '333333', 'profile_use_background_image': True, 'has_extended_profile': False, 'default_profile': True, 'default_profile_image': False, 'following': False, 'follow_request_sent': False, 'notifications': False, 'translator_type': 'none'}, id=1078706606488068096, id_str='1078706606488068096', name='Stan', screen_name='Stan_CamLE', location='', description='', url=None, entities={'description': {'urls': []}}, protected=False, followers_count=0, friends_count=47, listed_count=0, created_at=datetime.datetime(2018, 12, 28, 17, 37, 51), favourites_count=1, utc_offset=None, time_zone=None, geo_enabled=False, verified=False, statuses_count=7, lang=None, contributors_enabled=False, is_translator=False, is_translation_enabled=False, profile_background_color='F5F8FA', profile_background_image_url=None, profile_background_image_url_https=None, profile_background_tile=False, profile_image_url='http://pbs.twimg.com/profile_images/1083336903250898944/iOaAhsj6_normal.jpg', profile_image_url_https='https://pbs.twimg.com/profile_images/1083336903250898944/iOaAhsj6_normal.jpg', profile_banner_url='https://pbs.twimg.com/profile_banners/1078706606488068096/1546019581', profile_link_color='1DA1F2', profile_sidebar_border_color='C0DEED', profile_sidebar_fill_color='DDEEF6', profile_text_color='333333', profile_use_background_image=True, has_extended_profile=False, default_profile=True, default_profile_image=False, following=False, follow_request_sent=False, notifications=False, translator_type='none'), user=User(_api=<tweepy.api.API object at 0x000001D700B3FC88>, _json={'id': 1078706606488068096, 'id_str': '1078706606488068096', 'name': 'Stan', 'screen_name': 'Stan_CamLE', 'location': '', 'description': '', 'url': None, 'entities': {'description': {'urls': []}}, 'protected': False, 'followers_count': 0, 'friends_count': 47, 'listed_count': 0, 'created_at': 'Fri Dec 28 17:37:51 +0000 2018', 'favourites_count': 1, 'utc_offset': None, 'time_zone': None, 'geo_enabled': False, 'verified': False, 'statuses_count': 7, 'lang': None, 'contributors_enabled': False, 'is_translator': False, 'is_translation_enabled': False, 'profile_background_color': 'F5F8FA', 'profile_background_image_url': None, 'profile_background_image_url_https': None, 'profile_background_tile': False, 'profile_image_url': 'http://pbs.twimg.com/profile_images/1083336903250898944/iOaAhsj6_normal.jpg', 'profile_image_url_https': 'https://pbs.twimg.com/profile_images/1083336903250898944/iOaAhsj6_normal.jpg', 'profile_banner_url': 'https://pbs.twimg.com/profile_banners/1078706606488068096/1546019581', 'profile_link_color': '1DA1F2', 'profile_sidebar_border_color': 'C0DEED', 'profile_sidebar_fill_color': 'DDEEF6', 'profile_text_color': '333333', 'profile_use_background_image': True, 'has_extended_profile': False, 'default_profile': True, 'default_profile_image': False, 'following': False, 'follow_request_sent': False, 'notifications': False, 'translator_type': 'none'}, id=1078706606488068096, id_str='1078706606488068096', name='Stan', screen_name='Stan_CamLE', location='', description='', url=None, entities={'description': {'urls': []}}, protected=False, followers_count=0, friends_count=47, listed_count=0, created_at=datetime.datetime(2018, 12, 28, 17, 37, 51), favourites_count=1, utc_offset=None, time_zone=None, geo_enabled=False, verified=False, statuses_count=7, lang=None, contributors_enabled=False, is_translator=False, is_translation_enabled=False, profile_background_color='F5F8FA', profile_background_image_url=None, profile_background_image_url_https=None, profile_background_tile=False, profile_image_url='http://pbs.twimg.com/profile_images/1083336903250898944/iOaAhsj6_normal.jpg', profile_image_url_https='https://pbs.twimg.com/profile_images/1083336903250898944/iOaAhsj6_normal.jpg', profile_banner_url='https://pbs.twimg.com/profile_banners/1078706606488068096/1546019581', profile_link_color='1DA1F2', profile_sidebar_border_color='C0DEED', profile_sidebar_fill_color='DDEEF6', profile_text_color='333333', profile_use_background_image=True, has_extended_profile=False, default_profile=True, default_profile_image=False, following=False, follow_request_sent=False, notifications=False, translator_type='none'), geo=None, coordinates=None, place=None, contributors=None, is_quote_status=False, retweet_count=0, favorite_count=0, favorited=False, retweeted=False, possibly_sensitive=False, lang='en')"
      ]
     },
     "execution_count": 49,
     "metadata": {},
     "output_type": "execute_result"
    }
   ],
   "source": [
    "api.update_status(status)"
   ]
  },
  {
   "cell_type": "code",
   "execution_count": 46,
   "metadata": {},
   "outputs": [
    {
     "data": {
      "text/plain": [
       "Status(_api=<tweepy.api.API object at 0x000001D700B3FC88>, _json={'created_at': 'Wed Nov 04 12:58:56 +0000 2020', 'id': 1323973002543976450, 'id_str': '1323973002543976450', 'text': 'A github repo of monitoring tweets feeds with wonderful maps. https://t.co/J1NHDOPpdT https://t.co/HwA2aVTax1', 'truncated': False, 'entities': {'hashtags': [], 'symbols': [], 'user_mentions': [], 'urls': [{'url': 'https://t.co/J1NHDOPpdT', 'expanded_url': 'https://github.com/hn303/30DayMapChallenge-Bot', 'display_url': 'github.com/hn303/30DayMap…', 'indices': [62, 85]}], 'media': [{'id': 1323972999717003266, 'id_str': '1323972999717003266', 'indices': [86, 109], 'media_url': 'http://pbs.twimg.com/media/El-ybbRXIAICiB1.jpg', 'media_url_https': 'https://pbs.twimg.com/media/El-ybbRXIAICiB1.jpg', 'url': 'https://t.co/HwA2aVTax1', 'display_url': 'pic.twitter.com/HwA2aVTax1', 'expanded_url': 'https://twitter.com/Stan_CamLE/status/1323973002543976450/photo/1', 'type': 'photo', 'sizes': {'thumb': {'w': 150, 'h': 150, 'resize': 'crop'}, 'medium': {'w': 271, 'h': 1200, 'resize': 'fit'}, 'small': {'w': 153, 'h': 680, 'resize': 'fit'}, 'large': {'w': 462, 'h': 2048, 'resize': 'fit'}}}]}, 'extended_entities': {'media': [{'id': 1323972999717003266, 'id_str': '1323972999717003266', 'indices': [86, 109], 'media_url': 'http://pbs.twimg.com/media/El-ybbRXIAICiB1.jpg', 'media_url_https': 'https://pbs.twimg.com/media/El-ybbRXIAICiB1.jpg', 'url': 'https://t.co/HwA2aVTax1', 'display_url': 'pic.twitter.com/HwA2aVTax1', 'expanded_url': 'https://twitter.com/Stan_CamLE/status/1323973002543976450/photo/1', 'type': 'photo', 'sizes': {'thumb': {'w': 150, 'h': 150, 'resize': 'crop'}, 'medium': {'w': 271, 'h': 1200, 'resize': 'fit'}, 'small': {'w': 153, 'h': 680, 'resize': 'fit'}, 'large': {'w': 462, 'h': 2048, 'resize': 'fit'}}}]}, 'source': '<a href=\"https://www.landecon.cam.ac.uk/research/research-centres/lisa/members\" rel=\"nofollow\">Untitle_APP3</a>', 'in_reply_to_status_id': None, 'in_reply_to_status_id_str': None, 'in_reply_to_user_id': None, 'in_reply_to_user_id_str': None, 'in_reply_to_screen_name': None, 'user': {'id': 1078706606488068096, 'id_str': '1078706606488068096', 'name': 'Stan', 'screen_name': 'Stan_CamLE', 'location': '', 'description': '', 'url': None, 'entities': {'description': {'urls': []}}, 'protected': False, 'followers_count': 0, 'friends_count': 47, 'listed_count': 0, 'created_at': 'Fri Dec 28 17:37:51 +0000 2018', 'favourites_count': 1, 'utc_offset': None, 'time_zone': None, 'geo_enabled': False, 'verified': False, 'statuses_count': 7, 'lang': None, 'contributors_enabled': False, 'is_translator': False, 'is_translation_enabled': False, 'profile_background_color': 'F5F8FA', 'profile_background_image_url': None, 'profile_background_image_url_https': None, 'profile_background_tile': False, 'profile_image_url': 'http://pbs.twimg.com/profile_images/1083336903250898944/iOaAhsj6_normal.jpg', 'profile_image_url_https': 'https://pbs.twimg.com/profile_images/1083336903250898944/iOaAhsj6_normal.jpg', 'profile_banner_url': 'https://pbs.twimg.com/profile_banners/1078706606488068096/1546019581', 'profile_link_color': '1DA1F2', 'profile_sidebar_border_color': 'C0DEED', 'profile_sidebar_fill_color': 'DDEEF6', 'profile_text_color': '333333', 'profile_use_background_image': True, 'has_extended_profile': False, 'default_profile': True, 'default_profile_image': False, 'following': False, 'follow_request_sent': False, 'notifications': False, 'translator_type': 'none'}, 'geo': None, 'coordinates': None, 'place': None, 'contributors': None, 'is_quote_status': False, 'retweet_count': 0, 'favorite_count': 0, 'favorited': False, 'retweeted': False, 'possibly_sensitive': False, 'lang': 'en'}, created_at=datetime.datetime(2020, 11, 4, 12, 58, 56), id=1323973002543976450, id_str='1323973002543976450', text='A github repo of monitoring tweets feeds with wonderful maps. https://t.co/J1NHDOPpdT https://t.co/HwA2aVTax1', truncated=False, entities={'hashtags': [], 'symbols': [], 'user_mentions': [], 'urls': [{'url': 'https://t.co/J1NHDOPpdT', 'expanded_url': 'https://github.com/hn303/30DayMapChallenge-Bot', 'display_url': 'github.com/hn303/30DayMap…', 'indices': [62, 85]}], 'media': [{'id': 1323972999717003266, 'id_str': '1323972999717003266', 'indices': [86, 109], 'media_url': 'http://pbs.twimg.com/media/El-ybbRXIAICiB1.jpg', 'media_url_https': 'https://pbs.twimg.com/media/El-ybbRXIAICiB1.jpg', 'url': 'https://t.co/HwA2aVTax1', 'display_url': 'pic.twitter.com/HwA2aVTax1', 'expanded_url': 'https://twitter.com/Stan_CamLE/status/1323973002543976450/photo/1', 'type': 'photo', 'sizes': {'thumb': {'w': 150, 'h': 150, 'resize': 'crop'}, 'medium': {'w': 271, 'h': 1200, 'resize': 'fit'}, 'small': {'w': 153, 'h': 680, 'resize': 'fit'}, 'large': {'w': 462, 'h': 2048, 'resize': 'fit'}}}]}, extended_entities={'media': [{'id': 1323972999717003266, 'id_str': '1323972999717003266', 'indices': [86, 109], 'media_url': 'http://pbs.twimg.com/media/El-ybbRXIAICiB1.jpg', 'media_url_https': 'https://pbs.twimg.com/media/El-ybbRXIAICiB1.jpg', 'url': 'https://t.co/HwA2aVTax1', 'display_url': 'pic.twitter.com/HwA2aVTax1', 'expanded_url': 'https://twitter.com/Stan_CamLE/status/1323973002543976450/photo/1', 'type': 'photo', 'sizes': {'thumb': {'w': 150, 'h': 150, 'resize': 'crop'}, 'medium': {'w': 271, 'h': 1200, 'resize': 'fit'}, 'small': {'w': 153, 'h': 680, 'resize': 'fit'}, 'large': {'w': 462, 'h': 2048, 'resize': 'fit'}}}]}, source='Untitle_APP3', source_url='https://www.landecon.cam.ac.uk/research/research-centres/lisa/members', in_reply_to_status_id=None, in_reply_to_status_id_str=None, in_reply_to_user_id=None, in_reply_to_user_id_str=None, in_reply_to_screen_name=None, author=User(_api=<tweepy.api.API object at 0x000001D700B3FC88>, _json={'id': 1078706606488068096, 'id_str': '1078706606488068096', 'name': 'Stan', 'screen_name': 'Stan_CamLE', 'location': '', 'description': '', 'url': None, 'entities': {'description': {'urls': []}}, 'protected': False, 'followers_count': 0, 'friends_count': 47, 'listed_count': 0, 'created_at': 'Fri Dec 28 17:37:51 +0000 2018', 'favourites_count': 1, 'utc_offset': None, 'time_zone': None, 'geo_enabled': False, 'verified': False, 'statuses_count': 7, 'lang': None, 'contributors_enabled': False, 'is_translator': False, 'is_translation_enabled': False, 'profile_background_color': 'F5F8FA', 'profile_background_image_url': None, 'profile_background_image_url_https': None, 'profile_background_tile': False, 'profile_image_url': 'http://pbs.twimg.com/profile_images/1083336903250898944/iOaAhsj6_normal.jpg', 'profile_image_url_https': 'https://pbs.twimg.com/profile_images/1083336903250898944/iOaAhsj6_normal.jpg', 'profile_banner_url': 'https://pbs.twimg.com/profile_banners/1078706606488068096/1546019581', 'profile_link_color': '1DA1F2', 'profile_sidebar_border_color': 'C0DEED', 'profile_sidebar_fill_color': 'DDEEF6', 'profile_text_color': '333333', 'profile_use_background_image': True, 'has_extended_profile': False, 'default_profile': True, 'default_profile_image': False, 'following': False, 'follow_request_sent': False, 'notifications': False, 'translator_type': 'none'}, id=1078706606488068096, id_str='1078706606488068096', name='Stan', screen_name='Stan_CamLE', location='', description='', url=None, entities={'description': {'urls': []}}, protected=False, followers_count=0, friends_count=47, listed_count=0, created_at=datetime.datetime(2018, 12, 28, 17, 37, 51), favourites_count=1, utc_offset=None, time_zone=None, geo_enabled=False, verified=False, statuses_count=7, lang=None, contributors_enabled=False, is_translator=False, is_translation_enabled=False, profile_background_color='F5F8FA', profile_background_image_url=None, profile_background_image_url_https=None, profile_background_tile=False, profile_image_url='http://pbs.twimg.com/profile_images/1083336903250898944/iOaAhsj6_normal.jpg', profile_image_url_https='https://pbs.twimg.com/profile_images/1083336903250898944/iOaAhsj6_normal.jpg', profile_banner_url='https://pbs.twimg.com/profile_banners/1078706606488068096/1546019581', profile_link_color='1DA1F2', profile_sidebar_border_color='C0DEED', profile_sidebar_fill_color='DDEEF6', profile_text_color='333333', profile_use_background_image=True, has_extended_profile=False, default_profile=True, default_profile_image=False, following=False, follow_request_sent=False, notifications=False, translator_type='none'), user=User(_api=<tweepy.api.API object at 0x000001D700B3FC88>, _json={'id': 1078706606488068096, 'id_str': '1078706606488068096', 'name': 'Stan', 'screen_name': 'Stan_CamLE', 'location': '', 'description': '', 'url': None, 'entities': {'description': {'urls': []}}, 'protected': False, 'followers_count': 0, 'friends_count': 47, 'listed_count': 0, 'created_at': 'Fri Dec 28 17:37:51 +0000 2018', 'favourites_count': 1, 'utc_offset': None, 'time_zone': None, 'geo_enabled': False, 'verified': False, 'statuses_count': 7, 'lang': None, 'contributors_enabled': False, 'is_translator': False, 'is_translation_enabled': False, 'profile_background_color': 'F5F8FA', 'profile_background_image_url': None, 'profile_background_image_url_https': None, 'profile_background_tile': False, 'profile_image_url': 'http://pbs.twimg.com/profile_images/1083336903250898944/iOaAhsj6_normal.jpg', 'profile_image_url_https': 'https://pbs.twimg.com/profile_images/1083336903250898944/iOaAhsj6_normal.jpg', 'profile_banner_url': 'https://pbs.twimg.com/profile_banners/1078706606488068096/1546019581', 'profile_link_color': '1DA1F2', 'profile_sidebar_border_color': 'C0DEED', 'profile_sidebar_fill_color': 'DDEEF6', 'profile_text_color': '333333', 'profile_use_background_image': True, 'has_extended_profile': False, 'default_profile': True, 'default_profile_image': False, 'following': False, 'follow_request_sent': False, 'notifications': False, 'translator_type': 'none'}, id=1078706606488068096, id_str='1078706606488068096', name='Stan', screen_name='Stan_CamLE', location='', description='', url=None, entities={'description': {'urls': []}}, protected=False, followers_count=0, friends_count=47, listed_count=0, created_at=datetime.datetime(2018, 12, 28, 17, 37, 51), favourites_count=1, utc_offset=None, time_zone=None, geo_enabled=False, verified=False, statuses_count=7, lang=None, contributors_enabled=False, is_translator=False, is_translation_enabled=False, profile_background_color='F5F8FA', profile_background_image_url=None, profile_background_image_url_https=None, profile_background_tile=False, profile_image_url='http://pbs.twimg.com/profile_images/1083336903250898944/iOaAhsj6_normal.jpg', profile_image_url_https='https://pbs.twimg.com/profile_images/1083336903250898944/iOaAhsj6_normal.jpg', profile_banner_url='https://pbs.twimg.com/profile_banners/1078706606488068096/1546019581', profile_link_color='1DA1F2', profile_sidebar_border_color='C0DEED', profile_sidebar_fill_color='DDEEF6', profile_text_color='333333', profile_use_background_image=True, has_extended_profile=False, default_profile=True, default_profile_image=False, following=False, follow_request_sent=False, notifications=False, translator_type='none'), geo=None, coordinates=None, place=None, contributors=None, is_quote_status=False, retweet_count=0, favorite_count=0, favorited=False, retweeted=False, possibly_sensitive=False, lang='en')"
      ]
     },
     "execution_count": 46,
     "metadata": {},
     "output_type": "execute_result"
    }
   ],
   "source": [
    "api.update_with_media(imagePath, status)"
   ]
  },
  {
   "cell_type": "code",
   "execution_count": null,
   "metadata": {},
   "outputs": [],
   "source": []
  }
 ],
 "metadata": {
  "kernelspec": {
   "display_name": "Python 3",
   "language": "python",
   "name": "python3"
  },
  "language_info": {
   "codemirror_mode": {
    "name": "ipython",
    "version": 3
   },
   "file_extension": ".py",
   "mimetype": "text/x-python",
   "name": "python",
   "nbconvert_exporter": "python",
   "pygments_lexer": "ipython3",
   "version": "3.7.6"
  }
 },
 "nbformat": 4,
 "nbformat_minor": 4
}
