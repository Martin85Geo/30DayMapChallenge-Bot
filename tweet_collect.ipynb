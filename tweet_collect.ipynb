{
 "cells": [
  {
   "cell_type": "code",
   "execution_count": 1,
   "metadata": {
    "scrolled": true
   },
   "outputs": [],
   "source": [
    "import re\n",
    "import tweepy\n",
    "import pandas as pd\n",
    "from tweepy import OAuthHandler\n",
    "import yaml\n",
    "from tabulate import tabulate\n",
    "\n",
    "# from http.client import IncompleteRead\n",
    "# import threading \n",
    "# import datetime \n",
    "    \n",
    "    \n",
    "with open('credential3.yaml') as f:\n",
    "    config = yaml.load(f, Loader=yaml.SafeLoader)\n",
    "    \n",
    "consumer_key = config['consumer_key']\n",
    "consumer_secret = config['consumer_secret']\n",
    "access_token = config['access_token']\n",
    "access_secret = config['access_secret']\n",
    " \n",
    "auth = OAuthHandler(consumer_key, consumer_secret)\n",
    "auth.set_access_token(access_token, access_secret)\n",
    "\n",
    "api = tweepy.API(auth, wait_on_rate_limit=True, wait_on_rate_limit_notify=True)"
   ]
  },
  {
   "cell_type": "code",
   "execution_count": 2,
   "metadata": {},
   "outputs": [],
   "source": [
    "theme_lookup = {\"01\": \"Points\", \"02\": \"Lines\", \"03\": \"Polygons\", \"04\": \"Hexagons\", \"05\": \"Blue\", \"06\": \"Red\", \"07\": \"Green\", \"08\": \"Yellow\", \"09\": \"Monochrome\", \"10\": \"Grid\", \"11\": \"3D\", \"12\": \"Map not made with GIS software\", \"13\": \"Raster\", \"14\": \"Climate change\", \"15\": \"Connections\", \"16\": \"Island(s)\", \"17\": \"Historical map\", \"18\": \"Landuse\", \"19\": \"NULL\", \"20\": \"Population\", \"21\": \"Water\", \"22\": \"Movement\", \"23\": \"Boundaries\", \"24\": \"Elevation\", \"25\": \"COVID-19\", \"26\": \"Map with a new tool\", \"27\": \"Big or small data\", \"28\": \"Non-geographic map\", \"29\": \"Globe\", \"30\": \"A map\"}"
   ]
  },
  {
   "cell_type": "markdown",
   "metadata": {},
   "source": [
    "#### Set date"
   ]
  },
  {
   "cell_type": "code",
   "execution_count": 3,
   "metadata": {},
   "outputs": [],
   "source": [
    "date = '2020-11-06'\n",
    "start = '2020-11-06 00:00:00'\n",
    "end = '2020-11-07 00:00:00'"
   ]
  },
  {
   "cell_type": "code",
   "execution_count": 93,
   "metadata": {},
   "outputs": [
    {
     "name": "stdout",
     "output_type": "stream",
     "text": [
      "2020-11-03.csv\n"
     ]
    }
   ],
   "source": [
    "# date = '2020-11-03'\n",
    "# df = pd.read_csv(\"./data/{}.csv\".format(date))\n",
    "# print(\"{}.csv\".format(date))"
   ]
  },
  {
   "cell_type": "markdown",
   "metadata": {},
   "source": [
    "#### Collect tweets with hashtag `#30mapchallenges`"
   ]
  },
  {
   "cell_type": "code",
   "execution_count": 4,
   "metadata": {},
   "outputs": [],
   "source": [
    "def collect_tweets(search_words, since):\n",
    "    #tweets\n",
    "    tweet_id = []\n",
    "    tweet_text = []\n",
    "    language = []\n",
    "    tweet_created_at = []\n",
    "    retweet_count = []\n",
    "    favorite_count= []\n",
    "    hashtags= []\n",
    "    #users\n",
    "    user_id = []\n",
    "    user_name = []\n",
    "    user_screen_name = []\n",
    "    user_loc = []\n",
    "    user_follower = []\n",
    "    friends_count = []\n",
    "    #media\n",
    "    media = []\n",
    "    for tweet in tweepy.Cursor(api.search,\n",
    "                               q=search_words,\n",
    "                               since= since, \n",
    "                               include_entities=True, \n",
    "                               tweet_mode=\"extended\").items():\n",
    "        #tweets\n",
    "        tweet_id.append(tweet.id)\n",
    "        tweet_text.append(tweet.full_text)\n",
    "        language.append(tweet.lang)\n",
    "        tweet_created_at.append(tweet.created_at)\n",
    "        retweet_count.append(tweet.retweet_count)\n",
    "        favorite_count.append(tweet.favorite_count)\n",
    "        try:\n",
    "            hashtags.append(tweet.entities.get('hashtags', []))\n",
    "        except KeyError:\n",
    "            pass\n",
    "#         hashtags.append(tweet.entities.hashtags)\n",
    "        #users\n",
    "        user_id.append(tweet.user.id)\n",
    "        user_name.append(tweet.user.name)\n",
    "        user_screen_name.append(tweet.user.screen_name)\n",
    "        user_loc.append(tweet.user.location)\n",
    "        user_follower.append(tweet.user.followers_count)\n",
    "        friends_count.append(tweet.user.friends_count)\n",
    "        #media\n",
    "        try:\n",
    "            media.append(tweet.entities.get('media')[0].get('media_url'))\n",
    "#             print(tweet.entities.get('media'))\n",
    "        except Exception as e:\n",
    "            media.append(None)\n",
    "        #print([tweet.user.name,tweet.created_at,tweet.text])\n",
    "    df = pd.DataFrame({'tweet_id':tweet_id,\n",
    "                        'tweet_text':tweet_text,\n",
    "                        'language':language,\n",
    "                        'tweet_created_at':tweet_created_at,\n",
    "                        'retweet':retweet_count,\n",
    "                        'favorite':favorite_count,\n",
    "                        'hashtags':hashtags,\n",
    "                        'user_id':user_id,\n",
    "                        'user_name':user_name,\n",
    "                        'user':user_screen_name,\n",
    "                        'user_loc':user_loc,\n",
    "                        'user_follower':user_follower,\n",
    "                        'friends_count':friends_count,\n",
    "                        'media':media})\n",
    "            \n",
    "    return df"
   ]
  },
  {
   "cell_type": "code",
   "execution_count": 5,
   "metadata": {},
   "outputs": [],
   "source": [
    "search_words = \"#30DayMapChallenge -filter:retweets\"\n",
    "since = date\n",
    "\n",
    "df = collect_tweets(search_words, since)\n",
    "\n",
    "df = df[(df.tweet_created_at >= start) & \n",
    "   (df.tweet_created_at <= end)]\n",
    "\n",
    "# df1 = df[df['tweet_text'].str.contains(\"points\") | df['tweet_text'].str.contains(\"day 1\")]\n",
    "\n",
    "df = df[df['media'].notnull()]\n",
    "df['tweet_url'] = df['tweet_text'].str.extract('(?P<url>https?://[^\\s]+)', expand=False).str.strip()\n",
    "\n",
    "\n",
    "df.to_csv(\"./data/{}.csv\".format(date))"
   ]
  },
  {
   "cell_type": "code",
   "execution_count": 6,
   "metadata": {},
   "outputs": [
    {
     "data": {
      "text/html": [
       "<div>\n",
       "<style scoped>\n",
       "    .dataframe tbody tr th:only-of-type {\n",
       "        vertical-align: middle;\n",
       "    }\n",
       "\n",
       "    .dataframe tbody tr th {\n",
       "        vertical-align: top;\n",
       "    }\n",
       "\n",
       "    .dataframe thead th {\n",
       "        text-align: right;\n",
       "    }\n",
       "</style>\n",
       "<table border=\"1\" class=\"dataframe\">\n",
       "  <thead>\n",
       "    <tr style=\"text-align: right;\">\n",
       "      <th></th>\n",
       "      <th>tweet_id</th>\n",
       "      <th>tweet_text</th>\n",
       "      <th>language</th>\n",
       "      <th>tweet_created_at</th>\n",
       "      <th>retweet</th>\n",
       "      <th>favorite</th>\n",
       "      <th>hashtags</th>\n",
       "      <th>user_id</th>\n",
       "      <th>user_name</th>\n",
       "      <th>user</th>\n",
       "      <th>user_loc</th>\n",
       "      <th>user_follower</th>\n",
       "      <th>friends_count</th>\n",
       "      <th>media</th>\n",
       "      <th>tweet_url</th>\n",
       "    </tr>\n",
       "  </thead>\n",
       "  <tbody>\n",
       "    <tr>\n",
       "      <th>69</th>\n",
       "      <td>1324863615522856961</td>\n",
       "      <td>Día 1 Azul / Blue\\nBatimetría del Golfo de Méx...</td>\n",
       "      <td>es</td>\n",
       "      <td>2020-11-06 23:57:55</td>\n",
       "      <td>1</td>\n",
       "      <td>3</td>\n",
       "      <td>[{'text': '30DayMapChallenge', 'indices': [72,...</td>\n",
       "      <td>756293041</td>\n",
       "      <td>El Reta</td>\n",
       "      <td>EnriqueRetamoza</td>\n",
       "      <td></td>\n",
       "      <td>364</td>\n",
       "      <td>605</td>\n",
       "      <td>http://pbs.twimg.com/media/EmLcbBOU0AMQLT7.jpg</td>\n",
       "      <td>https://t.co/qcNPzOoHsW</td>\n",
       "    </tr>\n",
       "    <tr>\n",
       "      <th>70</th>\n",
       "      <td>1324863614755483649</td>\n",
       "      <td>#30DayMapChallenge \\n\\nDay 6: Red\\n\\nArchaeolo...</td>\n",
       "      <td>en</td>\n",
       "      <td>2020-11-06 23:57:55</td>\n",
       "      <td>1</td>\n",
       "      <td>7</td>\n",
       "      <td>[{'text': '30DayMapChallenge', 'indices': [0, ...</td>\n",
       "      <td>45565875</td>\n",
       "      <td>Emil Malta ❄️</td>\n",
       "      <td>emilmalta</td>\n",
       "      <td>Nuuk</td>\n",
       "      <td>176</td>\n",
       "      <td>939</td>\n",
       "      <td>http://pbs.twimg.com/media/EmLcbzwWMAAe9Cz.jpg</td>\n",
       "      <td>https://t.co/yCcpCpETW9</td>\n",
       "    </tr>\n",
       "    <tr>\n",
       "      <th>71</th>\n",
       "      <td>1324862602950946819</td>\n",
       "      <td>Red kites were locally extinct in Dumfries and...</td>\n",
       "      <td>en</td>\n",
       "      <td>2020-11-06 23:53:53</td>\n",
       "      <td>8</td>\n",
       "      <td>26</td>\n",
       "      <td>[{'text': '30DayMapChallenge', 'indices': [224...</td>\n",
       "      <td>1081900377853829120</td>\n",
       "      <td>D&amp;G place-names</td>\n",
       "      <td>dgplacenames</td>\n",
       "      <td></td>\n",
       "      <td>566</td>\n",
       "      <td>296</td>\n",
       "      <td>http://pbs.twimg.com/media/EmLawNgWEAANBs7.jpg</td>\n",
       "      <td>https://t.co/qs3uZUgISG</td>\n",
       "    </tr>\n",
       "    <tr>\n",
       "      <th>72</th>\n",
       "      <td>1324858609134657536</td>\n",
       "      <td>#30DayMapChallenge\\n#Day_6\\n#Red\\n#Wildfires\\n...</td>\n",
       "      <td>und</td>\n",
       "      <td>2020-11-06 23:38:01</td>\n",
       "      <td>2</td>\n",
       "      <td>0</td>\n",
       "      <td>[{'text': '30DayMapChallenge', 'indices': [0, ...</td>\n",
       "      <td>605417877</td>\n",
       "      <td>Daniel Ibáñez Campos</td>\n",
       "      <td>dic1991</td>\n",
       "      <td>Barcelona</td>\n",
       "      <td>60</td>\n",
       "      <td>575</td>\n",
       "      <td>http://pbs.twimg.com/media/EmLXzItXcAAHFEW.jpg</td>\n",
       "      <td>https://t.co/FfNWKPx8fM</td>\n",
       "    </tr>\n",
       "    <tr>\n",
       "      <th>73</th>\n",
       "      <td>1324858327336054784</td>\n",
       "      <td>#30DayMapChallenge Red \\n\\nZonas dialectales d...</td>\n",
       "      <td>es</td>\n",
       "      <td>2020-11-06 23:36:54</td>\n",
       "      <td>1</td>\n",
       "      <td>6</td>\n",
       "      <td>[{'text': '30DayMapChallenge', 'indices': [0, ...</td>\n",
       "      <td>358606269</td>\n",
       "      <td>El Diego</td>\n",
       "      <td>Kantzakata</td>\n",
       "      <td>Fonetitlán, Distrito Federal</td>\n",
       "      <td>84</td>\n",
       "      <td>231</td>\n",
       "      <td>http://pbs.twimg.com/media/EmLV9Y1UYAATjgr.jpg</td>\n",
       "      <td>https://t.co/Si5f6P0xvv</td>\n",
       "    </tr>\n",
       "    <tr>\n",
       "      <th>...</th>\n",
       "      <td>...</td>\n",
       "      <td>...</td>\n",
       "      <td>...</td>\n",
       "      <td>...</td>\n",
       "      <td>...</td>\n",
       "      <td>...</td>\n",
       "      <td>...</td>\n",
       "      <td>...</td>\n",
       "      <td>...</td>\n",
       "      <td>...</td>\n",
       "      <td>...</td>\n",
       "      <td>...</td>\n",
       "      <td>...</td>\n",
       "      <td>...</td>\n",
       "      <td>...</td>\n",
       "    </tr>\n",
       "    <tr>\n",
       "      <th>406</th>\n",
       "      <td>1324507315744038912</td>\n",
       "      <td>Day 5, Blue. #30DayMapChallenge, cuencas y sem...</td>\n",
       "      <td>es</td>\n",
       "      <td>2020-11-06 00:22:06</td>\n",
       "      <td>2</td>\n",
       "      <td>6</td>\n",
       "      <td>[{'text': '30DayMapChallenge', 'indices': [13,...</td>\n",
       "      <td>384907052</td>\n",
       "      <td>Leticia Luna</td>\n",
       "      <td>Letyludigital</td>\n",
       "      <td>México</td>\n",
       "      <td>1123</td>\n",
       "      <td>2447</td>\n",
       "      <td>http://pbs.twimg.com/media/EmGYDR1UYAIlq-m.jpg</td>\n",
       "      <td>https://t.co/INsceOsBfD</td>\n",
       "    </tr>\n",
       "    <tr>\n",
       "      <th>407</th>\n",
       "      <td>1324505281993363458</td>\n",
       "      <td>#30DayMapChallenge \\n\\nDay 6 Suggestion (Novem...</td>\n",
       "      <td>en</td>\n",
       "      <td>2020-11-06 00:14:02</td>\n",
       "      <td>1</td>\n",
       "      <td>0</td>\n",
       "      <td>[{'text': '30DayMapChallenge', 'indices': [0, ...</td>\n",
       "      <td>3160198320</td>\n",
       "      <td>Dr Chris #GIS #Success</td>\n",
       "      <td>DrChrisGeoSci</td>\n",
       "      <td>Calgary, Alberta</td>\n",
       "      <td>705</td>\n",
       "      <td>660</td>\n",
       "      <td>http://pbs.twimg.com/media/EmGWiOFXUAQS2Ry.png</td>\n",
       "      <td>https://t.co/ws8bK5YNpV</td>\n",
       "    </tr>\n",
       "    <tr>\n",
       "      <th>408</th>\n",
       "      <td>1324503978860638209</td>\n",
       "      <td>Day 5: blue \\n\\nNZ statistical fisheries zones...</td>\n",
       "      <td>en</td>\n",
       "      <td>2020-11-06 00:08:51</td>\n",
       "      <td>1</td>\n",
       "      <td>3</td>\n",
       "      <td>[{'text': '30DayMapChallenge', 'indices': [142...</td>\n",
       "      <td>12306</td>\n",
       "      <td>Luis Apiolaza 🧮🍃📷⏚</td>\n",
       "      <td>zentree</td>\n",
       "      <td>Ōtautahi, Aotearoa</td>\n",
       "      <td>1279</td>\n",
       "      <td>282</td>\n",
       "      <td>http://pbs.twimg.com/media/EmGVUAOU8AAuhTy.jpg</td>\n",
       "      <td>https://t.co/FYSSFptaa2</td>\n",
       "    </tr>\n",
       "    <tr>\n",
       "      <th>409</th>\n",
       "      <td>1324502843366277121</td>\n",
       "      <td>#30DayMapChallenge - we invite you to come to ...</td>\n",
       "      <td>en</td>\n",
       "      <td>2020-11-06 00:04:20</td>\n",
       "      <td>1</td>\n",
       "      <td>0</td>\n",
       "      <td>[{'text': '30DayMapChallenge', 'indices': [0, ...</td>\n",
       "      <td>10365542</td>\n",
       "      <td>GreenMap</td>\n",
       "      <td>GreenMap</td>\n",
       "      <td>NYC</td>\n",
       "      <td>4572</td>\n",
       "      <td>3729</td>\n",
       "      <td>http://pbs.twimg.com/media/EmGT6_2XUAESLX6.jpg</td>\n",
       "      <td>https://t.co/Cp77iHUii1</td>\n",
       "    </tr>\n",
       "    <tr>\n",
       "      <th>410</th>\n",
       "      <td>1324502250530766849</td>\n",
       "      <td>#30DayMapChallenge Day 6 | Red \\n\\nI'm not a #...</td>\n",
       "      <td>en</td>\n",
       "      <td>2020-11-06 00:01:59</td>\n",
       "      <td>2</td>\n",
       "      <td>10</td>\n",
       "      <td>[{'text': '30DayMapChallenge', 'indices': [0, ...</td>\n",
       "      <td>2614024302</td>\n",
       "      <td>Rob Radburn</td>\n",
       "      <td>robradburn</td>\n",
       "      <td>Leicester, UK</td>\n",
       "      <td>3180</td>\n",
       "      <td>748</td>\n",
       "      <td>http://pbs.twimg.com/media/EmGTxivXYAE5k40.jpg</td>\n",
       "      <td>https://t.co/ZgTabLscfa</td>\n",
       "    </tr>\n",
       "  </tbody>\n",
       "</table>\n",
       "<p>303 rows × 15 columns</p>\n",
       "</div>"
      ],
      "text/plain": [
       "                tweet_id                                         tweet_text  \\\n",
       "69   1324863615522856961  Día 1 Azul / Blue\\nBatimetría del Golfo de Méx...   \n",
       "70   1324863614755483649  #30DayMapChallenge \\n\\nDay 6: Red\\n\\nArchaeolo...   \n",
       "71   1324862602950946819  Red kites were locally extinct in Dumfries and...   \n",
       "72   1324858609134657536  #30DayMapChallenge\\n#Day_6\\n#Red\\n#Wildfires\\n...   \n",
       "73   1324858327336054784  #30DayMapChallenge Red \\n\\nZonas dialectales d...   \n",
       "..                   ...                                                ...   \n",
       "406  1324507315744038912  Day 5, Blue. #30DayMapChallenge, cuencas y sem...   \n",
       "407  1324505281993363458  #30DayMapChallenge \\n\\nDay 6 Suggestion (Novem...   \n",
       "408  1324503978860638209  Day 5: blue \\n\\nNZ statistical fisheries zones...   \n",
       "409  1324502843366277121  #30DayMapChallenge - we invite you to come to ...   \n",
       "410  1324502250530766849  #30DayMapChallenge Day 6 | Red \\n\\nI'm not a #...   \n",
       "\n",
       "    language    tweet_created_at  retweet  favorite  \\\n",
       "69        es 2020-11-06 23:57:55        1         3   \n",
       "70        en 2020-11-06 23:57:55        1         7   \n",
       "71        en 2020-11-06 23:53:53        8        26   \n",
       "72       und 2020-11-06 23:38:01        2         0   \n",
       "73        es 2020-11-06 23:36:54        1         6   \n",
       "..       ...                 ...      ...       ...   \n",
       "406       es 2020-11-06 00:22:06        2         6   \n",
       "407       en 2020-11-06 00:14:02        1         0   \n",
       "408       en 2020-11-06 00:08:51        1         3   \n",
       "409       en 2020-11-06 00:04:20        1         0   \n",
       "410       en 2020-11-06 00:01:59        2        10   \n",
       "\n",
       "                                              hashtags              user_id  \\\n",
       "69   [{'text': '30DayMapChallenge', 'indices': [72,...            756293041   \n",
       "70   [{'text': '30DayMapChallenge', 'indices': [0, ...             45565875   \n",
       "71   [{'text': '30DayMapChallenge', 'indices': [224...  1081900377853829120   \n",
       "72   [{'text': '30DayMapChallenge', 'indices': [0, ...            605417877   \n",
       "73   [{'text': '30DayMapChallenge', 'indices': [0, ...            358606269   \n",
       "..                                                 ...                  ...   \n",
       "406  [{'text': '30DayMapChallenge', 'indices': [13,...            384907052   \n",
       "407  [{'text': '30DayMapChallenge', 'indices': [0, ...           3160198320   \n",
       "408  [{'text': '30DayMapChallenge', 'indices': [142...                12306   \n",
       "409  [{'text': '30DayMapChallenge', 'indices': [0, ...             10365542   \n",
       "410  [{'text': '30DayMapChallenge', 'indices': [0, ...           2614024302   \n",
       "\n",
       "                  user_name             user                      user_loc  \\\n",
       "69                  El Reta  EnriqueRetamoza                                 \n",
       "70            Emil Malta ❄️        emilmalta                          Nuuk   \n",
       "71          D&G place-names     dgplacenames                                 \n",
       "72     Daniel Ibáñez Campos          dic1991                     Barcelona   \n",
       "73                 El Diego       Kantzakata  Fonetitlán, Distrito Federal   \n",
       "..                      ...              ...                           ...   \n",
       "406            Leticia Luna    Letyludigital                        México   \n",
       "407  Dr Chris #GIS #Success    DrChrisGeoSci              Calgary, Alberta   \n",
       "408      Luis Apiolaza 🧮🍃📷⏚          zentree            Ōtautahi, Aotearoa   \n",
       "409                GreenMap         GreenMap                           NYC   \n",
       "410             Rob Radburn       robradburn                 Leicester, UK   \n",
       "\n",
       "     user_follower  friends_count  \\\n",
       "69             364            605   \n",
       "70             176            939   \n",
       "71             566            296   \n",
       "72              60            575   \n",
       "73              84            231   \n",
       "..             ...            ...   \n",
       "406           1123           2447   \n",
       "407            705            660   \n",
       "408           1279            282   \n",
       "409           4572           3729   \n",
       "410           3180            748   \n",
       "\n",
       "                                              media                tweet_url  \n",
       "69   http://pbs.twimg.com/media/EmLcbBOU0AMQLT7.jpg  https://t.co/qcNPzOoHsW  \n",
       "70   http://pbs.twimg.com/media/EmLcbzwWMAAe9Cz.jpg  https://t.co/yCcpCpETW9  \n",
       "71   http://pbs.twimg.com/media/EmLawNgWEAANBs7.jpg  https://t.co/qs3uZUgISG  \n",
       "72   http://pbs.twimg.com/media/EmLXzItXcAAHFEW.jpg  https://t.co/FfNWKPx8fM  \n",
       "73   http://pbs.twimg.com/media/EmLV9Y1UYAATjgr.jpg  https://t.co/Si5f6P0xvv  \n",
       "..                                              ...                      ...  \n",
       "406  http://pbs.twimg.com/media/EmGYDR1UYAIlq-m.jpg  https://t.co/INsceOsBfD  \n",
       "407  http://pbs.twimg.com/media/EmGWiOFXUAQS2Ry.png  https://t.co/ws8bK5YNpV  \n",
       "408  http://pbs.twimg.com/media/EmGVUAOU8AAuhTy.jpg  https://t.co/FYSSFptaa2  \n",
       "409  http://pbs.twimg.com/media/EmGT6_2XUAESLX6.jpg  https://t.co/Cp77iHUii1  \n",
       "410  http://pbs.twimg.com/media/EmGTxivXYAE5k40.jpg  https://t.co/ZgTabLscfa  \n",
       "\n",
       "[303 rows x 15 columns]"
      ]
     },
     "execution_count": 6,
     "metadata": {},
     "output_type": "execute_result"
    }
   ],
   "source": [
    "df"
   ]
  },
  {
   "cell_type": "markdown",
   "metadata": {},
   "source": [
    "#### late entry (only for day 2)"
   ]
  },
  {
   "cell_type": "code",
   "execution_count": 7,
   "metadata": {},
   "outputs": [],
   "source": [
    "# df[df['tweet_text'].str.contains('points', case=False) & \n",
    "#    df['tweet_text'].str.contains('day 1', case=False)].to_csv(\"./data/{}_late.csv\".format(date))"
   ]
  },
  {
   "cell_type": "code",
   "execution_count": 8,
   "metadata": {},
   "outputs": [],
   "source": [
    "# df = df.drop(df[df['tweet_text'].str.contains('points', case=False) & \n",
    "#                 df['tweet_text'].str.contains('day 1', case=False)].index)"
   ]
  },
  {
   "cell_type": "markdown",
   "metadata": {},
   "source": [
    "---"
   ]
  },
  {
   "cell_type": "markdown",
   "metadata": {},
   "source": [
    "### Overview"
   ]
  },
  {
   "cell_type": "code",
   "execution_count": 7,
   "metadata": {},
   "outputs": [],
   "source": [
    "# df[['retweet','favorite', 'user_follower', 'friends_count']].describe()"
   ]
  },
  {
   "cell_type": "markdown",
   "metadata": {},
   "source": [
    "#### Top favorited/retweeted `#30mapchallenges` post"
   ]
  },
  {
   "cell_type": "code",
   "execution_count": 20,
   "metadata": {},
   "outputs": [],
   "source": [
    "def sort_map(df, sortby, num):\n",
    "    df = df.sort_values(by=sortby, ascending=False).head(num)\n",
    "    df['user'] = '**[@' + df['user'] +']('+ df['tweet_url']+')**'\n",
    "    df['media'] = '![](' + df['media'] +')'\n",
    "    df = df[['user', 'retweet', 'favorite', 'media']].set_index(\"user\")\n",
    "    return(tabulate(df, headers='keys', tablefmt='github'))"
   ]
  },
  {
   "cell_type": "code",
   "execution_count": 17,
   "metadata": {},
   "outputs": [],
   "source": [
    "def tweet_shortcode(df, sortby, num):\n",
    "    df = df.sort_values(by=sortby, ascending=False).head(num)\n",
    "    df['shortcode'] = '{{< tweet ' + df['tweet_id'].apply(str) + ' >}}'\n",
    "    df = df[['shortcode']]\n",
    "    shortcode_ls = []\n",
    "    for i in df['shortcode']:\n",
    "        shortcode_ls.append(i)\n",
    "    return shortcode_ls"
   ]
  },
  {
   "cell_type": "code",
   "execution_count": 21,
   "metadata": {},
   "outputs": [
    {
     "name": "stdout",
     "output_type": "stream",
     "text": [
      "2020-11-06...\n",
      "\n",
      "Creating mardowkdown file ...\n"
     ]
    }
   ],
   "source": [
    "# create md\n",
    "with open('day{}_{}.md'.format(date[-2:], theme_lookup[date[-2:]]), 'w') as f:\n",
    "    print(date +'...\\n')\n",
    "    print(\"Creating mardowkdown file ...\")\n",
    "    heading1 = \"#### Top favorited post for day {} `#30mapchallenges ({})`\".format(date[-2:], theme_lookup[date[-2:]])\n",
    "    f.write(heading1+ '\\n')\n",
    "    f.write(sort_map(df, 'favorite', 15)+ '\\n \\n')\n",
    "    \n",
    "#     heading2 = \"#### Top retweeted post for day {} `#30mapchallenges ({})`\".format(date[-2:], theme_lookup[date[-2:]])\n",
    "#     f.write(heading2+ '\\n')\n",
    "#     f.write(sort_map(df, 'retweet', 15))"
   ]
  },
  {
   "cell_type": "code",
   "execution_count": 19,
   "metadata": {},
   "outputs": [
    {
     "name": "stdout",
     "output_type": "stream",
     "text": [
      "2020-11-06...\n",
      "\n",
      "Creating mardowkdown file ...\n"
     ]
    }
   ],
   "source": [
    "# create md_index\n",
    "with open('../../Blog/mywebsite/content/en/post/30daymap-{}-{}.md'.format(date[-2:], theme_lookup[date[-2:]]), 'w') as f:\n",
    "    print(date +'...\\n')\n",
    "    print(\"Creating mardowkdown file ...\")\n",
    "\n",
    "    heading1 = \"### Top favorited post for day {} `#30mapchallenges ({})`\".format(date[-2:], theme_lookup[date[-2:]])\n",
    "    f.write(heading1+ '\\n')\n",
    "    for s in tweet_shortcode(df, 'favorite', 15):\n",
    "        f.write(s + '\\n')\n",
    "    \n",
    "    f.write('\\n')\n",
    "\n",
    "    heading2 = \"### Top retweeted post for day {} `#30mapchallenges ({})`\".format(date[-2:], theme_lookup[date[-2:]])\n",
    "    f.write(heading2+ '\\n')\n",
    "    for s in tweet_shortcode(df, 'retweet', 15):\n",
    "        f.write(s + '\\n')"
   ]
  },
  {
   "cell_type": "markdown",
   "metadata": {},
   "source": [
    "#### Late entry"
   ]
  },
  {
   "cell_type": "code",
   "execution_count": 25,
   "metadata": {},
   "outputs": [
    {
     "name": "stdout",
     "output_type": "stream",
     "text": [
      "2020-11-02_late.csv\n",
      "Add to day 1...\n"
     ]
    }
   ],
   "source": [
    "# df_late = pd.read_csv(\"./data/{}_late.csv\".format(date))\n",
    "# print(\"{}_late.csv\".format(date))\n",
    "# print(\"Add to day 1...\")"
   ]
  },
  {
   "cell_type": "code",
   "execution_count": 27,
   "metadata": {},
   "outputs": [],
   "source": [
    "# df_late_fav = df_late.sort_values(by='favorite', ascending=False).head(5)\n",
    "# df_late_fav = df_late_fav[['user', 'retweet', 'favorite', 'media']]\n",
    "# df_late_fav['user'] = '**[@' + df_late['user'] +']('+ df_late['tweet_url']+')**'\n",
    "# df_late_fav['media'] = '![](' + df_late['media'] +')'"
   ]
  },
  {
   "cell_type": "code",
   "execution_count": 28,
   "metadata": {},
   "outputs": [
    {
     "name": "stdout",
     "output_type": "stream",
     "text": [
      "|    | user                                            |   retweet |   favorite | media                                               |\n",
      "|----|-------------------------------------------------|-----------|------------|-----------------------------------------------------|\n",
      "| 42 | **[@darenw](https://t.co/rZ2gtbJmI4)**          |         4 |         95 | ![](http://pbs.twimg.com/media/Elyc4d4XUAEs09h.jpg) |\n",
      "| 50 | **[@gonzalotalavera](https://t.co/I6UNoGYVOx)** |        22 |         60 | ![](http://pbs.twimg.com/media/ElyMGZFWkAA7Fx2.jpg) |\n",
      "| 53 | **[@PratapVardhan](https://t.co/WTT8WM17qy)**   |         4 |         43 | ![](http://pbs.twimg.com/media/Elx5722WkAEOOMf.jpg) |\n",
      "|  2 | **[@tomasral](https://t.co/khysneCwjM))**       |         5 |         35 | ![](http://pbs.twimg.com/media/El2FR9gXUAAU3Uf.jpg) |\n",
      "| 54 | **[@BZgeo](https://t.co/LavH2067O2)**           |         3 |         26 | ![](http://pbs.twimg.com/media/Elx0-fPXIAc9JGJ.png) |\n"
     ]
    }
   ],
   "source": [
    "print(tabulate(df_late_fav, headers='keys', tablefmt='github'))"
   ]
  },
  {
   "cell_type": "code",
   "execution_count": 29,
   "metadata": {},
   "outputs": [],
   "source": [
    "# df_late_rt = df_late.sort_values(by='retweet', ascending=False).head(5)\n",
    "# df_late_rt = df_late_rt[['user', 'retweet', 'favorite', 'media']]\n",
    "# df_late_rt['user'] = '**[@' + df_late['user'] +']('+ df_late['tweet_url']+')**'\n",
    "# df_late_rt['media'] = '![](' + df_late['media'] +')'"
   ]
  },
  {
   "cell_type": "code",
   "execution_count": 30,
   "metadata": {},
   "outputs": [
    {
     "name": "stdout",
     "output_type": "stream",
     "text": [
      "|    | user                                            |   retweet |   favorite | media                                               |\n",
      "|----|-------------------------------------------------|-----------|------------|-----------------------------------------------------|\n",
      "| 50 | **[@gonzalotalavera](https://t.co/I6UNoGYVOx)** |        22 |         60 | ![](http://pbs.twimg.com/media/ElyMGZFWkAA7Fx2.jpg) |\n",
      "| 24 | **[@neocartocnrs](https://t.co/1GcTGraT9T)**    |         8 |         14 | ![](http://pbs.twimg.com/media/Elz2OvNXEAAItfe.jpg) |\n",
      "|  2 | **[@tomasral](https://t.co/khysneCwjM))**       |         5 |         35 | ![](http://pbs.twimg.com/media/El2FR9gXUAAU3Uf.jpg) |\n",
      "| 57 | **[@nurussadad](https://t.co/z4HaIfQMBi)**      |         4 |          7 | ![](http://pbs.twimg.com/media/ElxuzgpU0AEIbdT.png) |\n",
      "|  7 | **[@geologyjesse](https://t.co/dR68mE4zhD)**    |         4 |         14 | ![](http://pbs.twimg.com/media/El1vroKWoAEozEk.jpg) |\n"
     ]
    }
   ],
   "source": [
    "# print(tabulate(df_late_rt, headers='keys', tablefmt='github'))"
   ]
  },
  {
   "cell_type": "code",
   "execution_count": null,
   "metadata": {},
   "outputs": [],
   "source": []
  },
  {
   "cell_type": "code",
   "execution_count": null,
   "metadata": {},
   "outputs": [],
   "source": []
  },
  {
   "cell_type": "code",
   "execution_count": null,
   "metadata": {},
   "outputs": [],
   "source": []
  },
  {
   "cell_type": "markdown",
   "metadata": {},
   "source": [
    "### Send tweet via API"
   ]
  },
  {
   "cell_type": "code",
   "execution_count": 48,
   "metadata": {},
   "outputs": [],
   "source": [
    "status = 'A github repo of monitoring tweets feeds with wonderful maps. Github: https://github.com/hn303/30DayMapChallenge-Bot'"
   ]
  },
  {
   "cell_type": "code",
   "execution_count": 45,
   "metadata": {},
   "outputs": [],
   "source": [
    "imagePath = \"screenshot/github.com_hn303_30DayMapChallenge-Bot.png\""
   ]
  },
  {
   "cell_type": "code",
   "execution_count": 49,
   "metadata": {},
   "outputs": [
    {
     "data": {
      "text/plain": [
       "Status(_api=<tweepy.api.API object at 0x000001D700B3FC88>, _json={'created_at': 'Wed Nov 04 13:14:23 +0000 2020', 'id': 1323976890621792256, 'id_str': '1323976890621792256', 'text': 'A github repo of monitoring tweets feeds with wonderful maps. **Github**:https://t.co/J1NHDOPpdT', 'truncated': False, 'entities': {'hashtags': [], 'symbols': [], 'user_mentions': [], 'urls': [{'url': 'https://t.co/J1NHDOPpdT', 'expanded_url': 'https://github.com/hn303/30DayMapChallenge-Bot', 'display_url': 'github.com/hn303/30DayMap…', 'indices': [73, 96]}]}, 'source': '<a href=\"https://www.landecon.cam.ac.uk/research/research-centres/lisa/members\" rel=\"nofollow\">Untitle_APP3</a>', 'in_reply_to_status_id': None, 'in_reply_to_status_id_str': None, 'in_reply_to_user_id': None, 'in_reply_to_user_id_str': None, 'in_reply_to_screen_name': None, 'user': {'id': 1078706606488068096, 'id_str': '1078706606488068096', 'name': 'Stan', 'screen_name': 'Stan_CamLE', 'location': '', 'description': '', 'url': None, 'entities': {'description': {'urls': []}}, 'protected': False, 'followers_count': 0, 'friends_count': 47, 'listed_count': 0, 'created_at': 'Fri Dec 28 17:37:51 +0000 2018', 'favourites_count': 1, 'utc_offset': None, 'time_zone': None, 'geo_enabled': False, 'verified': False, 'statuses_count': 7, 'lang': None, 'contributors_enabled': False, 'is_translator': False, 'is_translation_enabled': False, 'profile_background_color': 'F5F8FA', 'profile_background_image_url': None, 'profile_background_image_url_https': None, 'profile_background_tile': False, 'profile_image_url': 'http://pbs.twimg.com/profile_images/1083336903250898944/iOaAhsj6_normal.jpg', 'profile_image_url_https': 'https://pbs.twimg.com/profile_images/1083336903250898944/iOaAhsj6_normal.jpg', 'profile_banner_url': 'https://pbs.twimg.com/profile_banners/1078706606488068096/1546019581', 'profile_link_color': '1DA1F2', 'profile_sidebar_border_color': 'C0DEED', 'profile_sidebar_fill_color': 'DDEEF6', 'profile_text_color': '333333', 'profile_use_background_image': True, 'has_extended_profile': False, 'default_profile': True, 'default_profile_image': False, 'following': False, 'follow_request_sent': False, 'notifications': False, 'translator_type': 'none'}, 'geo': None, 'coordinates': None, 'place': None, 'contributors': None, 'is_quote_status': False, 'retweet_count': 0, 'favorite_count': 0, 'favorited': False, 'retweeted': False, 'possibly_sensitive': False, 'lang': 'en'}, created_at=datetime.datetime(2020, 11, 4, 13, 14, 23), id=1323976890621792256, id_str='1323976890621792256', text='A github repo of monitoring tweets feeds with wonderful maps. **Github**:https://t.co/J1NHDOPpdT', truncated=False, entities={'hashtags': [], 'symbols': [], 'user_mentions': [], 'urls': [{'url': 'https://t.co/J1NHDOPpdT', 'expanded_url': 'https://github.com/hn303/30DayMapChallenge-Bot', 'display_url': 'github.com/hn303/30DayMap…', 'indices': [73, 96]}]}, source='Untitle_APP3', source_url='https://www.landecon.cam.ac.uk/research/research-centres/lisa/members', in_reply_to_status_id=None, in_reply_to_status_id_str=None, in_reply_to_user_id=None, in_reply_to_user_id_str=None, in_reply_to_screen_name=None, author=User(_api=<tweepy.api.API object at 0x000001D700B3FC88>, _json={'id': 1078706606488068096, 'id_str': '1078706606488068096', 'name': 'Stan', 'screen_name': 'Stan_CamLE', 'location': '', 'description': '', 'url': None, 'entities': {'description': {'urls': []}}, 'protected': False, 'followers_count': 0, 'friends_count': 47, 'listed_count': 0, 'created_at': 'Fri Dec 28 17:37:51 +0000 2018', 'favourites_count': 1, 'utc_offset': None, 'time_zone': None, 'geo_enabled': False, 'verified': False, 'statuses_count': 7, 'lang': None, 'contributors_enabled': False, 'is_translator': False, 'is_translation_enabled': False, 'profile_background_color': 'F5F8FA', 'profile_background_image_url': None, 'profile_background_image_url_https': None, 'profile_background_tile': False, 'profile_image_url': 'http://pbs.twimg.com/profile_images/1083336903250898944/iOaAhsj6_normal.jpg', 'profile_image_url_https': 'https://pbs.twimg.com/profile_images/1083336903250898944/iOaAhsj6_normal.jpg', 'profile_banner_url': 'https://pbs.twimg.com/profile_banners/1078706606488068096/1546019581', 'profile_link_color': '1DA1F2', 'profile_sidebar_border_color': 'C0DEED', 'profile_sidebar_fill_color': 'DDEEF6', 'profile_text_color': '333333', 'profile_use_background_image': True, 'has_extended_profile': False, 'default_profile': True, 'default_profile_image': False, 'following': False, 'follow_request_sent': False, 'notifications': False, 'translator_type': 'none'}, id=1078706606488068096, id_str='1078706606488068096', name='Stan', screen_name='Stan_CamLE', location='', description='', url=None, entities={'description': {'urls': []}}, protected=False, followers_count=0, friends_count=47, listed_count=0, created_at=datetime.datetime(2018, 12, 28, 17, 37, 51), favourites_count=1, utc_offset=None, time_zone=None, geo_enabled=False, verified=False, statuses_count=7, lang=None, contributors_enabled=False, is_translator=False, is_translation_enabled=False, profile_background_color='F5F8FA', profile_background_image_url=None, profile_background_image_url_https=None, profile_background_tile=False, profile_image_url='http://pbs.twimg.com/profile_images/1083336903250898944/iOaAhsj6_normal.jpg', profile_image_url_https='https://pbs.twimg.com/profile_images/1083336903250898944/iOaAhsj6_normal.jpg', profile_banner_url='https://pbs.twimg.com/profile_banners/1078706606488068096/1546019581', profile_link_color='1DA1F2', profile_sidebar_border_color='C0DEED', profile_sidebar_fill_color='DDEEF6', profile_text_color='333333', profile_use_background_image=True, has_extended_profile=False, default_profile=True, default_profile_image=False, following=False, follow_request_sent=False, notifications=False, translator_type='none'), user=User(_api=<tweepy.api.API object at 0x000001D700B3FC88>, _json={'id': 1078706606488068096, 'id_str': '1078706606488068096', 'name': 'Stan', 'screen_name': 'Stan_CamLE', 'location': '', 'description': '', 'url': None, 'entities': {'description': {'urls': []}}, 'protected': False, 'followers_count': 0, 'friends_count': 47, 'listed_count': 0, 'created_at': 'Fri Dec 28 17:37:51 +0000 2018', 'favourites_count': 1, 'utc_offset': None, 'time_zone': None, 'geo_enabled': False, 'verified': False, 'statuses_count': 7, 'lang': None, 'contributors_enabled': False, 'is_translator': False, 'is_translation_enabled': False, 'profile_background_color': 'F5F8FA', 'profile_background_image_url': None, 'profile_background_image_url_https': None, 'profile_background_tile': False, 'profile_image_url': 'http://pbs.twimg.com/profile_images/1083336903250898944/iOaAhsj6_normal.jpg', 'profile_image_url_https': 'https://pbs.twimg.com/profile_images/1083336903250898944/iOaAhsj6_normal.jpg', 'profile_banner_url': 'https://pbs.twimg.com/profile_banners/1078706606488068096/1546019581', 'profile_link_color': '1DA1F2', 'profile_sidebar_border_color': 'C0DEED', 'profile_sidebar_fill_color': 'DDEEF6', 'profile_text_color': '333333', 'profile_use_background_image': True, 'has_extended_profile': False, 'default_profile': True, 'default_profile_image': False, 'following': False, 'follow_request_sent': False, 'notifications': False, 'translator_type': 'none'}, id=1078706606488068096, id_str='1078706606488068096', name='Stan', screen_name='Stan_CamLE', location='', description='', url=None, entities={'description': {'urls': []}}, protected=False, followers_count=0, friends_count=47, listed_count=0, created_at=datetime.datetime(2018, 12, 28, 17, 37, 51), favourites_count=1, utc_offset=None, time_zone=None, geo_enabled=False, verified=False, statuses_count=7, lang=None, contributors_enabled=False, is_translator=False, is_translation_enabled=False, profile_background_color='F5F8FA', profile_background_image_url=None, profile_background_image_url_https=None, profile_background_tile=False, profile_image_url='http://pbs.twimg.com/profile_images/1083336903250898944/iOaAhsj6_normal.jpg', profile_image_url_https='https://pbs.twimg.com/profile_images/1083336903250898944/iOaAhsj6_normal.jpg', profile_banner_url='https://pbs.twimg.com/profile_banners/1078706606488068096/1546019581', profile_link_color='1DA1F2', profile_sidebar_border_color='C0DEED', profile_sidebar_fill_color='DDEEF6', profile_text_color='333333', profile_use_background_image=True, has_extended_profile=False, default_profile=True, default_profile_image=False, following=False, follow_request_sent=False, notifications=False, translator_type='none'), geo=None, coordinates=None, place=None, contributors=None, is_quote_status=False, retweet_count=0, favorite_count=0, favorited=False, retweeted=False, possibly_sensitive=False, lang='en')"
      ]
     },
     "execution_count": 49,
     "metadata": {},
     "output_type": "execute_result"
    }
   ],
   "source": [
    "api.update_status(status)"
   ]
  },
  {
   "cell_type": "code",
   "execution_count": 46,
   "metadata": {},
   "outputs": [
    {
     "data": {
      "text/plain": [
       "Status(_api=<tweepy.api.API object at 0x000001D700B3FC88>, _json={'created_at': 'Wed Nov 04 12:58:56 +0000 2020', 'id': 1323973002543976450, 'id_str': '1323973002543976450', 'text': 'A github repo of monitoring tweets feeds with wonderful maps. https://t.co/J1NHDOPpdT https://t.co/HwA2aVTax1', 'truncated': False, 'entities': {'hashtags': [], 'symbols': [], 'user_mentions': [], 'urls': [{'url': 'https://t.co/J1NHDOPpdT', 'expanded_url': 'https://github.com/hn303/30DayMapChallenge-Bot', 'display_url': 'github.com/hn303/30DayMap…', 'indices': [62, 85]}], 'media': [{'id': 1323972999717003266, 'id_str': '1323972999717003266', 'indices': [86, 109], 'media_url': 'http://pbs.twimg.com/media/El-ybbRXIAICiB1.jpg', 'media_url_https': 'https://pbs.twimg.com/media/El-ybbRXIAICiB1.jpg', 'url': 'https://t.co/HwA2aVTax1', 'display_url': 'pic.twitter.com/HwA2aVTax1', 'expanded_url': 'https://twitter.com/Stan_CamLE/status/1323973002543976450/photo/1', 'type': 'photo', 'sizes': {'thumb': {'w': 150, 'h': 150, 'resize': 'crop'}, 'medium': {'w': 271, 'h': 1200, 'resize': 'fit'}, 'small': {'w': 153, 'h': 680, 'resize': 'fit'}, 'large': {'w': 462, 'h': 2048, 'resize': 'fit'}}}]}, 'extended_entities': {'media': [{'id': 1323972999717003266, 'id_str': '1323972999717003266', 'indices': [86, 109], 'media_url': 'http://pbs.twimg.com/media/El-ybbRXIAICiB1.jpg', 'media_url_https': 'https://pbs.twimg.com/media/El-ybbRXIAICiB1.jpg', 'url': 'https://t.co/HwA2aVTax1', 'display_url': 'pic.twitter.com/HwA2aVTax1', 'expanded_url': 'https://twitter.com/Stan_CamLE/status/1323973002543976450/photo/1', 'type': 'photo', 'sizes': {'thumb': {'w': 150, 'h': 150, 'resize': 'crop'}, 'medium': {'w': 271, 'h': 1200, 'resize': 'fit'}, 'small': {'w': 153, 'h': 680, 'resize': 'fit'}, 'large': {'w': 462, 'h': 2048, 'resize': 'fit'}}}]}, 'source': '<a href=\"https://www.landecon.cam.ac.uk/research/research-centres/lisa/members\" rel=\"nofollow\">Untitle_APP3</a>', 'in_reply_to_status_id': None, 'in_reply_to_status_id_str': None, 'in_reply_to_user_id': None, 'in_reply_to_user_id_str': None, 'in_reply_to_screen_name': None, 'user': {'id': 1078706606488068096, 'id_str': '1078706606488068096', 'name': 'Stan', 'screen_name': 'Stan_CamLE', 'location': '', 'description': '', 'url': None, 'entities': {'description': {'urls': []}}, 'protected': False, 'followers_count': 0, 'friends_count': 47, 'listed_count': 0, 'created_at': 'Fri Dec 28 17:37:51 +0000 2018', 'favourites_count': 1, 'utc_offset': None, 'time_zone': None, 'geo_enabled': False, 'verified': False, 'statuses_count': 7, 'lang': None, 'contributors_enabled': False, 'is_translator': False, 'is_translation_enabled': False, 'profile_background_color': 'F5F8FA', 'profile_background_image_url': None, 'profile_background_image_url_https': None, 'profile_background_tile': False, 'profile_image_url': 'http://pbs.twimg.com/profile_images/1083336903250898944/iOaAhsj6_normal.jpg', 'profile_image_url_https': 'https://pbs.twimg.com/profile_images/1083336903250898944/iOaAhsj6_normal.jpg', 'profile_banner_url': 'https://pbs.twimg.com/profile_banners/1078706606488068096/1546019581', 'profile_link_color': '1DA1F2', 'profile_sidebar_border_color': 'C0DEED', 'profile_sidebar_fill_color': 'DDEEF6', 'profile_text_color': '333333', 'profile_use_background_image': True, 'has_extended_profile': False, 'default_profile': True, 'default_profile_image': False, 'following': False, 'follow_request_sent': False, 'notifications': False, 'translator_type': 'none'}, 'geo': None, 'coordinates': None, 'place': None, 'contributors': None, 'is_quote_status': False, 'retweet_count': 0, 'favorite_count': 0, 'favorited': False, 'retweeted': False, 'possibly_sensitive': False, 'lang': 'en'}, created_at=datetime.datetime(2020, 11, 4, 12, 58, 56), id=1323973002543976450, id_str='1323973002543976450', text='A github repo of monitoring tweets feeds with wonderful maps. https://t.co/J1NHDOPpdT https://t.co/HwA2aVTax1', truncated=False, entities={'hashtags': [], 'symbols': [], 'user_mentions': [], 'urls': [{'url': 'https://t.co/J1NHDOPpdT', 'expanded_url': 'https://github.com/hn303/30DayMapChallenge-Bot', 'display_url': 'github.com/hn303/30DayMap…', 'indices': [62, 85]}], 'media': [{'id': 1323972999717003266, 'id_str': '1323972999717003266', 'indices': [86, 109], 'media_url': 'http://pbs.twimg.com/media/El-ybbRXIAICiB1.jpg', 'media_url_https': 'https://pbs.twimg.com/media/El-ybbRXIAICiB1.jpg', 'url': 'https://t.co/HwA2aVTax1', 'display_url': 'pic.twitter.com/HwA2aVTax1', 'expanded_url': 'https://twitter.com/Stan_CamLE/status/1323973002543976450/photo/1', 'type': 'photo', 'sizes': {'thumb': {'w': 150, 'h': 150, 'resize': 'crop'}, 'medium': {'w': 271, 'h': 1200, 'resize': 'fit'}, 'small': {'w': 153, 'h': 680, 'resize': 'fit'}, 'large': {'w': 462, 'h': 2048, 'resize': 'fit'}}}]}, extended_entities={'media': [{'id': 1323972999717003266, 'id_str': '1323972999717003266', 'indices': [86, 109], 'media_url': 'http://pbs.twimg.com/media/El-ybbRXIAICiB1.jpg', 'media_url_https': 'https://pbs.twimg.com/media/El-ybbRXIAICiB1.jpg', 'url': 'https://t.co/HwA2aVTax1', 'display_url': 'pic.twitter.com/HwA2aVTax1', 'expanded_url': 'https://twitter.com/Stan_CamLE/status/1323973002543976450/photo/1', 'type': 'photo', 'sizes': {'thumb': {'w': 150, 'h': 150, 'resize': 'crop'}, 'medium': {'w': 271, 'h': 1200, 'resize': 'fit'}, 'small': {'w': 153, 'h': 680, 'resize': 'fit'}, 'large': {'w': 462, 'h': 2048, 'resize': 'fit'}}}]}, source='Untitle_APP3', source_url='https://www.landecon.cam.ac.uk/research/research-centres/lisa/members', in_reply_to_status_id=None, in_reply_to_status_id_str=None, in_reply_to_user_id=None, in_reply_to_user_id_str=None, in_reply_to_screen_name=None, author=User(_api=<tweepy.api.API object at 0x000001D700B3FC88>, _json={'id': 1078706606488068096, 'id_str': '1078706606488068096', 'name': 'Stan', 'screen_name': 'Stan_CamLE', 'location': '', 'description': '', 'url': None, 'entities': {'description': {'urls': []}}, 'protected': False, 'followers_count': 0, 'friends_count': 47, 'listed_count': 0, 'created_at': 'Fri Dec 28 17:37:51 +0000 2018', 'favourites_count': 1, 'utc_offset': None, 'time_zone': None, 'geo_enabled': False, 'verified': False, 'statuses_count': 7, 'lang': None, 'contributors_enabled': False, 'is_translator': False, 'is_translation_enabled': False, 'profile_background_color': 'F5F8FA', 'profile_background_image_url': None, 'profile_background_image_url_https': None, 'profile_background_tile': False, 'profile_image_url': 'http://pbs.twimg.com/profile_images/1083336903250898944/iOaAhsj6_normal.jpg', 'profile_image_url_https': 'https://pbs.twimg.com/profile_images/1083336903250898944/iOaAhsj6_normal.jpg', 'profile_banner_url': 'https://pbs.twimg.com/profile_banners/1078706606488068096/1546019581', 'profile_link_color': '1DA1F2', 'profile_sidebar_border_color': 'C0DEED', 'profile_sidebar_fill_color': 'DDEEF6', 'profile_text_color': '333333', 'profile_use_background_image': True, 'has_extended_profile': False, 'default_profile': True, 'default_profile_image': False, 'following': False, 'follow_request_sent': False, 'notifications': False, 'translator_type': 'none'}, id=1078706606488068096, id_str='1078706606488068096', name='Stan', screen_name='Stan_CamLE', location='', description='', url=None, entities={'description': {'urls': []}}, protected=False, followers_count=0, friends_count=47, listed_count=0, created_at=datetime.datetime(2018, 12, 28, 17, 37, 51), favourites_count=1, utc_offset=None, time_zone=None, geo_enabled=False, verified=False, statuses_count=7, lang=None, contributors_enabled=False, is_translator=False, is_translation_enabled=False, profile_background_color='F5F8FA', profile_background_image_url=None, profile_background_image_url_https=None, profile_background_tile=False, profile_image_url='http://pbs.twimg.com/profile_images/1083336903250898944/iOaAhsj6_normal.jpg', profile_image_url_https='https://pbs.twimg.com/profile_images/1083336903250898944/iOaAhsj6_normal.jpg', profile_banner_url='https://pbs.twimg.com/profile_banners/1078706606488068096/1546019581', profile_link_color='1DA1F2', profile_sidebar_border_color='C0DEED', profile_sidebar_fill_color='DDEEF6', profile_text_color='333333', profile_use_background_image=True, has_extended_profile=False, default_profile=True, default_profile_image=False, following=False, follow_request_sent=False, notifications=False, translator_type='none'), user=User(_api=<tweepy.api.API object at 0x000001D700B3FC88>, _json={'id': 1078706606488068096, 'id_str': '1078706606488068096', 'name': 'Stan', 'screen_name': 'Stan_CamLE', 'location': '', 'description': '', 'url': None, 'entities': {'description': {'urls': []}}, 'protected': False, 'followers_count': 0, 'friends_count': 47, 'listed_count': 0, 'created_at': 'Fri Dec 28 17:37:51 +0000 2018', 'favourites_count': 1, 'utc_offset': None, 'time_zone': None, 'geo_enabled': False, 'verified': False, 'statuses_count': 7, 'lang': None, 'contributors_enabled': False, 'is_translator': False, 'is_translation_enabled': False, 'profile_background_color': 'F5F8FA', 'profile_background_image_url': None, 'profile_background_image_url_https': None, 'profile_background_tile': False, 'profile_image_url': 'http://pbs.twimg.com/profile_images/1083336903250898944/iOaAhsj6_normal.jpg', 'profile_image_url_https': 'https://pbs.twimg.com/profile_images/1083336903250898944/iOaAhsj6_normal.jpg', 'profile_banner_url': 'https://pbs.twimg.com/profile_banners/1078706606488068096/1546019581', 'profile_link_color': '1DA1F2', 'profile_sidebar_border_color': 'C0DEED', 'profile_sidebar_fill_color': 'DDEEF6', 'profile_text_color': '333333', 'profile_use_background_image': True, 'has_extended_profile': False, 'default_profile': True, 'default_profile_image': False, 'following': False, 'follow_request_sent': False, 'notifications': False, 'translator_type': 'none'}, id=1078706606488068096, id_str='1078706606488068096', name='Stan', screen_name='Stan_CamLE', location='', description='', url=None, entities={'description': {'urls': []}}, protected=False, followers_count=0, friends_count=47, listed_count=0, created_at=datetime.datetime(2018, 12, 28, 17, 37, 51), favourites_count=1, utc_offset=None, time_zone=None, geo_enabled=False, verified=False, statuses_count=7, lang=None, contributors_enabled=False, is_translator=False, is_translation_enabled=False, profile_background_color='F5F8FA', profile_background_image_url=None, profile_background_image_url_https=None, profile_background_tile=False, profile_image_url='http://pbs.twimg.com/profile_images/1083336903250898944/iOaAhsj6_normal.jpg', profile_image_url_https='https://pbs.twimg.com/profile_images/1083336903250898944/iOaAhsj6_normal.jpg', profile_banner_url='https://pbs.twimg.com/profile_banners/1078706606488068096/1546019581', profile_link_color='1DA1F2', profile_sidebar_border_color='C0DEED', profile_sidebar_fill_color='DDEEF6', profile_text_color='333333', profile_use_background_image=True, has_extended_profile=False, default_profile=True, default_profile_image=False, following=False, follow_request_sent=False, notifications=False, translator_type='none'), geo=None, coordinates=None, place=None, contributors=None, is_quote_status=False, retweet_count=0, favorite_count=0, favorited=False, retweeted=False, possibly_sensitive=False, lang='en')"
      ]
     },
     "execution_count": 46,
     "metadata": {},
     "output_type": "execute_result"
    }
   ],
   "source": [
    "api.update_with_media(imagePath, status)"
   ]
  },
  {
   "cell_type": "code",
   "execution_count": null,
   "metadata": {},
   "outputs": [],
   "source": []
  }
 ],
 "metadata": {
  "kernelspec": {
   "display_name": "Python 3",
   "language": "python",
   "name": "python3"
  },
  "language_info": {
   "codemirror_mode": {
    "name": "ipython",
    "version": 3
   },
   "file_extension": ".py",
   "mimetype": "text/x-python",
   "name": "python",
   "nbconvert_exporter": "python",
   "pygments_lexer": "ipython3",
   "version": "3.7.6"
  }
 },
 "nbformat": 4,
 "nbformat_minor": 4
}
