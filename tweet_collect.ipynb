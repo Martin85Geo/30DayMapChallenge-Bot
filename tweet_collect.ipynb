{
 "cells": [
  {
   "cell_type": "code",
   "execution_count": 2,
   "metadata": {
    "scrolled": true
   },
   "outputs": [],
   "source": [
    "import re\n",
    "import tweepy\n",
    "import pandas as pd\n",
    "from tweepy import OAuthHandler\n",
    "import yaml\n",
    "from tabulate import tabulate\n",
    "\n",
    "# from http.client import IncompleteRead\n",
    "# import threading \n",
    "# import datetime \n",
    "    \n",
    "    \n",
    "with open('credential3.yaml') as f:\n",
    "    config = yaml.load(f, Loader=yaml.SafeLoader)\n",
    "    \n",
    "consumer_key = config['consumer_key']\n",
    "consumer_secret = config['consumer_secret']\n",
    "access_token = config['access_token']\n",
    "access_secret = config['access_secret']\n",
    " \n",
    "auth = OAuthHandler(consumer_key, consumer_secret)\n",
    "auth.set_access_token(access_token, access_secret)\n",
    "\n",
    "api = tweepy.API(auth, wait_on_rate_limit=True, wait_on_rate_limit_notify=True)"
   ]
  },
  {
   "cell_type": "markdown",
   "metadata": {},
   "source": [
    "#### Set date"
   ]
  },
  {
   "cell_type": "code",
   "execution_count": 98,
   "metadata": {},
   "outputs": [],
   "source": [
    "date = '2020-11-04'\n",
    "start = '2020-11-04 00:00:00'\n",
    "end = '2020-11-05 00:00:00'"
   ]
  },
  {
   "cell_type": "code",
   "execution_count": 93,
   "metadata": {},
   "outputs": [
    {
     "name": "stdout",
     "output_type": "stream",
     "text": [
      "2020-11-03.csv\n"
     ]
    }
   ],
   "source": [
    "# date = '2020-11-03'\n",
    "# df = pd.read_csv(\"./data/{}.csv\".format(date))\n",
    "# print(\"{}.csv\".format(date))"
   ]
  },
  {
   "cell_type": "markdown",
   "metadata": {},
   "source": [
    "#### Collect tweets with hashtag `#30mapchallenges`"
   ]
  },
  {
   "cell_type": "code",
   "execution_count": 99,
   "metadata": {},
   "outputs": [],
   "source": [
    "def collect_tweets(search_words, since):\n",
    "    #tweets\n",
    "    tweet_id = []\n",
    "    tweet_text = []\n",
    "    language = []\n",
    "    tweet_created_at = []\n",
    "    retweet_count = []\n",
    "    favorite_count= []\n",
    "    hashtags= []\n",
    "    #users\n",
    "    user_id = []\n",
    "    user_name = []\n",
    "    user_screen_name = []\n",
    "    user_loc = []\n",
    "    user_follower = []\n",
    "    friends_count = []\n",
    "    #media\n",
    "    media = []\n",
    "    for tweet in tweepy.Cursor(api.search,\n",
    "                               q=search_words,\n",
    "                               since= since, \n",
    "                               include_entities=True, \n",
    "                               tweet_mode=\"extended\").items():\n",
    "        #tweets\n",
    "        tweet_id.append(tweet.id)\n",
    "        tweet_text.append(tweet.full_text)\n",
    "        language.append(tweet.lang)\n",
    "        tweet_created_at.append(tweet.created_at)\n",
    "        retweet_count.append(tweet.retweet_count)\n",
    "        favorite_count.append(tweet.favorite_count)\n",
    "        try:\n",
    "            hashtags.append(tweet.entities.get('hashtags', []))\n",
    "        except KeyError:\n",
    "            pass\n",
    "#         hashtags.append(tweet.entities.hashtags)\n",
    "        #users\n",
    "        user_id.append(tweet.user.id)\n",
    "        user_name.append(tweet.user.name)\n",
    "        user_screen_name.append(tweet.user.screen_name)\n",
    "        user_loc.append(tweet.user.location)\n",
    "        user_follower.append(tweet.user.followers_count)\n",
    "        friends_count.append(tweet.user.friends_count)\n",
    "        #media\n",
    "        try:\n",
    "            media.append(tweet.entities.get('media')[0].get('media_url'))\n",
    "#             print(tweet.entities.get('media'))\n",
    "        except Exception as e:\n",
    "            media.append(None)\n",
    "        #print([tweet.user.name,tweet.created_at,tweet.text])\n",
    "    df = pd.DataFrame({'tweet_id':tweet_id,\n",
    "                        'tweet_text':tweet_text,\n",
    "                        'language':language,\n",
    "                        'tweet_created_at':tweet_created_at,\n",
    "                        'retweet':retweet_count,\n",
    "                        'favorite':favorite_count,\n",
    "                        'hashtags':hashtags,\n",
    "                        'user_id':user_id,\n",
    "                        'user_name':user_name,\n",
    "                        'user':user_screen_name,\n",
    "                        'user_loc':user_loc,\n",
    "                        'user_follower':user_follower,\n",
    "                        'friends_count':friends_count,\n",
    "                        'media':media})\n",
    "            \n",
    "    return df"
   ]
  },
  {
   "cell_type": "code",
   "execution_count": 102,
   "metadata": {},
   "outputs": [],
   "source": [
    "search_words = \"#30DayMapChallenge -filter:retweets\"\n",
    "since = \"2020-10-30\"\n",
    "\n",
    "df = collect_tweets(search_words, since)\n",
    "\n",
    "df = df[(df.tweet_created_at >= start) & \n",
    "   (df.tweet_created_at <= end)]\n",
    "\n",
    "# df1 = df[df['tweet_text'].str.contains(\"points\") | df['tweet_text'].str.contains(\"day 1\")]\n",
    "\n",
    "df = df[df['media'].notnull()]\n",
    "df['tweet_url'] = df['tweet_text'].str.extract('(?P<url>https?://[^\\s]+)', expand=False).str.strip()\n",
    "\n",
    "\n",
    "df.to_csv(\"./data/{}.csv\".format(date))"
   ]
  },
  {
   "cell_type": "code",
   "execution_count": 103,
   "metadata": {},
   "outputs": [
    {
     "data": {
      "text/html": [
       "<div>\n",
       "<style scoped>\n",
       "    .dataframe tbody tr th:only-of-type {\n",
       "        vertical-align: middle;\n",
       "    }\n",
       "\n",
       "    .dataframe tbody tr th {\n",
       "        vertical-align: top;\n",
       "    }\n",
       "\n",
       "    .dataframe thead th {\n",
       "        text-align: right;\n",
       "    }\n",
       "</style>\n",
       "<table border=\"1\" class=\"dataframe\">\n",
       "  <thead>\n",
       "    <tr style=\"text-align: right;\">\n",
       "      <th></th>\n",
       "      <th>tweet_id</th>\n",
       "      <th>tweet_text</th>\n",
       "      <th>language</th>\n",
       "      <th>tweet_created_at</th>\n",
       "      <th>retweet</th>\n",
       "      <th>favorite</th>\n",
       "      <th>hashtags</th>\n",
       "      <th>user_id</th>\n",
       "      <th>user_name</th>\n",
       "      <th>user</th>\n",
       "      <th>user_loc</th>\n",
       "      <th>user_follower</th>\n",
       "      <th>friends_count</th>\n",
       "      <th>media</th>\n",
       "      <th>tweet_url</th>\n",
       "    </tr>\n",
       "  </thead>\n",
       "  <tbody>\n",
       "    <tr>\n",
       "      <th>174</th>\n",
       "      <td>1324139193543569410</td>\n",
       "      <td>Day 4 of the #30DayMapChallenge with @OmniSci:...</td>\n",
       "      <td>en</td>\n",
       "      <td>2020-11-04 23:59:19</td>\n",
       "      <td>1</td>\n",
       "      <td>6</td>\n",
       "      <td>[{'text': '30DayMapChallenge', 'indices': [13,...</td>\n",
       "      <td>623327023</td>\n",
       "      <td>Anton1o</td>\n",
       "      <td>AFCotroneo</td>\n",
       "      <td></td>\n",
       "      <td>187</td>\n",
       "      <td>1302</td>\n",
       "      <td>http://pbs.twimg.com/media/EmBJfXaXgAIPp3i.jpg</td>\n",
       "      <td>https://t.co/uTi98Iv8nr</td>\n",
       "    </tr>\n",
       "    <tr>\n",
       "      <th>175</th>\n",
       "      <td>1324138830455214080</td>\n",
       "      <td>Reef and MPAs for the Pacific. #30DayMapChalle...</td>\n",
       "      <td>en</td>\n",
       "      <td>2020-11-04 23:57:53</td>\n",
       "      <td>1</td>\n",
       "      <td>9</td>\n",
       "      <td>[{'text': '30DayMapChallenge', 'indices': [31,...</td>\n",
       "      <td>4273148897</td>\n",
       "      <td>Carrol Chan</td>\n",
       "      <td>cmhc23</td>\n",
       "      <td>Fiji</td>\n",
       "      <td>435</td>\n",
       "      <td>387</td>\n",
       "      <td>http://pbs.twimg.com/media/EmBJHvuUYAENptQ.jpg</td>\n",
       "      <td>https://t.co/GSZKv2GRN7</td>\n",
       "    </tr>\n",
       "    <tr>\n",
       "      <th>176</th>\n",
       "      <td>1324138467555770369</td>\n",
       "      <td>Early, but day 5 of Early #30DayMapChallenge, ...</td>\n",
       "      <td>en</td>\n",
       "      <td>2020-11-04 23:56:26</td>\n",
       "      <td>5</td>\n",
       "      <td>6</td>\n",
       "      <td>[{'text': '30DayMapChallenge', 'indices': [26,...</td>\n",
       "      <td>1280909342745800710</td>\n",
       "      <td>Chris Lyons</td>\n",
       "      <td>ChrisLyons26</td>\n",
       "      <td>Shelbyville, KY</td>\n",
       "      <td>198</td>\n",
       "      <td>2589</td>\n",
       "      <td>http://pbs.twimg.com/media/EmBI6rPX0AAzECx.jpg</td>\n",
       "      <td>https://t.co/rTo2KhCABL</td>\n",
       "    </tr>\n",
       "    <tr>\n",
       "      <th>177</th>\n",
       "      <td>1324137155636187136</td>\n",
       "      <td>#30DayMapChallenge Day 4 Hexagons - tenuous li...</td>\n",
       "      <td>en</td>\n",
       "      <td>2020-11-04 23:51:13</td>\n",
       "      <td>1</td>\n",
       "      <td>1</td>\n",
       "      <td>[{'text': '30DayMapChallenge', 'indices': [0, ...</td>\n",
       "      <td>1091711968401154048</td>\n",
       "      <td>Brian Price</td>\n",
       "      <td>BrianSosban</td>\n",
       "      <td>Burscough, Lancashire, UK</td>\n",
       "      <td>3</td>\n",
       "      <td>36</td>\n",
       "      <td>http://pbs.twimg.com/media/EmBHrSIX0AEbM4Q.jpg</td>\n",
       "      <td>https://t.co/EFCnhIKz4y</td>\n",
       "    </tr>\n",
       "    <tr>\n",
       "      <th>178</th>\n",
       "      <td>1324135805779148802</td>\n",
       "      <td>#30DayMapChallenge Day 4... HEXAGONS\\n\\nNarwha...</td>\n",
       "      <td>en</td>\n",
       "      <td>2020-11-04 23:45:52</td>\n",
       "      <td>1</td>\n",
       "      <td>6</td>\n",
       "      <td>[{'text': '30DayMapChallenge', 'indices': [0, ...</td>\n",
       "      <td>1200892211996635139</td>\n",
       "      <td>Danae Kontou</td>\n",
       "      <td>DanaeKontou</td>\n",
       "      <td></td>\n",
       "      <td>10</td>\n",
       "      <td>86</td>\n",
       "      <td>http://pbs.twimg.com/media/EmBFCLXWkAkTMZQ.png</td>\n",
       "      <td>https://t.co/QuQzepAq1k</td>\n",
       "    </tr>\n",
       "    <tr>\n",
       "      <th>...</th>\n",
       "      <td>...</td>\n",
       "      <td>...</td>\n",
       "      <td>...</td>\n",
       "      <td>...</td>\n",
       "      <td>...</td>\n",
       "      <td>...</td>\n",
       "      <td>...</td>\n",
       "      <td>...</td>\n",
       "      <td>...</td>\n",
       "      <td>...</td>\n",
       "      <td>...</td>\n",
       "      <td>...</td>\n",
       "      <td>...</td>\n",
       "      <td>...</td>\n",
       "      <td>...</td>\n",
       "    </tr>\n",
       "    <tr>\n",
       "      <th>539</th>\n",
       "      <td>1323779050066857984</td>\n",
       "      <td>Day 3, Polygons . Continuing my Vermont theme ...</td>\n",
       "      <td>en</td>\n",
       "      <td>2020-11-04 00:08:14</td>\n",
       "      <td>1</td>\n",
       "      <td>2</td>\n",
       "      <td>[{'text': '30DayMapChallenge', 'indices': [70,...</td>\n",
       "      <td>721829381207887872</td>\n",
       "      <td>David Fox</td>\n",
       "      <td>ReynardSubtil</td>\n",
       "      <td>Vermont, USA</td>\n",
       "      <td>61</td>\n",
       "      <td>163</td>\n",
       "      <td>http://pbs.twimg.com/media/El8B5VVXgAEAKPE.jpg</td>\n",
       "      <td>https://t.co/zvFDvomebq</td>\n",
       "    </tr>\n",
       "    <tr>\n",
       "      <th>540</th>\n",
       "      <td>1323777937208987648</td>\n",
       "      <td>For Day 3 of the #30DayMapChallenge (Polygons)...</td>\n",
       "      <td>en</td>\n",
       "      <td>2020-11-04 00:03:49</td>\n",
       "      <td>1</td>\n",
       "      <td>18</td>\n",
       "      <td>[{'text': '30DayMapChallenge', 'indices': [17,...</td>\n",
       "      <td>1146772513051041792</td>\n",
       "      <td>Samara Ebinger</td>\n",
       "      <td>EbingerSamara</td>\n",
       "      <td>New Hampshire, USA</td>\n",
       "      <td>168</td>\n",
       "      <td>228</td>\n",
       "      <td>http://pbs.twimg.com/media/El7_799X0AE-rM7.png</td>\n",
       "      <td>https://t.co/DTPCqJvCrd</td>\n",
       "    </tr>\n",
       "    <tr>\n",
       "      <th>541</th>\n",
       "      <td>1323777436140580864</td>\n",
       "      <td>#30DayMapChallenge Day 4 | Hexagons\\n\\nA recen...</td>\n",
       "      <td>en</td>\n",
       "      <td>2020-11-04 00:01:50</td>\n",
       "      <td>1</td>\n",
       "      <td>9</td>\n",
       "      <td>[{'text': '30DayMapChallenge', 'indices': [0, ...</td>\n",
       "      <td>2614024302</td>\n",
       "      <td>Rob Radburn</td>\n",
       "      <td>robradburn</td>\n",
       "      <td>Leicester, UK</td>\n",
       "      <td>3181</td>\n",
       "      <td>749</td>\n",
       "      <td>http://pbs.twimg.com/media/El8AjsaWMAAnCkP.jpg</td>\n",
       "      <td>https://t.co/W1Wf05G5GA</td>\n",
       "    </tr>\n",
       "    <tr>\n",
       "      <th>542</th>\n",
       "      <td>1323777363050700800</td>\n",
       "      <td>Day 4 - Hexagons #30DayMapChallenge\\nGone topi...</td>\n",
       "      <td>en</td>\n",
       "      <td>2020-11-04 00:01:32</td>\n",
       "      <td>1</td>\n",
       "      <td>8</td>\n",
       "      <td>[{'text': '30DayMapChallenge', 'indices': [17,...</td>\n",
       "      <td>996835888813494272</td>\n",
       "      <td>Catherine Schroder</td>\n",
       "      <td>cj_maps</td>\n",
       "      <td>Scotland, United Kingdom</td>\n",
       "      <td>19</td>\n",
       "      <td>22</td>\n",
       "      <td>http://pbs.twimg.com/media/El8AftWX0AgDZuM.jpg</td>\n",
       "      <td>https://t.co/Q6yGIBcVoU</td>\n",
       "    </tr>\n",
       "    <tr>\n",
       "      <th>543</th>\n",
       "      <td>1323777149027995653</td>\n",
       "      <td>Day #3 of the #30DayMapChallenge! Today we loo...</td>\n",
       "      <td>en</td>\n",
       "      <td>2020-11-04 00:00:41</td>\n",
       "      <td>1</td>\n",
       "      <td>6</td>\n",
       "      <td>[{'text': '30DayMapChallenge', 'indices': [14,...</td>\n",
       "      <td>14153272</td>\n",
       "      <td>Juliana McMillan-Wilhoit</td>\n",
       "      <td>JulianaMapper</td>\n",
       "      <td></td>\n",
       "      <td>98</td>\n",
       "      <td>44</td>\n",
       "      <td>http://pbs.twimg.com/media/El8ATVYWkAACPHo.jpg</td>\n",
       "      <td>https://t.co/HTY0asHf3w</td>\n",
       "    </tr>\n",
       "  </tbody>\n",
       "</table>\n",
       "<p>326 rows × 15 columns</p>\n",
       "</div>"
      ],
      "text/plain": [
       "                tweet_id                                         tweet_text  \\\n",
       "174  1324139193543569410  Day 4 of the #30DayMapChallenge with @OmniSci:...   \n",
       "175  1324138830455214080  Reef and MPAs for the Pacific. #30DayMapChalle...   \n",
       "176  1324138467555770369  Early, but day 5 of Early #30DayMapChallenge, ...   \n",
       "177  1324137155636187136  #30DayMapChallenge Day 4 Hexagons - tenuous li...   \n",
       "178  1324135805779148802  #30DayMapChallenge Day 4... HEXAGONS\\n\\nNarwha...   \n",
       "..                   ...                                                ...   \n",
       "539  1323779050066857984  Day 3, Polygons . Continuing my Vermont theme ...   \n",
       "540  1323777937208987648  For Day 3 of the #30DayMapChallenge (Polygons)...   \n",
       "541  1323777436140580864  #30DayMapChallenge Day 4 | Hexagons\\n\\nA recen...   \n",
       "542  1323777363050700800  Day 4 - Hexagons #30DayMapChallenge\\nGone topi...   \n",
       "543  1323777149027995653  Day #3 of the #30DayMapChallenge! Today we loo...   \n",
       "\n",
       "    language    tweet_created_at  retweet  favorite  \\\n",
       "174       en 2020-11-04 23:59:19        1         6   \n",
       "175       en 2020-11-04 23:57:53        1         9   \n",
       "176       en 2020-11-04 23:56:26        5         6   \n",
       "177       en 2020-11-04 23:51:13        1         1   \n",
       "178       en 2020-11-04 23:45:52        1         6   \n",
       "..       ...                 ...      ...       ...   \n",
       "539       en 2020-11-04 00:08:14        1         2   \n",
       "540       en 2020-11-04 00:03:49        1        18   \n",
       "541       en 2020-11-04 00:01:50        1         9   \n",
       "542       en 2020-11-04 00:01:32        1         8   \n",
       "543       en 2020-11-04 00:00:41        1         6   \n",
       "\n",
       "                                              hashtags              user_id  \\\n",
       "174  [{'text': '30DayMapChallenge', 'indices': [13,...            623327023   \n",
       "175  [{'text': '30DayMapChallenge', 'indices': [31,...           4273148897   \n",
       "176  [{'text': '30DayMapChallenge', 'indices': [26,...  1280909342745800710   \n",
       "177  [{'text': '30DayMapChallenge', 'indices': [0, ...  1091711968401154048   \n",
       "178  [{'text': '30DayMapChallenge', 'indices': [0, ...  1200892211996635139   \n",
       "..                                                 ...                  ...   \n",
       "539  [{'text': '30DayMapChallenge', 'indices': [70,...   721829381207887872   \n",
       "540  [{'text': '30DayMapChallenge', 'indices': [17,...  1146772513051041792   \n",
       "541  [{'text': '30DayMapChallenge', 'indices': [0, ...           2614024302   \n",
       "542  [{'text': '30DayMapChallenge', 'indices': [17,...   996835888813494272   \n",
       "543  [{'text': '30DayMapChallenge', 'indices': [14,...             14153272   \n",
       "\n",
       "                    user_name           user                   user_loc  \\\n",
       "174                   Anton1o     AFCotroneo                              \n",
       "175               Carrol Chan         cmhc23                       Fiji   \n",
       "176               Chris Lyons   ChrisLyons26            Shelbyville, KY   \n",
       "177               Brian Price    BrianSosban  Burscough, Lancashire, UK   \n",
       "178              Danae Kontou    DanaeKontou                              \n",
       "..                        ...            ...                        ...   \n",
       "539                 David Fox  ReynardSubtil               Vermont, USA   \n",
       "540            Samara Ebinger  EbingerSamara         New Hampshire, USA   \n",
       "541               Rob Radburn     robradburn              Leicester, UK   \n",
       "542        Catherine Schroder        cj_maps   Scotland, United Kingdom   \n",
       "543  Juliana McMillan-Wilhoit  JulianaMapper                              \n",
       "\n",
       "     user_follower  friends_count  \\\n",
       "174            187           1302   \n",
       "175            435            387   \n",
       "176            198           2589   \n",
       "177              3             36   \n",
       "178             10             86   \n",
       "..             ...            ...   \n",
       "539             61            163   \n",
       "540            168            228   \n",
       "541           3181            749   \n",
       "542             19             22   \n",
       "543             98             44   \n",
       "\n",
       "                                              media                tweet_url  \n",
       "174  http://pbs.twimg.com/media/EmBJfXaXgAIPp3i.jpg  https://t.co/uTi98Iv8nr  \n",
       "175  http://pbs.twimg.com/media/EmBJHvuUYAENptQ.jpg  https://t.co/GSZKv2GRN7  \n",
       "176  http://pbs.twimg.com/media/EmBI6rPX0AAzECx.jpg  https://t.co/rTo2KhCABL  \n",
       "177  http://pbs.twimg.com/media/EmBHrSIX0AEbM4Q.jpg  https://t.co/EFCnhIKz4y  \n",
       "178  http://pbs.twimg.com/media/EmBFCLXWkAkTMZQ.png  https://t.co/QuQzepAq1k  \n",
       "..                                              ...                      ...  \n",
       "539  http://pbs.twimg.com/media/El8B5VVXgAEAKPE.jpg  https://t.co/zvFDvomebq  \n",
       "540  http://pbs.twimg.com/media/El7_799X0AE-rM7.png  https://t.co/DTPCqJvCrd  \n",
       "541  http://pbs.twimg.com/media/El8AjsaWMAAnCkP.jpg  https://t.co/W1Wf05G5GA  \n",
       "542  http://pbs.twimg.com/media/El8AftWX0AgDZuM.jpg  https://t.co/Q6yGIBcVoU  \n",
       "543  http://pbs.twimg.com/media/El8ATVYWkAACPHo.jpg  https://t.co/HTY0asHf3w  \n",
       "\n",
       "[326 rows x 15 columns]"
      ]
     },
     "execution_count": 103,
     "metadata": {},
     "output_type": "execute_result"
    }
   ],
   "source": [
    "df"
   ]
  },
  {
   "cell_type": "markdown",
   "metadata": {},
   "source": [
    "### late entry (only for day 2)"
   ]
  },
  {
   "cell_type": "code",
   "execution_count": 7,
   "metadata": {},
   "outputs": [],
   "source": [
    "# df[df['tweet_text'].str.contains('points', case=False) & \n",
    "#    df['tweet_text'].str.contains('day 1', case=False)].to_csv(\"./data/{}_late.csv\".format(date))"
   ]
  },
  {
   "cell_type": "code",
   "execution_count": 8,
   "metadata": {},
   "outputs": [],
   "source": [
    "# df = df.drop(df[df['tweet_text'].str.contains('points', case=False) & \n",
    "#                 df['tweet_text'].str.contains('day 1', case=False)].index)"
   ]
  },
  {
   "cell_type": "markdown",
   "metadata": {},
   "source": [
    "---"
   ]
  },
  {
   "cell_type": "markdown",
   "metadata": {},
   "source": [
    "## Overview"
   ]
  },
  {
   "cell_type": "code",
   "execution_count": 16,
   "metadata": {},
   "outputs": [
    {
     "data": {
      "text/html": [
       "<div>\n",
       "<style scoped>\n",
       "    .dataframe tbody tr th:only-of-type {\n",
       "        vertical-align: middle;\n",
       "    }\n",
       "\n",
       "    .dataframe tbody tr th {\n",
       "        vertical-align: top;\n",
       "    }\n",
       "\n",
       "    .dataframe thead th {\n",
       "        text-align: right;\n",
       "    }\n",
       "</style>\n",
       "<table border=\"1\" class=\"dataframe\">\n",
       "  <thead>\n",
       "    <tr style=\"text-align: right;\">\n",
       "      <th></th>\n",
       "      <th>retweet</th>\n",
       "      <th>favorite</th>\n",
       "      <th>user_follower</th>\n",
       "      <th>friends_count</th>\n",
       "    </tr>\n",
       "  </thead>\n",
       "  <tbody>\n",
       "    <tr>\n",
       "      <th>count</th>\n",
       "      <td>393.000000</td>\n",
       "      <td>393.000000</td>\n",
       "      <td>393.000000</td>\n",
       "      <td>393.000000</td>\n",
       "    </tr>\n",
       "    <tr>\n",
       "      <th>mean</th>\n",
       "      <td>3.249364</td>\n",
       "      <td>16.778626</td>\n",
       "      <td>1409.720102</td>\n",
       "      <td>662.134860</td>\n",
       "    </tr>\n",
       "    <tr>\n",
       "      <th>std</th>\n",
       "      <td>5.836978</td>\n",
       "      <td>36.911358</td>\n",
       "      <td>5689.031444</td>\n",
       "      <td>857.301559</td>\n",
       "    </tr>\n",
       "    <tr>\n",
       "      <th>min</th>\n",
       "      <td>0.000000</td>\n",
       "      <td>0.000000</td>\n",
       "      <td>0.000000</td>\n",
       "      <td>0.000000</td>\n",
       "    </tr>\n",
       "    <tr>\n",
       "      <th>25%</th>\n",
       "      <td>1.000000</td>\n",
       "      <td>4.000000</td>\n",
       "      <td>77.000000</td>\n",
       "      <td>158.000000</td>\n",
       "    </tr>\n",
       "    <tr>\n",
       "      <th>50%</th>\n",
       "      <td>2.000000</td>\n",
       "      <td>8.000000</td>\n",
       "      <td>280.000000</td>\n",
       "      <td>335.000000</td>\n",
       "    </tr>\n",
       "    <tr>\n",
       "      <th>75%</th>\n",
       "      <td>4.000000</td>\n",
       "      <td>18.000000</td>\n",
       "      <td>876.000000</td>\n",
       "      <td>780.000000</td>\n",
       "    </tr>\n",
       "    <tr>\n",
       "      <th>max</th>\n",
       "      <td>91.000000</td>\n",
       "      <td>624.000000</td>\n",
       "      <td>80333.000000</td>\n",
       "      <td>5454.000000</td>\n",
       "    </tr>\n",
       "  </tbody>\n",
       "</table>\n",
       "</div>"
      ],
      "text/plain": [
       "          retweet    favorite  user_follower  friends_count\n",
       "count  393.000000  393.000000     393.000000     393.000000\n",
       "mean     3.249364   16.778626    1409.720102     662.134860\n",
       "std      5.836978   36.911358    5689.031444     857.301559\n",
       "min      0.000000    0.000000       0.000000       0.000000\n",
       "25%      1.000000    4.000000      77.000000     158.000000\n",
       "50%      2.000000    8.000000     280.000000     335.000000\n",
       "75%      4.000000   18.000000     876.000000     780.000000\n",
       "max     91.000000  624.000000   80333.000000    5454.000000"
      ]
     },
     "execution_count": 16,
     "metadata": {},
     "output_type": "execute_result"
    }
   ],
   "source": [
    "df[['retweet','favorite', 'user_follower', 'friends_count']].describe()"
   ]
  },
  {
   "cell_type": "markdown",
   "metadata": {},
   "source": [
    "## Top favorited/retweeted `#30mapchallenges` post"
   ]
  },
  {
   "cell_type": "code",
   "execution_count": 82,
   "metadata": {},
   "outputs": [],
   "source": [
    "def sort_map(df, sortby, num):\n",
    "    print(date +'...\\n')\n",
    "    df = df.sort_values(by='favorite', ascending=False).head(num)\n",
    "    df['user'] = '**[@' + df['user'] +']('+ df['tweet_url']+')**'\n",
    "    df['media'] = '![](' + df['media'] +')'\n",
    "    df = df[['user', 'retweet', 'favorite', 'media']].set_index(\"user\")\n",
    "    print(tabulate(df, headers='keys', tablefmt='github'))"
   ]
  },
  {
   "cell_type": "code",
   "execution_count": 85,
   "metadata": {},
   "outputs": [],
   "source": [
    "def tweet_shortcode(df, sortby, num):\n",
    "    print(date +'...\\n')\n",
    "    df = df.sort_values(by=sortby, ascending=False).head(num)\n",
    "    print(\"## Top `{}` maps for Day {}\".format(sortby, date[-2:]))\n",
    "    for i in df['tweet_id']:\n",
    "        print('{{< tweet ' + str(i) +' >}}')"
   ]
  },
  {
   "cell_type": "code",
   "execution_count": 104,
   "metadata": {},
   "outputs": [
    {
     "name": "stdout",
     "output_type": "stream",
     "text": [
      "2020-11-04...\n",
      "\n",
      "| user                                            |   retweet |   favorite | media                                                                                        |\n",
      "|-------------------------------------------------|-----------|------------|----------------------------------------------------------------------------------------------|\n",
      "| **[@rajbhagatt](https://t.co/DU5EDua1NX)**      |        21 |        152 | ![](http://pbs.twimg.com/media/El_Lj7uVgAAUooh.jpg)                                          |\n",
      "| **[@Artisans_Cartos](https://t.co/qLduuBN5UC)** |        26 |        125 | ![](http://pbs.twimg.com/tweet_video_thumb/EmAE9UVXEAEeKaO.jpg)                              |\n",
      "| **[@darenw](https://t.co/CLGTIwbNwj)**          |         9 |         98 | ![](http://pbs.twimg.com/ext_tw_video_thumb/1323991938035523584/pu/img/OV5MM55om4WRHcY8.jpg) |\n",
      "| **[@cstats1](https://t.co/y9yZDTcGmj)**         |        17 |         87 | ![](http://pbs.twimg.com/ext_tw_video_thumb/1324114671956336642/pu/img/nj0k340toITZvLlL.jpg) |\n",
      "| **[@jstnbraaten](https://t.co/bctembj9yu)**     |        17 |         85 | ![](http://pbs.twimg.com/media/El_ShfgVcAAr_Gx.jpg)                                          |\n",
      "| **[@pinakographos](https://t.co/izGQyWVtEp,)**  |        10 |         83 | ![](http://pbs.twimg.com/media/EmAxxeUW0AEFMkQ.jpg)                                          |\n",
      "| **[@lecartographe](https://t.co/2Pbtkvd5MY)**   |        16 |         67 | ![](http://pbs.twimg.com/media/El_N-vLWMAYIz7a.jpg)                                          |\n",
      "| **[@pokateo_](https://t.co/bhkCPF5piz)**        |         8 |         65 | ![](http://pbs.twimg.com/media/El_FpO8XIAE_WYN.jpg)                                          |\n",
      "| **[@moaimx](https://t.co/yQZUesh465)**          |        17 |         64 | ![](http://pbs.twimg.com/media/El_blMzX0Ac-Egj.jpg)                                          |\n",
      "| **[@dickoah](https://t.co/P5v7ftf8ep)**         |        13 |         63 | ![](http://pbs.twimg.com/media/El_8ZTZWMAcFN_7.jpg)                                          |\n",
      "| **[@OrdnanceSurvey](https://t.co/97ESNgLiVV)**  |        15 |         62 | ![](http://pbs.twimg.com/media/El909QAWkAEJ8wH.jpg)                                          |\n",
      "| **[@kennethfield](https://t.co/uONFiFv0LZ)**    |         6 |         61 | ![](http://pbs.twimg.com/media/El73WduU0AAmnI9.jpg)                                          |\n",
      "| **[@Lene_Fischer](https://t.co/1x5QojOfHG)**    |         7 |         61 | ![](http://pbs.twimg.com/media/El-fSHYWoAErGdN.jpg)                                          |\n",
      "| **[@lacxrx](https://t.co/B8RB6YWME0)**          |         6 |         57 | ![](http://pbs.twimg.com/media/El9g2VuX0AcS3Eb.jpg)                                          |\n",
      "| **[@Helenmckmck](https://t.co/bfRePBFCvN)**     |         6 |         50 | ![](http://pbs.twimg.com/media/El-xFQXWMAMEGdT.jpg)                                          |\n"
     ]
    }
   ],
   "source": [
    "sort_map(df, 'favorite', 15)"
   ]
  },
  {
   "cell_type": "code",
   "execution_count": 105,
   "metadata": {},
   "outputs": [
    {
     "name": "stdout",
     "output_type": "stream",
     "text": [
      "2020-11-04...\n",
      "\n",
      "| user                                            |   retweet |   favorite | media                                                                                        |\n",
      "|-------------------------------------------------|-----------|------------|----------------------------------------------------------------------------------------------|\n",
      "| **[@rajbhagatt](https://t.co/DU5EDua1NX)**      |        21 |        152 | ![](http://pbs.twimg.com/media/El_Lj7uVgAAUooh.jpg)                                          |\n",
      "| **[@Artisans_Cartos](https://t.co/qLduuBN5UC)** |        26 |        125 | ![](http://pbs.twimg.com/tweet_video_thumb/EmAE9UVXEAEeKaO.jpg)                              |\n",
      "| **[@darenw](https://t.co/CLGTIwbNwj)**          |         9 |         98 | ![](http://pbs.twimg.com/ext_tw_video_thumb/1323991938035523584/pu/img/OV5MM55om4WRHcY8.jpg) |\n",
      "| **[@cstats1](https://t.co/y9yZDTcGmj)**         |        17 |         87 | ![](http://pbs.twimg.com/ext_tw_video_thumb/1324114671956336642/pu/img/nj0k340toITZvLlL.jpg) |\n",
      "| **[@jstnbraaten](https://t.co/bctembj9yu)**     |        17 |         85 | ![](http://pbs.twimg.com/media/El_ShfgVcAAr_Gx.jpg)                                          |\n",
      "| **[@pinakographos](https://t.co/izGQyWVtEp,)**  |        10 |         83 | ![](http://pbs.twimg.com/media/EmAxxeUW0AEFMkQ.jpg)                                          |\n",
      "| **[@lecartographe](https://t.co/2Pbtkvd5MY)**   |        16 |         67 | ![](http://pbs.twimg.com/media/El_N-vLWMAYIz7a.jpg)                                          |\n",
      "| **[@pokateo_](https://t.co/bhkCPF5piz)**        |         8 |         65 | ![](http://pbs.twimg.com/media/El_FpO8XIAE_WYN.jpg)                                          |\n",
      "| **[@moaimx](https://t.co/yQZUesh465)**          |        17 |         64 | ![](http://pbs.twimg.com/media/El_blMzX0Ac-Egj.jpg)                                          |\n",
      "| **[@dickoah](https://t.co/P5v7ftf8ep)**         |        13 |         63 | ![](http://pbs.twimg.com/media/El_8ZTZWMAcFN_7.jpg)                                          |\n",
      "| **[@OrdnanceSurvey](https://t.co/97ESNgLiVV)**  |        15 |         62 | ![](http://pbs.twimg.com/media/El909QAWkAEJ8wH.jpg)                                          |\n",
      "| **[@kennethfield](https://t.co/uONFiFv0LZ)**    |         6 |         61 | ![](http://pbs.twimg.com/media/El73WduU0AAmnI9.jpg)                                          |\n",
      "| **[@Lene_Fischer](https://t.co/1x5QojOfHG)**    |         7 |         61 | ![](http://pbs.twimg.com/media/El-fSHYWoAErGdN.jpg)                                          |\n",
      "| **[@lacxrx](https://t.co/B8RB6YWME0)**          |         6 |         57 | ![](http://pbs.twimg.com/media/El9g2VuX0AcS3Eb.jpg)                                          |\n",
      "| **[@Helenmckmck](https://t.co/bfRePBFCvN)**     |         6 |         50 | ![](http://pbs.twimg.com/media/El-xFQXWMAMEGdT.jpg)                                          |\n"
     ]
    }
   ],
   "source": [
    "sort_map(df, 'retweet', 15)"
   ]
  },
  {
   "cell_type": "code",
   "execution_count": 106,
   "metadata": {},
   "outputs": [
    {
     "name": "stdout",
     "output_type": "stream",
     "text": [
      "2020-11-04...\n",
      "\n",
      "## Top `favorite` maps for Day 04\n",
      "{{< tweet 1324000845134880769 >}}\n",
      "{{< tweet 1324064281382572034 >}}\n",
      "{{< tweet 1323992133334781952 >}}\n",
      "{{< tweet 1324114711516950529 >}}\n",
      "{{< tweet 1324009073692479489 >}}\n",
      "{{< tweet 1324113530661097477 >}}\n",
      "{{< tweet 1324004099965263874 >}}\n",
      "{{< tweet 1323994953245184000 >}}\n",
      "{{< tweet 1324018953895747584 >}}\n",
      "{{< tweet 1324054397421236231 >}}\n",
      "{{< tweet 1323905416598880258 >}}\n",
      "{{< tweet 1323898023424962561 >}}\n",
      "{{< tweet 1323951970323959808 >}}\n",
      "{{< tweet 1323884771739619329 >}}\n",
      "{{< tweet 1323971979855220739 >}}\n"
     ]
    }
   ],
   "source": [
    "tweet_shortcode(df, 'favorite', 15)"
   ]
  },
  {
   "cell_type": "code",
   "execution_count": 107,
   "metadata": {},
   "outputs": [
    {
     "name": "stdout",
     "output_type": "stream",
     "text": [
      "2020-11-04...\n",
      "\n",
      "## Top `retweet` maps for Day 04\n",
      "{{< tweet 1324064281382572034 >}}\n",
      "{{< tweet 1324000845134880769 >}}\n",
      "{{< tweet 1324009073692479489 >}}\n",
      "{{< tweet 1324018953895747584 >}}\n",
      "{{< tweet 1324114711516950529 >}}\n",
      "{{< tweet 1324004099965263874 >}}\n",
      "{{< tweet 1323905416598880258 >}}\n",
      "{{< tweet 1324054397421236231 >}}\n",
      "{{< tweet 1324051285671350275 >}}\n",
      "{{< tweet 1323917536719740930 >}}\n",
      "{{< tweet 1324055479086174208 >}}\n",
      "{{< tweet 1324113530661097477 >}}\n",
      "{{< tweet 1323796374757003265 >}}\n",
      "{{< tweet 1323892285956870145 >}}\n",
      "{{< tweet 1323992133334781952 >}}\n"
     ]
    }
   ],
   "source": [
    "tweet_shortcode(df, 'retweet', 15)"
   ]
  },
  {
   "cell_type": "markdown",
   "metadata": {},
   "source": [
    "### Late entry"
   ]
  },
  {
   "cell_type": "code",
   "execution_count": 25,
   "metadata": {},
   "outputs": [
    {
     "name": "stdout",
     "output_type": "stream",
     "text": [
      "2020-11-02_late.csv\n",
      "Add to day 1...\n"
     ]
    }
   ],
   "source": [
    "# df_late = pd.read_csv(\"./data/{}_late.csv\".format(date))\n",
    "# print(\"{}_late.csv\".format(date))\n",
    "# print(\"Add to day 1...\")"
   ]
  },
  {
   "cell_type": "code",
   "execution_count": 27,
   "metadata": {},
   "outputs": [],
   "source": [
    "# df_late_fav = df_late.sort_values(by='favorite', ascending=False).head(5)\n",
    "# df_late_fav = df_late_fav[['user', 'retweet', 'favorite', 'media']]\n",
    "# df_late_fav['user'] = '**[@' + df_late['user'] +']('+ df_late['tweet_url']+')**'\n",
    "# df_late_fav['media'] = '![](' + df_late['media'] +')'"
   ]
  },
  {
   "cell_type": "code",
   "execution_count": 28,
   "metadata": {},
   "outputs": [
    {
     "name": "stdout",
     "output_type": "stream",
     "text": [
      "|    | user                                            |   retweet |   favorite | media                                               |\n",
      "|----|-------------------------------------------------|-----------|------------|-----------------------------------------------------|\n",
      "| 42 | **[@darenw](https://t.co/rZ2gtbJmI4)**          |         4 |         95 | ![](http://pbs.twimg.com/media/Elyc4d4XUAEs09h.jpg) |\n",
      "| 50 | **[@gonzalotalavera](https://t.co/I6UNoGYVOx)** |        22 |         60 | ![](http://pbs.twimg.com/media/ElyMGZFWkAA7Fx2.jpg) |\n",
      "| 53 | **[@PratapVardhan](https://t.co/WTT8WM17qy)**   |         4 |         43 | ![](http://pbs.twimg.com/media/Elx5722WkAEOOMf.jpg) |\n",
      "|  2 | **[@tomasral](https://t.co/khysneCwjM))**       |         5 |         35 | ![](http://pbs.twimg.com/media/El2FR9gXUAAU3Uf.jpg) |\n",
      "| 54 | **[@BZgeo](https://t.co/LavH2067O2)**           |         3 |         26 | ![](http://pbs.twimg.com/media/Elx0-fPXIAc9JGJ.png) |\n"
     ]
    }
   ],
   "source": [
    "print(tabulate(df_late_fav, headers='keys', tablefmt='github'))"
   ]
  },
  {
   "cell_type": "code",
   "execution_count": 29,
   "metadata": {},
   "outputs": [],
   "source": [
    "# df_late_rt = df_late.sort_values(by='retweet', ascending=False).head(5)\n",
    "# df_late_rt = df_late_rt[['user', 'retweet', 'favorite', 'media']]\n",
    "# df_late_rt['user'] = '**[@' + df_late['user'] +']('+ df_late['tweet_url']+')**'\n",
    "# df_late_rt['media'] = '![](' + df_late['media'] +')'"
   ]
  },
  {
   "cell_type": "code",
   "execution_count": 30,
   "metadata": {},
   "outputs": [
    {
     "name": "stdout",
     "output_type": "stream",
     "text": [
      "|    | user                                            |   retweet |   favorite | media                                               |\n",
      "|----|-------------------------------------------------|-----------|------------|-----------------------------------------------------|\n",
      "| 50 | **[@gonzalotalavera](https://t.co/I6UNoGYVOx)** |        22 |         60 | ![](http://pbs.twimg.com/media/ElyMGZFWkAA7Fx2.jpg) |\n",
      "| 24 | **[@neocartocnrs](https://t.co/1GcTGraT9T)**    |         8 |         14 | ![](http://pbs.twimg.com/media/Elz2OvNXEAAItfe.jpg) |\n",
      "|  2 | **[@tomasral](https://t.co/khysneCwjM))**       |         5 |         35 | ![](http://pbs.twimg.com/media/El2FR9gXUAAU3Uf.jpg) |\n",
      "| 57 | **[@nurussadad](https://t.co/z4HaIfQMBi)**      |         4 |          7 | ![](http://pbs.twimg.com/media/ElxuzgpU0AEIbdT.png) |\n",
      "|  7 | **[@geologyjesse](https://t.co/dR68mE4zhD)**    |         4 |         14 | ![](http://pbs.twimg.com/media/El1vroKWoAEozEk.jpg) |\n"
     ]
    }
   ],
   "source": [
    "# print(tabulate(df_late_rt, headers='keys', tablefmt='github'))"
   ]
  },
  {
   "cell_type": "code",
   "execution_count": null,
   "metadata": {},
   "outputs": [],
   "source": []
  },
  {
   "cell_type": "code",
   "execution_count": null,
   "metadata": {},
   "outputs": [],
   "source": []
  },
  {
   "cell_type": "code",
   "execution_count": null,
   "metadata": {},
   "outputs": [],
   "source": []
  },
  {
   "cell_type": "markdown",
   "metadata": {},
   "source": [
    "### Send tweet via API"
   ]
  },
  {
   "cell_type": "code",
   "execution_count": 48,
   "metadata": {},
   "outputs": [],
   "source": [
    "status = 'A github repo of monitoring tweets feeds with wonderful maps. Github: https://github.com/hn303/30DayMapChallenge-Bot'"
   ]
  },
  {
   "cell_type": "code",
   "execution_count": 45,
   "metadata": {},
   "outputs": [],
   "source": [
    "imagePath = \"screenshot/github.com_hn303_30DayMapChallenge-Bot.png\""
   ]
  },
  {
   "cell_type": "code",
   "execution_count": 49,
   "metadata": {},
   "outputs": [
    {
     "data": {
      "text/plain": [
       "Status(_api=<tweepy.api.API object at 0x000001D700B3FC88>, _json={'created_at': 'Wed Nov 04 13:14:23 +0000 2020', 'id': 1323976890621792256, 'id_str': '1323976890621792256', 'text': 'A github repo of monitoring tweets feeds with wonderful maps. **Github**:https://t.co/J1NHDOPpdT', 'truncated': False, 'entities': {'hashtags': [], 'symbols': [], 'user_mentions': [], 'urls': [{'url': 'https://t.co/J1NHDOPpdT', 'expanded_url': 'https://github.com/hn303/30DayMapChallenge-Bot', 'display_url': 'github.com/hn303/30DayMap…', 'indices': [73, 96]}]}, 'source': '<a href=\"https://www.landecon.cam.ac.uk/research/research-centres/lisa/members\" rel=\"nofollow\">Untitle_APP3</a>', 'in_reply_to_status_id': None, 'in_reply_to_status_id_str': None, 'in_reply_to_user_id': None, 'in_reply_to_user_id_str': None, 'in_reply_to_screen_name': None, 'user': {'id': 1078706606488068096, 'id_str': '1078706606488068096', 'name': 'Stan', 'screen_name': 'Stan_CamLE', 'location': '', 'description': '', 'url': None, 'entities': {'description': {'urls': []}}, 'protected': False, 'followers_count': 0, 'friends_count': 47, 'listed_count': 0, 'created_at': 'Fri Dec 28 17:37:51 +0000 2018', 'favourites_count': 1, 'utc_offset': None, 'time_zone': None, 'geo_enabled': False, 'verified': False, 'statuses_count': 7, 'lang': None, 'contributors_enabled': False, 'is_translator': False, 'is_translation_enabled': False, 'profile_background_color': 'F5F8FA', 'profile_background_image_url': None, 'profile_background_image_url_https': None, 'profile_background_tile': False, 'profile_image_url': 'http://pbs.twimg.com/profile_images/1083336903250898944/iOaAhsj6_normal.jpg', 'profile_image_url_https': 'https://pbs.twimg.com/profile_images/1083336903250898944/iOaAhsj6_normal.jpg', 'profile_banner_url': 'https://pbs.twimg.com/profile_banners/1078706606488068096/1546019581', 'profile_link_color': '1DA1F2', 'profile_sidebar_border_color': 'C0DEED', 'profile_sidebar_fill_color': 'DDEEF6', 'profile_text_color': '333333', 'profile_use_background_image': True, 'has_extended_profile': False, 'default_profile': True, 'default_profile_image': False, 'following': False, 'follow_request_sent': False, 'notifications': False, 'translator_type': 'none'}, 'geo': None, 'coordinates': None, 'place': None, 'contributors': None, 'is_quote_status': False, 'retweet_count': 0, 'favorite_count': 0, 'favorited': False, 'retweeted': False, 'possibly_sensitive': False, 'lang': 'en'}, created_at=datetime.datetime(2020, 11, 4, 13, 14, 23), id=1323976890621792256, id_str='1323976890621792256', text='A github repo of monitoring tweets feeds with wonderful maps. **Github**:https://t.co/J1NHDOPpdT', truncated=False, entities={'hashtags': [], 'symbols': [], 'user_mentions': [], 'urls': [{'url': 'https://t.co/J1NHDOPpdT', 'expanded_url': 'https://github.com/hn303/30DayMapChallenge-Bot', 'display_url': 'github.com/hn303/30DayMap…', 'indices': [73, 96]}]}, source='Untitle_APP3', source_url='https://www.landecon.cam.ac.uk/research/research-centres/lisa/members', in_reply_to_status_id=None, in_reply_to_status_id_str=None, in_reply_to_user_id=None, in_reply_to_user_id_str=None, in_reply_to_screen_name=None, author=User(_api=<tweepy.api.API object at 0x000001D700B3FC88>, _json={'id': 1078706606488068096, 'id_str': '1078706606488068096', 'name': 'Stan', 'screen_name': 'Stan_CamLE', 'location': '', 'description': '', 'url': None, 'entities': {'description': {'urls': []}}, 'protected': False, 'followers_count': 0, 'friends_count': 47, 'listed_count': 0, 'created_at': 'Fri Dec 28 17:37:51 +0000 2018', 'favourites_count': 1, 'utc_offset': None, 'time_zone': None, 'geo_enabled': False, 'verified': False, 'statuses_count': 7, 'lang': None, 'contributors_enabled': False, 'is_translator': False, 'is_translation_enabled': False, 'profile_background_color': 'F5F8FA', 'profile_background_image_url': None, 'profile_background_image_url_https': None, 'profile_background_tile': False, 'profile_image_url': 'http://pbs.twimg.com/profile_images/1083336903250898944/iOaAhsj6_normal.jpg', 'profile_image_url_https': 'https://pbs.twimg.com/profile_images/1083336903250898944/iOaAhsj6_normal.jpg', 'profile_banner_url': 'https://pbs.twimg.com/profile_banners/1078706606488068096/1546019581', 'profile_link_color': '1DA1F2', 'profile_sidebar_border_color': 'C0DEED', 'profile_sidebar_fill_color': 'DDEEF6', 'profile_text_color': '333333', 'profile_use_background_image': True, 'has_extended_profile': False, 'default_profile': True, 'default_profile_image': False, 'following': False, 'follow_request_sent': False, 'notifications': False, 'translator_type': 'none'}, id=1078706606488068096, id_str='1078706606488068096', name='Stan', screen_name='Stan_CamLE', location='', description='', url=None, entities={'description': {'urls': []}}, protected=False, followers_count=0, friends_count=47, listed_count=0, created_at=datetime.datetime(2018, 12, 28, 17, 37, 51), favourites_count=1, utc_offset=None, time_zone=None, geo_enabled=False, verified=False, statuses_count=7, lang=None, contributors_enabled=False, is_translator=False, is_translation_enabled=False, profile_background_color='F5F8FA', profile_background_image_url=None, profile_background_image_url_https=None, profile_background_tile=False, profile_image_url='http://pbs.twimg.com/profile_images/1083336903250898944/iOaAhsj6_normal.jpg', profile_image_url_https='https://pbs.twimg.com/profile_images/1083336903250898944/iOaAhsj6_normal.jpg', profile_banner_url='https://pbs.twimg.com/profile_banners/1078706606488068096/1546019581', profile_link_color='1DA1F2', profile_sidebar_border_color='C0DEED', profile_sidebar_fill_color='DDEEF6', profile_text_color='333333', profile_use_background_image=True, has_extended_profile=False, default_profile=True, default_profile_image=False, following=False, follow_request_sent=False, notifications=False, translator_type='none'), user=User(_api=<tweepy.api.API object at 0x000001D700B3FC88>, _json={'id': 1078706606488068096, 'id_str': '1078706606488068096', 'name': 'Stan', 'screen_name': 'Stan_CamLE', 'location': '', 'description': '', 'url': None, 'entities': {'description': {'urls': []}}, 'protected': False, 'followers_count': 0, 'friends_count': 47, 'listed_count': 0, 'created_at': 'Fri Dec 28 17:37:51 +0000 2018', 'favourites_count': 1, 'utc_offset': None, 'time_zone': None, 'geo_enabled': False, 'verified': False, 'statuses_count': 7, 'lang': None, 'contributors_enabled': False, 'is_translator': False, 'is_translation_enabled': False, 'profile_background_color': 'F5F8FA', 'profile_background_image_url': None, 'profile_background_image_url_https': None, 'profile_background_tile': False, 'profile_image_url': 'http://pbs.twimg.com/profile_images/1083336903250898944/iOaAhsj6_normal.jpg', 'profile_image_url_https': 'https://pbs.twimg.com/profile_images/1083336903250898944/iOaAhsj6_normal.jpg', 'profile_banner_url': 'https://pbs.twimg.com/profile_banners/1078706606488068096/1546019581', 'profile_link_color': '1DA1F2', 'profile_sidebar_border_color': 'C0DEED', 'profile_sidebar_fill_color': 'DDEEF6', 'profile_text_color': '333333', 'profile_use_background_image': True, 'has_extended_profile': False, 'default_profile': True, 'default_profile_image': False, 'following': False, 'follow_request_sent': False, 'notifications': False, 'translator_type': 'none'}, id=1078706606488068096, id_str='1078706606488068096', name='Stan', screen_name='Stan_CamLE', location='', description='', url=None, entities={'description': {'urls': []}}, protected=False, followers_count=0, friends_count=47, listed_count=0, created_at=datetime.datetime(2018, 12, 28, 17, 37, 51), favourites_count=1, utc_offset=None, time_zone=None, geo_enabled=False, verified=False, statuses_count=7, lang=None, contributors_enabled=False, is_translator=False, is_translation_enabled=False, profile_background_color='F5F8FA', profile_background_image_url=None, profile_background_image_url_https=None, profile_background_tile=False, profile_image_url='http://pbs.twimg.com/profile_images/1083336903250898944/iOaAhsj6_normal.jpg', profile_image_url_https='https://pbs.twimg.com/profile_images/1083336903250898944/iOaAhsj6_normal.jpg', profile_banner_url='https://pbs.twimg.com/profile_banners/1078706606488068096/1546019581', profile_link_color='1DA1F2', profile_sidebar_border_color='C0DEED', profile_sidebar_fill_color='DDEEF6', profile_text_color='333333', profile_use_background_image=True, has_extended_profile=False, default_profile=True, default_profile_image=False, following=False, follow_request_sent=False, notifications=False, translator_type='none'), geo=None, coordinates=None, place=None, contributors=None, is_quote_status=False, retweet_count=0, favorite_count=0, favorited=False, retweeted=False, possibly_sensitive=False, lang='en')"
      ]
     },
     "execution_count": 49,
     "metadata": {},
     "output_type": "execute_result"
    }
   ],
   "source": [
    "api.update_status(status)"
   ]
  },
  {
   "cell_type": "code",
   "execution_count": 46,
   "metadata": {},
   "outputs": [
    {
     "data": {
      "text/plain": [
       "Status(_api=<tweepy.api.API object at 0x000001D700B3FC88>, _json={'created_at': 'Wed Nov 04 12:58:56 +0000 2020', 'id': 1323973002543976450, 'id_str': '1323973002543976450', 'text': 'A github repo of monitoring tweets feeds with wonderful maps. https://t.co/J1NHDOPpdT https://t.co/HwA2aVTax1', 'truncated': False, 'entities': {'hashtags': [], 'symbols': [], 'user_mentions': [], 'urls': [{'url': 'https://t.co/J1NHDOPpdT', 'expanded_url': 'https://github.com/hn303/30DayMapChallenge-Bot', 'display_url': 'github.com/hn303/30DayMap…', 'indices': [62, 85]}], 'media': [{'id': 1323972999717003266, 'id_str': '1323972999717003266', 'indices': [86, 109], 'media_url': 'http://pbs.twimg.com/media/El-ybbRXIAICiB1.jpg', 'media_url_https': 'https://pbs.twimg.com/media/El-ybbRXIAICiB1.jpg', 'url': 'https://t.co/HwA2aVTax1', 'display_url': 'pic.twitter.com/HwA2aVTax1', 'expanded_url': 'https://twitter.com/Stan_CamLE/status/1323973002543976450/photo/1', 'type': 'photo', 'sizes': {'thumb': {'w': 150, 'h': 150, 'resize': 'crop'}, 'medium': {'w': 271, 'h': 1200, 'resize': 'fit'}, 'small': {'w': 153, 'h': 680, 'resize': 'fit'}, 'large': {'w': 462, 'h': 2048, 'resize': 'fit'}}}]}, 'extended_entities': {'media': [{'id': 1323972999717003266, 'id_str': '1323972999717003266', 'indices': [86, 109], 'media_url': 'http://pbs.twimg.com/media/El-ybbRXIAICiB1.jpg', 'media_url_https': 'https://pbs.twimg.com/media/El-ybbRXIAICiB1.jpg', 'url': 'https://t.co/HwA2aVTax1', 'display_url': 'pic.twitter.com/HwA2aVTax1', 'expanded_url': 'https://twitter.com/Stan_CamLE/status/1323973002543976450/photo/1', 'type': 'photo', 'sizes': {'thumb': {'w': 150, 'h': 150, 'resize': 'crop'}, 'medium': {'w': 271, 'h': 1200, 'resize': 'fit'}, 'small': {'w': 153, 'h': 680, 'resize': 'fit'}, 'large': {'w': 462, 'h': 2048, 'resize': 'fit'}}}]}, 'source': '<a href=\"https://www.landecon.cam.ac.uk/research/research-centres/lisa/members\" rel=\"nofollow\">Untitle_APP3</a>', 'in_reply_to_status_id': None, 'in_reply_to_status_id_str': None, 'in_reply_to_user_id': None, 'in_reply_to_user_id_str': None, 'in_reply_to_screen_name': None, 'user': {'id': 1078706606488068096, 'id_str': '1078706606488068096', 'name': 'Stan', 'screen_name': 'Stan_CamLE', 'location': '', 'description': '', 'url': None, 'entities': {'description': {'urls': []}}, 'protected': False, 'followers_count': 0, 'friends_count': 47, 'listed_count': 0, 'created_at': 'Fri Dec 28 17:37:51 +0000 2018', 'favourites_count': 1, 'utc_offset': None, 'time_zone': None, 'geo_enabled': False, 'verified': False, 'statuses_count': 7, 'lang': None, 'contributors_enabled': False, 'is_translator': False, 'is_translation_enabled': False, 'profile_background_color': 'F5F8FA', 'profile_background_image_url': None, 'profile_background_image_url_https': None, 'profile_background_tile': False, 'profile_image_url': 'http://pbs.twimg.com/profile_images/1083336903250898944/iOaAhsj6_normal.jpg', 'profile_image_url_https': 'https://pbs.twimg.com/profile_images/1083336903250898944/iOaAhsj6_normal.jpg', 'profile_banner_url': 'https://pbs.twimg.com/profile_banners/1078706606488068096/1546019581', 'profile_link_color': '1DA1F2', 'profile_sidebar_border_color': 'C0DEED', 'profile_sidebar_fill_color': 'DDEEF6', 'profile_text_color': '333333', 'profile_use_background_image': True, 'has_extended_profile': False, 'default_profile': True, 'default_profile_image': False, 'following': False, 'follow_request_sent': False, 'notifications': False, 'translator_type': 'none'}, 'geo': None, 'coordinates': None, 'place': None, 'contributors': None, 'is_quote_status': False, 'retweet_count': 0, 'favorite_count': 0, 'favorited': False, 'retweeted': False, 'possibly_sensitive': False, 'lang': 'en'}, created_at=datetime.datetime(2020, 11, 4, 12, 58, 56), id=1323973002543976450, id_str='1323973002543976450', text='A github repo of monitoring tweets feeds with wonderful maps. https://t.co/J1NHDOPpdT https://t.co/HwA2aVTax1', truncated=False, entities={'hashtags': [], 'symbols': [], 'user_mentions': [], 'urls': [{'url': 'https://t.co/J1NHDOPpdT', 'expanded_url': 'https://github.com/hn303/30DayMapChallenge-Bot', 'display_url': 'github.com/hn303/30DayMap…', 'indices': [62, 85]}], 'media': [{'id': 1323972999717003266, 'id_str': '1323972999717003266', 'indices': [86, 109], 'media_url': 'http://pbs.twimg.com/media/El-ybbRXIAICiB1.jpg', 'media_url_https': 'https://pbs.twimg.com/media/El-ybbRXIAICiB1.jpg', 'url': 'https://t.co/HwA2aVTax1', 'display_url': 'pic.twitter.com/HwA2aVTax1', 'expanded_url': 'https://twitter.com/Stan_CamLE/status/1323973002543976450/photo/1', 'type': 'photo', 'sizes': {'thumb': {'w': 150, 'h': 150, 'resize': 'crop'}, 'medium': {'w': 271, 'h': 1200, 'resize': 'fit'}, 'small': {'w': 153, 'h': 680, 'resize': 'fit'}, 'large': {'w': 462, 'h': 2048, 'resize': 'fit'}}}]}, extended_entities={'media': [{'id': 1323972999717003266, 'id_str': '1323972999717003266', 'indices': [86, 109], 'media_url': 'http://pbs.twimg.com/media/El-ybbRXIAICiB1.jpg', 'media_url_https': 'https://pbs.twimg.com/media/El-ybbRXIAICiB1.jpg', 'url': 'https://t.co/HwA2aVTax1', 'display_url': 'pic.twitter.com/HwA2aVTax1', 'expanded_url': 'https://twitter.com/Stan_CamLE/status/1323973002543976450/photo/1', 'type': 'photo', 'sizes': {'thumb': {'w': 150, 'h': 150, 'resize': 'crop'}, 'medium': {'w': 271, 'h': 1200, 'resize': 'fit'}, 'small': {'w': 153, 'h': 680, 'resize': 'fit'}, 'large': {'w': 462, 'h': 2048, 'resize': 'fit'}}}]}, source='Untitle_APP3', source_url='https://www.landecon.cam.ac.uk/research/research-centres/lisa/members', in_reply_to_status_id=None, in_reply_to_status_id_str=None, in_reply_to_user_id=None, in_reply_to_user_id_str=None, in_reply_to_screen_name=None, author=User(_api=<tweepy.api.API object at 0x000001D700B3FC88>, _json={'id': 1078706606488068096, 'id_str': '1078706606488068096', 'name': 'Stan', 'screen_name': 'Stan_CamLE', 'location': '', 'description': '', 'url': None, 'entities': {'description': {'urls': []}}, 'protected': False, 'followers_count': 0, 'friends_count': 47, 'listed_count': 0, 'created_at': 'Fri Dec 28 17:37:51 +0000 2018', 'favourites_count': 1, 'utc_offset': None, 'time_zone': None, 'geo_enabled': False, 'verified': False, 'statuses_count': 7, 'lang': None, 'contributors_enabled': False, 'is_translator': False, 'is_translation_enabled': False, 'profile_background_color': 'F5F8FA', 'profile_background_image_url': None, 'profile_background_image_url_https': None, 'profile_background_tile': False, 'profile_image_url': 'http://pbs.twimg.com/profile_images/1083336903250898944/iOaAhsj6_normal.jpg', 'profile_image_url_https': 'https://pbs.twimg.com/profile_images/1083336903250898944/iOaAhsj6_normal.jpg', 'profile_banner_url': 'https://pbs.twimg.com/profile_banners/1078706606488068096/1546019581', 'profile_link_color': '1DA1F2', 'profile_sidebar_border_color': 'C0DEED', 'profile_sidebar_fill_color': 'DDEEF6', 'profile_text_color': '333333', 'profile_use_background_image': True, 'has_extended_profile': False, 'default_profile': True, 'default_profile_image': False, 'following': False, 'follow_request_sent': False, 'notifications': False, 'translator_type': 'none'}, id=1078706606488068096, id_str='1078706606488068096', name='Stan', screen_name='Stan_CamLE', location='', description='', url=None, entities={'description': {'urls': []}}, protected=False, followers_count=0, friends_count=47, listed_count=0, created_at=datetime.datetime(2018, 12, 28, 17, 37, 51), favourites_count=1, utc_offset=None, time_zone=None, geo_enabled=False, verified=False, statuses_count=7, lang=None, contributors_enabled=False, is_translator=False, is_translation_enabled=False, profile_background_color='F5F8FA', profile_background_image_url=None, profile_background_image_url_https=None, profile_background_tile=False, profile_image_url='http://pbs.twimg.com/profile_images/1083336903250898944/iOaAhsj6_normal.jpg', profile_image_url_https='https://pbs.twimg.com/profile_images/1083336903250898944/iOaAhsj6_normal.jpg', profile_banner_url='https://pbs.twimg.com/profile_banners/1078706606488068096/1546019581', profile_link_color='1DA1F2', profile_sidebar_border_color='C0DEED', profile_sidebar_fill_color='DDEEF6', profile_text_color='333333', profile_use_background_image=True, has_extended_profile=False, default_profile=True, default_profile_image=False, following=False, follow_request_sent=False, notifications=False, translator_type='none'), user=User(_api=<tweepy.api.API object at 0x000001D700B3FC88>, _json={'id': 1078706606488068096, 'id_str': '1078706606488068096', 'name': 'Stan', 'screen_name': 'Stan_CamLE', 'location': '', 'description': '', 'url': None, 'entities': {'description': {'urls': []}}, 'protected': False, 'followers_count': 0, 'friends_count': 47, 'listed_count': 0, 'created_at': 'Fri Dec 28 17:37:51 +0000 2018', 'favourites_count': 1, 'utc_offset': None, 'time_zone': None, 'geo_enabled': False, 'verified': False, 'statuses_count': 7, 'lang': None, 'contributors_enabled': False, 'is_translator': False, 'is_translation_enabled': False, 'profile_background_color': 'F5F8FA', 'profile_background_image_url': None, 'profile_background_image_url_https': None, 'profile_background_tile': False, 'profile_image_url': 'http://pbs.twimg.com/profile_images/1083336903250898944/iOaAhsj6_normal.jpg', 'profile_image_url_https': 'https://pbs.twimg.com/profile_images/1083336903250898944/iOaAhsj6_normal.jpg', 'profile_banner_url': 'https://pbs.twimg.com/profile_banners/1078706606488068096/1546019581', 'profile_link_color': '1DA1F2', 'profile_sidebar_border_color': 'C0DEED', 'profile_sidebar_fill_color': 'DDEEF6', 'profile_text_color': '333333', 'profile_use_background_image': True, 'has_extended_profile': False, 'default_profile': True, 'default_profile_image': False, 'following': False, 'follow_request_sent': False, 'notifications': False, 'translator_type': 'none'}, id=1078706606488068096, id_str='1078706606488068096', name='Stan', screen_name='Stan_CamLE', location='', description='', url=None, entities={'description': {'urls': []}}, protected=False, followers_count=0, friends_count=47, listed_count=0, created_at=datetime.datetime(2018, 12, 28, 17, 37, 51), favourites_count=1, utc_offset=None, time_zone=None, geo_enabled=False, verified=False, statuses_count=7, lang=None, contributors_enabled=False, is_translator=False, is_translation_enabled=False, profile_background_color='F5F8FA', profile_background_image_url=None, profile_background_image_url_https=None, profile_background_tile=False, profile_image_url='http://pbs.twimg.com/profile_images/1083336903250898944/iOaAhsj6_normal.jpg', profile_image_url_https='https://pbs.twimg.com/profile_images/1083336903250898944/iOaAhsj6_normal.jpg', profile_banner_url='https://pbs.twimg.com/profile_banners/1078706606488068096/1546019581', profile_link_color='1DA1F2', profile_sidebar_border_color='C0DEED', profile_sidebar_fill_color='DDEEF6', profile_text_color='333333', profile_use_background_image=True, has_extended_profile=False, default_profile=True, default_profile_image=False, following=False, follow_request_sent=False, notifications=False, translator_type='none'), geo=None, coordinates=None, place=None, contributors=None, is_quote_status=False, retweet_count=0, favorite_count=0, favorited=False, retweeted=False, possibly_sensitive=False, lang='en')"
      ]
     },
     "execution_count": 46,
     "metadata": {},
     "output_type": "execute_result"
    }
   ],
   "source": [
    "api.update_with_media(imagePath, status)"
   ]
  },
  {
   "cell_type": "code",
   "execution_count": null,
   "metadata": {},
   "outputs": [],
   "source": []
  }
 ],
 "metadata": {
  "kernelspec": {
   "display_name": "Python 3",
   "language": "python",
   "name": "python3"
  },
  "language_info": {
   "codemirror_mode": {
    "name": "ipython",
    "version": 3
   },
   "file_extension": ".py",
   "mimetype": "text/x-python",
   "name": "python",
   "nbconvert_exporter": "python",
   "pygments_lexer": "ipython3",
   "version": "3.7.6"
  }
 },
 "nbformat": 4,
 "nbformat_minor": 4
}
